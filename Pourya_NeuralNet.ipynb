{
  "cells": [
    {
      "cell_type": "markdown",
      "metadata": {
        "id": "view-in-github",
        "colab_type": "text"
      },
      "source": [
        "<a href=\"https://colab.research.google.com/github/Yutong-Lu/Datathon-4/blob/main/Pourya_NeuralNet.ipynb\" target=\"_parent\"><img src=\"https://colab.research.google.com/assets/colab-badge.svg\" alt=\"Open In Colab\"/></a>"
      ]
    },
    {
      "cell_type": "code",
      "execution_count": null,
      "metadata": {
        "colab": {
          "base_uri": "https://localhost:8080/"
        },
        "id": "lyNqOLHfwrO4",
        "outputId": "b7399d1e-3be8-43d8-f96b-c9ec1b1bab48"
      },
      "outputs": [
        {
          "name": "stdout",
          "output_type": "stream",
          "text": [
            "Cloning into 'Datathon-4'...\n",
            "remote: Enumerating objects: 56, done.\u001b[K\n",
            "remote: Counting objects: 100% (56/56), done.\u001b[K\n",
            "remote: Compressing objects: 100% (46/46), done.\u001b[K\n",
            "remote: Total 56 (delta 23), reused 21 (delta 6), pack-reused 0\u001b[K\n",
            "Receiving objects: 100% (56/56), 15.61 MiB | 9.47 MiB/s, done.\n",
            "Resolving deltas: 100% (23/23), done.\n"
          ]
        }
      ],
      "source": [
        "!git clone https://github.com/Yutong-Lu/Datathon-4.git"
      ]
    },
    {
      "cell_type": "code",
      "execution_count": null,
      "metadata": {
        "colab": {
          "base_uri": "https://localhost:8080/"
        },
        "id": "Igq56DHKwtbJ",
        "outputId": "ddde2b6f-20e3-4bb2-f70c-df68ba9c6c52"
      },
      "outputs": [
        {
          "name": "stdout",
          "output_type": "stream",
          "text": [
            "/content/Datathon-4\n"
          ]
        }
      ],
      "source": [
        "cd ./Datathon-4"
      ]
    },
    {
      "cell_type": "code",
      "execution_count": null,
      "metadata": {
        "id": "Z1pOromzwpJQ"
      },
      "outputs": [],
      "source": [
        "import pandas as pd\n",
        "import io\n",
        "import csv\n",
        "import numpy as np\n",
        "import seaborn as sns\n",
        "import matplotlib.pyplot as plt\n",
        "from sklearn.preprocessing import LabelEncoder\n",
        "from sklearn.model_selection import train_test_split\n",
        "from sklearn.metrics import accuracy_score, precision_score, recall_score, f1_score, confusion_matrix\n",
        "from sklearn.feature_selection import VarianceThreshold"
      ]
    },
    {
      "cell_type": "code",
      "execution_count": null,
      "metadata": {
        "id": "9kHhqtccwpJU"
      },
      "outputs": [],
      "source": [
        "def get_dataframe(name):\n",
        "    df = pd.read_csv(f'{name}.csv')\n",
        "    return df"
      ]
    },
    {
      "cell_type": "code",
      "execution_count": null,
      "metadata": {
        "colab": {
          "base_uri": "https://localhost:8080/",
          "height": 256
        },
        "id": "JBZ1CVpjwpJV",
        "outputId": "03387bae-36d1-41cc-af98-911cdb1c28d3"
      },
      "outputs": [
        {
          "data": {
            "text/html": [
              "<div>\n",
              "<style scoped>\n",
              "    .dataframe tbody tr th:only-of-type {\n",
              "        vertical-align: middle;\n",
              "    }\n",
              "\n",
              "    .dataframe tbody tr th {\n",
              "        vertical-align: top;\n",
              "    }\n",
              "\n",
              "    .dataframe thead th {\n",
              "        text-align: right;\n",
              "    }\n",
              "</style>\n",
              "<table border=\"1\" class=\"dataframe\">\n",
              "  <thead>\n",
              "    <tr style=\"text-align: right;\">\n",
              "      <th></th>\n",
              "      <th>encounter_id</th>\n",
              "      <th>patient_id</th>\n",
              "      <th>hospital_id</th>\n",
              "      <th>hospital_death</th>\n",
              "      <th>age</th>\n",
              "      <th>bmi</th>\n",
              "      <th>elective_surgery</th>\n",
              "      <th>ethnicity</th>\n",
              "      <th>gender</th>\n",
              "      <th>height</th>\n",
              "      <th>...</th>\n",
              "      <th>aids</th>\n",
              "      <th>cirrhosis</th>\n",
              "      <th>diabetes_mellitus</th>\n",
              "      <th>hepatic_failure</th>\n",
              "      <th>immunosuppression</th>\n",
              "      <th>leukemia</th>\n",
              "      <th>lymphoma</th>\n",
              "      <th>solid_tumor_with_metastasis</th>\n",
              "      <th>apache_3j_bodysystem</th>\n",
              "      <th>apache_2_bodysystem</th>\n",
              "    </tr>\n",
              "  </thead>\n",
              "  <tbody>\n",
              "    <tr>\n",
              "      <th>0</th>\n",
              "      <td>66154</td>\n",
              "      <td>25312</td>\n",
              "      <td>118</td>\n",
              "      <td>0</td>\n",
              "      <td>68.0</td>\n",
              "      <td>22.73</td>\n",
              "      <td>0</td>\n",
              "      <td>Caucasian</td>\n",
              "      <td>M</td>\n",
              "      <td>180.3</td>\n",
              "      <td>...</td>\n",
              "      <td>0.0</td>\n",
              "      <td>0.0</td>\n",
              "      <td>1.0</td>\n",
              "      <td>0.0</td>\n",
              "      <td>0.0</td>\n",
              "      <td>0.0</td>\n",
              "      <td>0.0</td>\n",
              "      <td>0.0</td>\n",
              "      <td>Sepsis</td>\n",
              "      <td>Cardiovascular</td>\n",
              "    </tr>\n",
              "    <tr>\n",
              "      <th>1</th>\n",
              "      <td>114252</td>\n",
              "      <td>59342</td>\n",
              "      <td>81</td>\n",
              "      <td>0</td>\n",
              "      <td>77.0</td>\n",
              "      <td>27.42</td>\n",
              "      <td>0</td>\n",
              "      <td>Caucasian</td>\n",
              "      <td>F</td>\n",
              "      <td>160.0</td>\n",
              "      <td>...</td>\n",
              "      <td>0.0</td>\n",
              "      <td>0.0</td>\n",
              "      <td>1.0</td>\n",
              "      <td>0.0</td>\n",
              "      <td>0.0</td>\n",
              "      <td>0.0</td>\n",
              "      <td>0.0</td>\n",
              "      <td>0.0</td>\n",
              "      <td>Respiratory</td>\n",
              "      <td>Respiratory</td>\n",
              "    </tr>\n",
              "    <tr>\n",
              "      <th>2</th>\n",
              "      <td>119783</td>\n",
              "      <td>50777</td>\n",
              "      <td>118</td>\n",
              "      <td>0</td>\n",
              "      <td>25.0</td>\n",
              "      <td>31.95</td>\n",
              "      <td>0</td>\n",
              "      <td>Caucasian</td>\n",
              "      <td>F</td>\n",
              "      <td>172.7</td>\n",
              "      <td>...</td>\n",
              "      <td>0.0</td>\n",
              "      <td>0.0</td>\n",
              "      <td>0.0</td>\n",
              "      <td>0.0</td>\n",
              "      <td>0.0</td>\n",
              "      <td>0.0</td>\n",
              "      <td>0.0</td>\n",
              "      <td>0.0</td>\n",
              "      <td>Metabolic</td>\n",
              "      <td>Metabolic</td>\n",
              "    </tr>\n",
              "    <tr>\n",
              "      <th>3</th>\n",
              "      <td>79267</td>\n",
              "      <td>46918</td>\n",
              "      <td>118</td>\n",
              "      <td>0</td>\n",
              "      <td>81.0</td>\n",
              "      <td>22.64</td>\n",
              "      <td>1</td>\n",
              "      <td>Caucasian</td>\n",
              "      <td>F</td>\n",
              "      <td>165.1</td>\n",
              "      <td>...</td>\n",
              "      <td>0.0</td>\n",
              "      <td>0.0</td>\n",
              "      <td>0.0</td>\n",
              "      <td>0.0</td>\n",
              "      <td>0.0</td>\n",
              "      <td>0.0</td>\n",
              "      <td>0.0</td>\n",
              "      <td>0.0</td>\n",
              "      <td>Cardiovascular</td>\n",
              "      <td>Cardiovascular</td>\n",
              "    </tr>\n",
              "    <tr>\n",
              "      <th>4</th>\n",
              "      <td>92056</td>\n",
              "      <td>34377</td>\n",
              "      <td>33</td>\n",
              "      <td>0</td>\n",
              "      <td>19.0</td>\n",
              "      <td>NaN</td>\n",
              "      <td>0</td>\n",
              "      <td>Caucasian</td>\n",
              "      <td>M</td>\n",
              "      <td>188.0</td>\n",
              "      <td>...</td>\n",
              "      <td>0.0</td>\n",
              "      <td>0.0</td>\n",
              "      <td>0.0</td>\n",
              "      <td>0.0</td>\n",
              "      <td>0.0</td>\n",
              "      <td>0.0</td>\n",
              "      <td>0.0</td>\n",
              "      <td>0.0</td>\n",
              "      <td>Trauma</td>\n",
              "      <td>Trauma</td>\n",
              "    </tr>\n",
              "  </tbody>\n",
              "</table>\n",
              "<p>5 rows × 186 columns</p>\n",
              "</div>"
            ],
            "text/plain": [
              "   encounter_id  patient_id  hospital_id  hospital_death   age    bmi  \\\n",
              "0         66154       25312          118               0  68.0  22.73   \n",
              "1        114252       59342           81               0  77.0  27.42   \n",
              "2        119783       50777          118               0  25.0  31.95   \n",
              "3         79267       46918          118               0  81.0  22.64   \n",
              "4         92056       34377           33               0  19.0    NaN   \n",
              "\n",
              "   elective_surgery  ethnicity gender  height  ... aids cirrhosis  \\\n",
              "0                 0  Caucasian      M   180.3  ...  0.0       0.0   \n",
              "1                 0  Caucasian      F   160.0  ...  0.0       0.0   \n",
              "2                 0  Caucasian      F   172.7  ...  0.0       0.0   \n",
              "3                 1  Caucasian      F   165.1  ...  0.0       0.0   \n",
              "4                 0  Caucasian      M   188.0  ...  0.0       0.0   \n",
              "\n",
              "   diabetes_mellitus hepatic_failure immunosuppression  leukemia  lymphoma  \\\n",
              "0                1.0             0.0               0.0       0.0       0.0   \n",
              "1                1.0             0.0               0.0       0.0       0.0   \n",
              "2                0.0             0.0               0.0       0.0       0.0   \n",
              "3                0.0             0.0               0.0       0.0       0.0   \n",
              "4                0.0             0.0               0.0       0.0       0.0   \n",
              "\n",
              "   solid_tumor_with_metastasis  apache_3j_bodysystem  apache_2_bodysystem  \n",
              "0                          0.0                Sepsis       Cardiovascular  \n",
              "1                          0.0           Respiratory          Respiratory  \n",
              "2                          0.0             Metabolic            Metabolic  \n",
              "3                          0.0        Cardiovascular       Cardiovascular  \n",
              "4                          0.0                Trauma               Trauma  \n",
              "\n",
              "[5 rows x 186 columns]"
            ]
          },
          "execution_count": 3,
          "metadata": {},
          "output_type": "execute_result"
        }
      ],
      "source": [
        "name = 'datathon4'\n",
        "df = get_dataframe(name)\n",
        "df.head()"
      ]
    },
    {
      "cell_type": "code",
      "execution_count": null,
      "metadata": {
        "colab": {
          "base_uri": "https://localhost:8080/"
        },
        "id": "B3PElBjKyxIG",
        "outputId": "0207ec76-0cfd-45ed-e48e-e2ee8f791b81"
      },
      "outputs": [
        {
          "data": {
            "text/plain": [
              "encounter_id                      0\n",
              "patient_id                        0\n",
              "hospital_id                       0\n",
              "hospital_death                    0\n",
              "age                            4228\n",
              "                               ... \n",
              "leukemia                        715\n",
              "lymphoma                        715\n",
              "solid_tumor_with_metastasis     715\n",
              "apache_3j_bodysystem           1662\n",
              "apache_2_bodysystem            1662\n",
              "Length: 186, dtype: int64"
            ]
          },
          "execution_count": 4,
          "metadata": {},
          "output_type": "execute_result"
        }
      ],
      "source": [
        "df.isna().sum()"
      ]
    },
    {
      "cell_type": "code",
      "execution_count": null,
      "metadata": {
        "colab": {
          "base_uri": "https://localhost:8080/"
        },
        "id": "FgEnLtdZyfHP",
        "outputId": "453ca070-fc57-4f06-d6a5-87aadba8d2bd"
      },
      "outputs": [
        {
          "name": "stdout",
          "output_type": "stream",
          "text": [
            "(91713, 186)\n",
            "(91713, 112)\n"
          ]
        }
      ],
      "source": [
        "print(df.shape)\n",
        "df = df.dropna(axis=1, thresh=df.shape[0] * (3/4))\n",
        "print(df.shape)"
      ]
    },
    {
      "cell_type": "code",
      "execution_count": null,
      "metadata": {
        "colab": {
          "base_uri": "https://localhost:8080/"
        },
        "id": "SKtBPbNeJZN6",
        "outputId": "ce5202d5-3171-48a7-f8f9-8b9b01a5b646"
      },
      "outputs": [
        {
          "name": "stdout",
          "output_type": "stream",
          "text": [
            "['encounter_id', 'patient_id', 'hospital_id', 'hospital_death', 'age', 'bmi', 'elective_surgery', 'ethnicity', 'gender', 'height', 'hospital_admit_source', 'icu_admit_source', 'icu_id', 'icu_stay_type', 'icu_type', 'pre_icu_los_days', 'readmission_status', 'weight', 'apache_2_diagnosis', 'apache_3j_diagnosis', 'apache_post_operative', 'arf_apache', 'bun_apache', 'creatinine_apache', 'gcs_eyes_apache', 'gcs_motor_apache', 'gcs_unable_apache', 'gcs_verbal_apache', 'glucose_apache', 'heart_rate_apache', 'hematocrit_apache', 'intubated_apache', 'map_apache', 'resprate_apache', 'sodium_apache', 'temp_apache', 'ventilated_apache', 'wbc_apache', 'd1_diasbp_max', 'd1_diasbp_min', 'd1_diasbp_noninvasive_max', 'd1_diasbp_noninvasive_min', 'd1_heartrate_max', 'd1_heartrate_min', 'd1_mbp_max', 'd1_mbp_min', 'd1_mbp_noninvasive_max', 'd1_mbp_noninvasive_min', 'd1_resprate_max', 'd1_resprate_min', 'd1_spo2_max', 'd1_spo2_min', 'd1_sysbp_max', 'd1_sysbp_min', 'd1_sysbp_noninvasive_max', 'd1_sysbp_noninvasive_min', 'd1_temp_max', 'd1_temp_min', 'h1_diasbp_max', 'h1_diasbp_min', 'h1_diasbp_noninvasive_max', 'h1_diasbp_noninvasive_min', 'h1_heartrate_max', 'h1_heartrate_min', 'h1_mbp_max', 'h1_mbp_min', 'h1_mbp_noninvasive_max', 'h1_mbp_noninvasive_min', 'h1_resprate_max', 'h1_resprate_min', 'h1_spo2_max', 'h1_spo2_min', 'h1_sysbp_max', 'h1_sysbp_min', 'h1_sysbp_noninvasive_max', 'h1_sysbp_noninvasive_min', 'h1_temp_max', 'h1_temp_min', 'd1_bun_max', 'd1_bun_min', 'd1_calcium_max', 'd1_calcium_min', 'd1_creatinine_max', 'd1_creatinine_min', 'd1_glucose_max', 'd1_glucose_min', 'd1_hco3_max', 'd1_hco3_min', 'd1_hemaglobin_max', 'd1_hemaglobin_min', 'd1_hematocrit_max', 'd1_hematocrit_min', 'd1_platelets_max', 'd1_platelets_min', 'd1_potassium_max', 'd1_potassium_min', 'd1_sodium_max', 'd1_sodium_min', 'd1_wbc_max', 'd1_wbc_min', 'apache_4a_hospital_death_prob', 'apache_4a_icu_death_prob', 'aids', 'cirrhosis', 'diabetes_mellitus', 'hepatic_failure', 'immunosuppression', 'leukemia', 'lymphoma', 'solid_tumor_with_metastasis', 'apache_3j_bodysystem', 'apache_2_bodysystem']\n"
          ]
        }
      ],
      "source": [
        "print(df.columns.tolist())"
      ]
    },
    {
      "cell_type": "markdown",
      "metadata": {
        "id": "UCuliSFVOtKz"
      },
      "source": [
        "#Preparing train, validation, and test sets\n",
        "\n",
        "Based on the descriptions of the columns, 'apache_4a_hospital_death_prob' and 'apache_4a_icu_death_prob' both provide probabilistic predictions of mortality. Since they have a high correlation, we can combine them into a single target column for our mortality prediction neural network."
      ]
    },
    {
      "cell_type": "code",
      "execution_count": null,
      "metadata": {
        "id": "lwimwsDFO9DU"
      },
      "outputs": [],
      "source": [
        "df['mortality_prob'] = df[['apache_4a_hospital_death_prob', 'apache_4a_icu_death_prob']].mean(axis=1)\n",
        "df = df.drop(['apache_4a_hospital_death_prob', 'apache_4a_icu_death_prob'], axis=1)"
      ]
    },
    {
      "cell_type": "code",
      "execution_count": null,
      "metadata": {
        "id": "E7sQh0N2iBgN"
      },
      "outputs": [],
      "source": [
        "bins = [0, 0.1, 0.2, 0.3, 0.4, 0.5, 0.6, 0.7, 0.8, 0.9, 1]\n",
        "labels = [0, 1, 2, 3, 4, 5, 6, 7, 8, 9]\n",
        "\n",
        "df['mortality_prob'] = pd.cut(df['mortality_prob'], bins=bins, labels=labels)"
      ]
    },
    {
      "cell_type": "code",
      "execution_count": null,
      "metadata": {
        "id": "dJSdQlAxiBgN"
      },
      "outputs": [],
      "source": [
        "df = df.drop(['encounter_id', 'patient_id', 'hospital_id','icu_id'], axis=1)"
      ]
    },
    {
      "cell_type": "markdown",
      "metadata": {
        "id": "OcuY2JPYTS--"
      },
      "source": [
        "### encoding non-numerical data\n",
        "According to the below cell, we have identified that our non-numerical columns have limited number of values, suggesting that they are categorical variables. Categorical variables are those that can be divided into distinct categories. In many machine learning algorithms, these variables need to be converted into numerical form. This process is known as encoding. Encoding categorical variables can help improve the performance of machine learning algorithms by converting non-numerical data into numerical data that can be provided to ML algorithms to generate accurate prediction"
      ]
    },
    {
      "cell_type": "code",
      "execution_count": null,
      "metadata": {
        "colab": {
          "base_uri": "https://localhost:8080/"
        },
        "id": "QJx62FeEzY5C",
        "outputId": "75e8918f-0275-48c5-ef11-23776e49a693"
      },
      "outputs": [
        {
          "name": "stdout",
          "output_type": "stream",
          "text": [
            "(26629, 107)\n"
          ]
        }
      ],
      "source": [
        "df = df.dropna()\n",
        "print(df.shape)"
      ]
    },
    {
      "cell_type": "code",
      "execution_count": null,
      "metadata": {
        "colab": {
          "base_uri": "https://localhost:8080/"
        },
        "id": "S5X-GKVFTVpF",
        "outputId": "04928abc-5d86-4641-e73b-651e54f6f8ea"
      },
      "outputs": [
        {
          "name": "stdout",
          "output_type": "stream",
          "text": [
            "['ethnicity', 'gender', 'hospital_admit_source', 'icu_admit_source', 'icu_stay_type', 'icu_type', 'apache_3j_bodysystem', 'apache_2_bodysystem', 'mortality_prob']\n",
            "ethnicity                 6\n",
            "gender                    2\n",
            "hospital_admit_source    15\n",
            "icu_admit_source          5\n",
            "icu_stay_type             3\n",
            "icu_type                  8\n",
            "apache_3j_bodysystem     11\n",
            "apache_2_bodysystem      10\n",
            "mortality_prob           10\n",
            "dtype: int64\n"
          ]
        }
      ],
      "source": [
        "non_numeric_columns = df.select_dtypes(exclude=[np.number]).columns.tolist()\n",
        "print(non_numeric_columns)\n",
        "\n",
        "unique_values = df[non_numeric_columns].nunique()\n",
        "print(unique_values)"
      ]
    },
    {
      "cell_type": "code",
      "execution_count": null,
      "metadata": {
        "colab": {
          "base_uri": "https://localhost:8080/"
        },
        "id": "bKEEr4tkTYxV",
        "outputId": "f574d7d0-3801-4008-d0a3-2f795ebb17da"
      },
      "outputs": [
        {
          "name": "stdout",
          "output_type": "stream",
          "text": [
            "ethnicity                 6\n",
            "gender                    2\n",
            "hospital_admit_source    15\n",
            "icu_admit_source          5\n",
            "icu_stay_type             3\n",
            "icu_type                  8\n",
            "apache_3j_bodysystem     11\n",
            "apache_2_bodysystem      10\n",
            "mortality_prob           10\n",
            "dtype: int64\n",
            "[]\n"
          ]
        }
      ],
      "source": [
        "le = LabelEncoder()\n",
        "\n",
        "# Apply Label Encoding to each categorical column\n",
        "df_encoded = df.copy()\n",
        "for column in non_numeric_columns:\n",
        "    df_encoded[column] = le.fit_transform(df_encoded[column])\n",
        "\n",
        "# Check that the Label Encoding has worked properly\n",
        "\n",
        "unique_values = df_encoded[non_numeric_columns].nunique()\n",
        "print(unique_values)\n",
        "\n",
        "non_numeric_columns = df_encoded.select_dtypes(exclude=[np.number]).columns.tolist()\n",
        "print(non_numeric_columns)"
      ]
    },
    {
      "cell_type": "markdown",
      "metadata": {
        "id": "JH0J3e6EHQAF"
      },
      "source": [
        "# Feature selection\n",
        "\n",
        "### 1. Using Variance Threshold\n",
        "\n",
        "Variance Threshold is a feature selection method that works by eliminating features with very low variance, i.e., features with not much useful information. This method is useful when you want to reduce the dimensionality of the dataset without losing too much information. The idea behind Variance Threshold is that when a feature doesn't vary much within itself, it generally has very little predictive power. Therefore, features with a variance below a certain threshold are considered uninformative and are removed from the dataset."
      ]
    },
    {
      "cell_type": "code",
      "execution_count": null,
      "metadata": {
        "id": "P61FnM-qPae0"
      },
      "outputs": [],
      "source": [
        "selector = VarianceThreshold(threshold = 0)"
      ]
    },
    {
      "cell_type": "code",
      "execution_count": null,
      "metadata": {
        "colab": {
          "base_uri": "https://localhost:8080/",
          "height": 75
        },
        "id": "KfEv4fZMPn68",
        "outputId": "74cc3d85-04b7-4e2a-ac66-cf2e0f2c2728"
      },
      "outputs": [
        {
          "data": {
            "text/html": [
              "<style>#sk-container-id-1 {color: black;background-color: white;}#sk-container-id-1 pre{padding: 0;}#sk-container-id-1 div.sk-toggleable {background-color: white;}#sk-container-id-1 label.sk-toggleable__label {cursor: pointer;display: block;width: 100%;margin-bottom: 0;padding: 0.3em;box-sizing: border-box;text-align: center;}#sk-container-id-1 label.sk-toggleable__label-arrow:before {content: \"▸\";float: left;margin-right: 0.25em;color: #696969;}#sk-container-id-1 label.sk-toggleable__label-arrow:hover:before {color: black;}#sk-container-id-1 div.sk-estimator:hover label.sk-toggleable__label-arrow:before {color: black;}#sk-container-id-1 div.sk-toggleable__content {max-height: 0;max-width: 0;overflow: hidden;text-align: left;background-color: #f0f8ff;}#sk-container-id-1 div.sk-toggleable__content pre {margin: 0.2em;color: black;border-radius: 0.25em;background-color: #f0f8ff;}#sk-container-id-1 input.sk-toggleable__control:checked~div.sk-toggleable__content {max-height: 200px;max-width: 100%;overflow: auto;}#sk-container-id-1 input.sk-toggleable__control:checked~label.sk-toggleable__label-arrow:before {content: \"▾\";}#sk-container-id-1 div.sk-estimator input.sk-toggleable__control:checked~label.sk-toggleable__label {background-color: #d4ebff;}#sk-container-id-1 div.sk-label input.sk-toggleable__control:checked~label.sk-toggleable__label {background-color: #d4ebff;}#sk-container-id-1 input.sk-hidden--visually {border: 0;clip: rect(1px 1px 1px 1px);clip: rect(1px, 1px, 1px, 1px);height: 1px;margin: -1px;overflow: hidden;padding: 0;position: absolute;width: 1px;}#sk-container-id-1 div.sk-estimator {font-family: monospace;background-color: #f0f8ff;border: 1px dotted black;border-radius: 0.25em;box-sizing: border-box;margin-bottom: 0.5em;}#sk-container-id-1 div.sk-estimator:hover {background-color: #d4ebff;}#sk-container-id-1 div.sk-parallel-item::after {content: \"\";width: 100%;border-bottom: 1px solid gray;flex-grow: 1;}#sk-container-id-1 div.sk-label:hover label.sk-toggleable__label {background-color: #d4ebff;}#sk-container-id-1 div.sk-serial::before {content: \"\";position: absolute;border-left: 1px solid gray;box-sizing: border-box;top: 0;bottom: 0;left: 50%;z-index: 0;}#sk-container-id-1 div.sk-serial {display: flex;flex-direction: column;align-items: center;background-color: white;padding-right: 0.2em;padding-left: 0.2em;position: relative;}#sk-container-id-1 div.sk-item {position: relative;z-index: 1;}#sk-container-id-1 div.sk-parallel {display: flex;align-items: stretch;justify-content: center;background-color: white;position: relative;}#sk-container-id-1 div.sk-item::before, #sk-container-id-1 div.sk-parallel-item::before {content: \"\";position: absolute;border-left: 1px solid gray;box-sizing: border-box;top: 0;bottom: 0;left: 50%;z-index: -1;}#sk-container-id-1 div.sk-parallel-item {display: flex;flex-direction: column;z-index: 1;position: relative;background-color: white;}#sk-container-id-1 div.sk-parallel-item:first-child::after {align-self: flex-end;width: 50%;}#sk-container-id-1 div.sk-parallel-item:last-child::after {align-self: flex-start;width: 50%;}#sk-container-id-1 div.sk-parallel-item:only-child::after {width: 0;}#sk-container-id-1 div.sk-dashed-wrapped {border: 1px dashed gray;margin: 0 0.4em 0.5em 0.4em;box-sizing: border-box;padding-bottom: 0.4em;background-color: white;}#sk-container-id-1 div.sk-label label {font-family: monospace;font-weight: bold;display: inline-block;line-height: 1.2em;}#sk-container-id-1 div.sk-label-container {text-align: center;}#sk-container-id-1 div.sk-container {/* jupyter's `normalize.less` sets `[hidden] { display: none; }` but bootstrap.min.css set `[hidden] { display: none !important; }` so we also need the `!important` here to be able to override the default hidden behavior on the sphinx rendered scikit-learn.org. See: https://github.com/scikit-learn/scikit-learn/issues/21755 */display: inline-block !important;position: relative;}#sk-container-id-1 div.sk-text-repr-fallback {display: none;}</style><div id=\"sk-container-id-1\" class=\"sk-top-container\"><div class=\"sk-text-repr-fallback\"><pre>VarianceThreshold(threshold=0)</pre><b>In a Jupyter environment, please rerun this cell to show the HTML representation or trust the notebook. <br />On GitHub, the HTML representation is unable to render, please try loading this page with nbviewer.org.</b></div><div class=\"sk-container\" hidden><div class=\"sk-item\"><div class=\"sk-estimator sk-toggleable\"><input class=\"sk-toggleable__control sk-hidden--visually\" id=\"sk-estimator-id-1\" type=\"checkbox\" checked><label for=\"sk-estimator-id-1\" class=\"sk-toggleable__label sk-toggleable__label-arrow\">VarianceThreshold</label><div class=\"sk-toggleable__content\"><pre>VarianceThreshold(threshold=0)</pre></div></div></div></div></div>"
            ],
            "text/plain": [
              "VarianceThreshold(threshold=0)"
            ]
          },
          "execution_count": 14,
          "metadata": {},
          "output_type": "execute_result"
        }
      ],
      "source": [
        "selector.fit(df_encoded)"
      ]
    },
    {
      "cell_type": "code",
      "execution_count": null,
      "metadata": {
        "colab": {
          "base_uri": "https://localhost:8080/",
          "height": 256
        },
        "id": "sE5jC2dtThnt",
        "outputId": "c9033182-9ccb-445b-cd2d-69b3a30c2015"
      },
      "outputs": [
        {
          "data": {
            "text/html": [
              "<div>\n",
              "<style scoped>\n",
              "    .dataframe tbody tr th:only-of-type {\n",
              "        vertical-align: middle;\n",
              "    }\n",
              "\n",
              "    .dataframe tbody tr th {\n",
              "        vertical-align: top;\n",
              "    }\n",
              "\n",
              "    .dataframe thead th {\n",
              "        text-align: right;\n",
              "    }\n",
              "</style>\n",
              "<table border=\"1\" class=\"dataframe\">\n",
              "  <thead>\n",
              "    <tr style=\"text-align: right;\">\n",
              "      <th></th>\n",
              "      <th>hospital_death</th>\n",
              "      <th>age</th>\n",
              "      <th>bmi</th>\n",
              "      <th>elective_surgery</th>\n",
              "      <th>ethnicity</th>\n",
              "      <th>gender</th>\n",
              "      <th>height</th>\n",
              "      <th>hospital_admit_source</th>\n",
              "      <th>icu_admit_source</th>\n",
              "      <th>icu_stay_type</th>\n",
              "      <th>...</th>\n",
              "      <th>cirrhosis</th>\n",
              "      <th>diabetes_mellitus</th>\n",
              "      <th>hepatic_failure</th>\n",
              "      <th>immunosuppression</th>\n",
              "      <th>leukemia</th>\n",
              "      <th>lymphoma</th>\n",
              "      <th>solid_tumor_with_metastasis</th>\n",
              "      <th>apache_3j_bodysystem</th>\n",
              "      <th>apache_2_bodysystem</th>\n",
              "      <th>mortality_prob</th>\n",
              "    </tr>\n",
              "  </thead>\n",
              "  <tbody>\n",
              "    <tr>\n",
              "      <th>0</th>\n",
              "      <td>0</td>\n",
              "      <td>68.0</td>\n",
              "      <td>22.730000</td>\n",
              "      <td>0</td>\n",
              "      <td>2</td>\n",
              "      <td>1</td>\n",
              "      <td>180.3</td>\n",
              "      <td>4</td>\n",
              "      <td>1</td>\n",
              "      <td>0</td>\n",
              "      <td>...</td>\n",
              "      <td>0.0</td>\n",
              "      <td>1.0</td>\n",
              "      <td>0.0</td>\n",
              "      <td>0.0</td>\n",
              "      <td>0.0</td>\n",
              "      <td>0.0</td>\n",
              "      <td>0.0</td>\n",
              "      <td>9</td>\n",
              "      <td>0</td>\n",
              "      <td>0</td>\n",
              "    </tr>\n",
              "    <tr>\n",
              "      <th>1</th>\n",
              "      <td>0</td>\n",
              "      <td>77.0</td>\n",
              "      <td>27.420000</td>\n",
              "      <td>0</td>\n",
              "      <td>2</td>\n",
              "      <td>0</td>\n",
              "      <td>160.0</td>\n",
              "      <td>4</td>\n",
              "      <td>1</td>\n",
              "      <td>0</td>\n",
              "      <td>...</td>\n",
              "      <td>0.0</td>\n",
              "      <td>1.0</td>\n",
              "      <td>0.0</td>\n",
              "      <td>0.0</td>\n",
              "      <td>0.0</td>\n",
              "      <td>0.0</td>\n",
              "      <td>0.0</td>\n",
              "      <td>8</td>\n",
              "      <td>6</td>\n",
              "      <td>3</td>\n",
              "    </tr>\n",
              "    <tr>\n",
              "      <th>5</th>\n",
              "      <td>0</td>\n",
              "      <td>67.0</td>\n",
              "      <td>27.560000</td>\n",
              "      <td>0</td>\n",
              "      <td>2</td>\n",
              "      <td>1</td>\n",
              "      <td>190.5</td>\n",
              "      <td>2</td>\n",
              "      <td>0</td>\n",
              "      <td>0</td>\n",
              "      <td>...</td>\n",
              "      <td>0.0</td>\n",
              "      <td>1.0</td>\n",
              "      <td>0.0</td>\n",
              "      <td>0.0</td>\n",
              "      <td>0.0</td>\n",
              "      <td>0.0</td>\n",
              "      <td>0.0</td>\n",
              "      <td>7</td>\n",
              "      <td>4</td>\n",
              "      <td>0</td>\n",
              "    </tr>\n",
              "    <tr>\n",
              "      <th>17</th>\n",
              "      <td>0</td>\n",
              "      <td>46.0</td>\n",
              "      <td>25.845717</td>\n",
              "      <td>0</td>\n",
              "      <td>3</td>\n",
              "      <td>1</td>\n",
              "      <td>167.6</td>\n",
              "      <td>3</td>\n",
              "      <td>0</td>\n",
              "      <td>0</td>\n",
              "      <td>...</td>\n",
              "      <td>0.0</td>\n",
              "      <td>0.0</td>\n",
              "      <td>0.0</td>\n",
              "      <td>0.0</td>\n",
              "      <td>0.0</td>\n",
              "      <td>0.0</td>\n",
              "      <td>0.0</td>\n",
              "      <td>8</td>\n",
              "      <td>6</td>\n",
              "      <td>0</td>\n",
              "    </tr>\n",
              "    <tr>\n",
              "      <th>23</th>\n",
              "      <td>0</td>\n",
              "      <td>87.0</td>\n",
              "      <td>21.963763</td>\n",
              "      <td>0</td>\n",
              "      <td>2</td>\n",
              "      <td>1</td>\n",
              "      <td>180.3</td>\n",
              "      <td>4</td>\n",
              "      <td>1</td>\n",
              "      <td>0</td>\n",
              "      <td>...</td>\n",
              "      <td>0.0</td>\n",
              "      <td>0.0</td>\n",
              "      <td>0.0</td>\n",
              "      <td>0.0</td>\n",
              "      <td>0.0</td>\n",
              "      <td>0.0</td>\n",
              "      <td>0.0</td>\n",
              "      <td>9</td>\n",
              "      <td>0</td>\n",
              "      <td>2</td>\n",
              "    </tr>\n",
              "  </tbody>\n",
              "</table>\n",
              "<p>5 rows × 105 columns</p>\n",
              "</div>"
            ],
            "text/plain": [
              "    hospital_death   age        bmi  elective_surgery  ethnicity  gender  \\\n",
              "0                0  68.0  22.730000                 0          2       1   \n",
              "1                0  77.0  27.420000                 0          2       0   \n",
              "5                0  67.0  27.560000                 0          2       1   \n",
              "17               0  46.0  25.845717                 0          3       1   \n",
              "23               0  87.0  21.963763                 0          2       1   \n",
              "\n",
              "    height  hospital_admit_source  icu_admit_source  icu_stay_type  ...  \\\n",
              "0    180.3                      4                 1              0  ...   \n",
              "1    160.0                      4                 1              0  ...   \n",
              "5    190.5                      2                 0              0  ...   \n",
              "17   167.6                      3                 0              0  ...   \n",
              "23   180.3                      4                 1              0  ...   \n",
              "\n",
              "    cirrhosis  diabetes_mellitus  hepatic_failure  immunosuppression  \\\n",
              "0         0.0                1.0              0.0                0.0   \n",
              "1         0.0                1.0              0.0                0.0   \n",
              "5         0.0                1.0              0.0                0.0   \n",
              "17        0.0                0.0              0.0                0.0   \n",
              "23        0.0                0.0              0.0                0.0   \n",
              "\n",
              "    leukemia  lymphoma  solid_tumor_with_metastasis  apache_3j_bodysystem  \\\n",
              "0        0.0       0.0                          0.0                     9   \n",
              "1        0.0       0.0                          0.0                     8   \n",
              "5        0.0       0.0                          0.0                     7   \n",
              "17       0.0       0.0                          0.0                     8   \n",
              "23       0.0       0.0                          0.0                     9   \n",
              "\n",
              "    apache_2_bodysystem  mortality_prob  \n",
              "0                     0               0  \n",
              "1                     6               3  \n",
              "5                     4               0  \n",
              "17                    6               0  \n",
              "23                    0               2  \n",
              "\n",
              "[5 rows x 105 columns]"
            ]
          },
          "execution_count": 15,
          "metadata": {},
          "output_type": "execute_result"
        }
      ],
      "source": [
        "mask = selector.get_support()\n",
        "df_encoded_variance_threshold = df_encoded.loc[:, mask]\n",
        "\n",
        "df_encoded_variance_threshold.head()"
      ]
    },
    {
      "cell_type": "markdown",
      "metadata": {
        "id": "0squd4LhVwVc"
      },
      "source": [
        "### 2. Removing multicollinearity\n",
        "Multicollinearity is a situation in which two or more independent variables in a multiple regression model are highly linearly related, meaning they contain similar information about the variance within the dataset. When independent variables are correlated, it can cause problems in the interpretation of the model coefficients, as it undermines the statistical significance of the independent variables. The presence of multicollinearity can lead to an inflated standard error, which can make it difficult to accurately determine which predictors are significantly related to the response variable. It can also lead to unstable estimates of the regression coefficients, which can cause the estimated coefficients to change significantly depending on the subset of the data used. Therefore, it is often beneficial to remove multicollinearity from a dataset before training a machine learning model.\n",
        "\n",
        "We have used a correlation matrix to identify pairs of variables that have a correlation greater than 0.9. We have then removed the variables from your dataset that are part of these pairs."
      ]
    },
    {
      "cell_type": "markdown",
      "metadata": {
        "id": "HOqVDDVIVPlI"
      },
      "source": [
        "First we separate the features (X) and target (y) from the DataFrame"
      ]
    },
    {
      "cell_type": "code",
      "execution_count": null,
      "metadata": {
        "colab": {
          "base_uri": "https://localhost:8080/"
        },
        "id": "8Pov7CJnVQPB",
        "outputId": "a6195be7-8f7d-4525-8fdb-b7b2b3d7e86d"
      },
      "outputs": [
        {
          "name": "stdout",
          "output_type": "stream",
          "text": [
            "(26629, 104) (26629,)\n"
          ]
        }
      ],
      "source": [
        "from sklearn.model_selection import train_test_split\n",
        "\n",
        "X = df_encoded_variance_threshold.drop('mortality_prob', axis=1)\n",
        "y = df_encoded_variance_threshold['mortality_prob']\n",
        "\n",
        "print(X.shape, y.shape)"
      ]
    },
    {
      "cell_type": "code",
      "execution_count": null,
      "metadata": {
        "colab": {
          "base_uri": "https://localhost:8080/",
          "height": 1000
        },
        "id": "TDXmbl20YxuX",
        "outputId": "83fa74a3-e954-46f9-ddb4-82ae443047a1"
      },
      "outputs": [
        {
          "data": {
            "text/plain": [
              "<AxesSubplot:>"
            ]
          },
          "execution_count": 17,
          "metadata": {},
          "output_type": "execute_result"
        },
        {
          "data": {
            "image/png": "[encoded data removed]",
            "text/plain": [
              "<Figure size 1080x864 with 2 Axes>"
            ]
          },
          "metadata": {
            "needs_background": "light"
          },
          "output_type": "display_data"
        }
      ],
      "source": [
        "#Plotting the correlation heatmap\n",
        "correlation_matrix = X.corr()\n",
        "plt.figure(figsize=(15, 12))\n",
        "sns.heatmap(correlation_matrix)"
      ]
    },
    {
      "cell_type": "code",
      "execution_count": null,
      "metadata": {
        "colab": {
          "base_uri": "https://localhost:8080/"
        },
        "id": "OaTVkQfaZFWJ",
        "outputId": "2c5dd2ac-007a-45ab-cc5b-d01ea70ff71e"
      },
      "outputs": [
        {
          "name": "stdout",
          "output_type": "stream",
          "text": [
            "47\n"
          ]
        }
      ],
      "source": [
        "multicollinear_cols = set()\n",
        "\n",
        "for i in range (len(correlation_matrix.columns)):\n",
        "  for j in range(i):\n",
        "    if abs(correlation_matrix.iloc[i,j]) > 0.7:\n",
        "      multicollinear_cols.add(correlation_matrix.columns[i])\n",
        "\n",
        "print(len(multicollinear_cols))"
      ]
    },
    {
      "cell_type": "code",
      "execution_count": null,
      "metadata": {
        "id": "UsNJ59nxaJX7"
      },
      "outputs": [],
      "source": [
        "X.drop(labels=multicollinear_cols, axis = 1, inplace=True)"
      ]
    },
    {
      "cell_type": "code",
      "execution_count": null,
      "metadata": {
        "colab": {
          "base_uri": "https://localhost:8080/"
        },
        "id": "e30eFLssarm0",
        "outputId": "d02e20ff-4f50-4a9a-b064-523c17ad71f2"
      },
      "outputs": [
        {
          "data": {
            "text/plain": [
              "(26629, 57)"
            ]
          },
          "execution_count": 20,
          "metadata": {},
          "output_type": "execute_result"
        }
      ],
      "source": [
        "X.shape"
      ]
    },
    {
      "cell_type": "markdown",
      "metadata": {
        "id": "yq94FkqfYn53"
      },
      "source": [
        "Now we split them into train, validation, and test sets."
      ]
    },
    {
      "cell_type": "code",
      "execution_count": null,
      "metadata": {
        "id": "BHy7v2mkYr3d"
      },
      "outputs": [],
      "source": [
        "# Split the features and target into train and test sets\n",
        "X_train, X_test, y_train, y_test = train_test_split(X, y, test_size=0.2, random_state=42)\n",
        "# Split the train set into train and validation sets\n",
        "X_train, X_val, y_train, y_val = train_test_split(X_train, y_train, test_size=0.2, random_state=42)"
      ]
    },
    {
      "cell_type": "code",
      "execution_count": null,
      "metadata": {
        "id": "3tdzGRWZTGIZ"
      },
      "outputs": [],
      "source": [
        "from sklearn.feature_selection import RFECV\n",
        "from sklearn.ensemble import RandomForestRegressor\n",
        "from sklearn.model_selection import KFold"
      ]
    },
    {
      "cell_type": "code",
      "execution_count": null,
      "metadata": {
        "colab": {
          "base_uri": "https://localhost:8080/"
        },
        "id": "Su6YkvqmTMnb",
        "outputId": "b6b30632-e627-4249-96b8-cffba0c7eb8e"
      },
      "outputs": [
        {
          "name": "stdout",
          "output_type": "stream",
          "text": [
            "Index(['patient_id', 'hospital_death', 'age', 'hospital_admit_source',\n",
            "       'icu_id', 'icu_stay_type', 'pre_icu_los_days', 'apache_2_diagnosis',\n",
            "       'bun_apache', 'creatinine_apache', 'gcs_eyes_apache', 'glucose_apache',\n",
            "       'heart_rate_apache', 'hematocrit_apache', 'map_apache',\n",
            "       'resprate_apache', 'temp_apache', 'wbc_apache'],\n",
            "      dtype='object')\n"
          ]
        }
      ],
      "source": [
        "# Create the RFECV object for regression\n",
        "cv = KFold(n_splits=5)\n",
        "rfr = RandomForestRegressor()\n",
        "rfecv = RFECV(estimator=rfr, cv=cv, step=1)\n",
        "rfecv.fit(X_train, y_train)\n",
        "\n",
        "# Get the selected features\n",
        "rfecv_features_regression = X_train.columns[rfecv.get_support()]\n",
        "\n",
        "print(rfecv_features_regression)"
      ]
    },
    {
      "cell_type": "code",
      "execution_count": null,
      "metadata": {
        "colab": {
          "base_uri": "https://localhost:8080/",
          "height": 245
        },
        "id": "jxVePfqxTtdz",
        "outputId": "bde3a4cc-5fe4-498c-a4b3-df1b63c81c0c"
      },
      "outputs": [
        {
          "name": "stdout",
          "output_type": "stream",
          "text": [
            "Index(['hospital_id', 'hospital_death', 'age', 'elective_surgery',\n",
            "       'hospital_admit_source', 'icu_id', 'icu_stay_type', 'icu_type',\n",
            "       'pre_icu_los_days', 'bun_apache', 'gcs_eyes_apache',\n",
            "       'heart_rate_apache', 'hematocrit_apache', 'intubated_apache',\n",
            "       'map_apache', 'resprate_apache', 'temp_apache', 'ventilated_apache',\n",
            "       'd1_resprate_max', 'd1_spo2_max', 'h1_diasbp_max', 'h1_spo2_max',\n",
            "       'h1_spo2_min', 'd1_potassium_max', 'cirrhosis', 'diabetes_mellitus',\n",
            "       'hepatic_failure', 'leukemia', 'apache_3j_bodysystem',\n",
            "       'apache_2_bodysystem'],\n",
            "      dtype='object')\n"
          ]
        }
      ],
      "source": [
        "from sklearn.feature_selection import SequentialFeatureSelector\n",
        "\n",
        "# Backward Feature Elimination\n",
        "sfs = SequentialFeatureSelector(RandomForestRegressor(n_estimators=40), n_features_to_select=30, direction='backward')\n",
        "sfs.fit(X_train, y_train)\n",
        "\n",
        "# Get the selected features\n",
        "backward_features = X_train.columns[sfs.get_support()]\n",
        "\n",
        "print(backward_features)"
      ]
    },
    {
      "cell_type": "code",
      "execution_count": null,
      "metadata": {
        "id": "pB9oHKBbiBgS"
      },
      "outputs": [],
      "source": [
        "rfecv_features_regression = ['patient_id', 'hospital_death', 'age', 'hospital_admit_source',\n",
        "       'icu_id', 'icu_stay_type', 'pre_icu_los_days', 'apache_2_diagnosis',\n",
        "       'bun_apache', 'creatinine_apache', 'gcs_eyes_apache', 'glucose_apache',\n",
        "       'heart_rate_apache', 'hematocrit_apache', 'map_apache',\n",
        "       'resprate_apache', 'temp_apache', 'wbc_apache']\n",
        "\n",
        "#Removing 'encounter_id', 'patient_id', 'hospital_id','icu_id'\n",
        "to_be_removed = ['encounter_id', 'patient_id', 'hospital_id','icu_id']\n",
        "features = [i for i in rfecv_features_regression if i not in to_be_removed]"
      ]
    },
    {
      "cell_type": "code",
      "execution_count": null,
      "metadata": {
        "id": "4cKUVbmAiBgS"
      },
      "outputs": [],
      "source": [
        "backward_features = ['hospital_id', 'hospital_death', 'age', 'elective_surgery',\n",
        "       'hospital_admit_source', 'icu_id', 'icu_stay_type', 'icu_type',\n",
        "       'pre_icu_los_days', 'bun_apache', 'gcs_eyes_apache',\n",
        "       'heart_rate_apache', 'hematocrit_apache', 'intubated_apache',\n",
        "       'map_apache', 'resprate_apache', 'temp_apache', 'ventilated_apache',\n",
        "       'd1_resprate_max', 'd1_spo2_max', 'h1_diasbp_max', 'h1_spo2_max',\n",
        "       'h1_spo2_min', 'd1_potassium_max', 'cirrhosis', 'diabetes_mellitus',\n",
        "       'hepatic_failure', 'leukemia', 'apache_3j_bodysystem',\n",
        "       'apache_2_bodysystem']\n",
        "\n",
        "to_be_removed = ['encounter_id', 'patient_id', 'hospital_id','icu_id']\n",
        "features = [i for i in backward_features if i not in to_be_removed]"
      ]
    },
    {
      "cell_type": "code",
      "execution_count": null,
      "metadata": {
        "id": "mBqEnzPciBgT"
      },
      "outputs": [],
      "source": [
        "import torch\n",
        "from torch.utils.data import TensorDataset, DataLoader\n",
        "from sklearn.preprocessing import StandardScaler"
      ]
    },
    {
      "cell_type": "code",
      "execution_count": null,
      "metadata": {
        "id": "woHYKGTCiBgT"
      },
      "outputs": [],
      "source": [
        "# Scale the data\n",
        "scaler = StandardScaler()\n",
        "X_train_scaled = scaler.fit_transform(X_train)\n",
        "X_val_scaled = scaler.transform(X_val)\n",
        "X_test_scaled = scaler.transform(X_test)"
      ]
    },
    {
      "cell_type": "code",
      "execution_count": null,
      "metadata": {
        "id": "OM4uMKPPiBgT",
        "outputId": "0984ed4f-dc5d-44d9-8644-603ec116283f"
      },
      "outputs": [
        {
          "name": "stdout",
          "output_type": "stream",
          "text": [
            "Index(['hospital_death', 'age', 'bmi', 'hospital_admit_source',\n",
            "       'icu_stay_type', 'pre_icu_los_days', 'apache_2_diagnosis', 'bun_apache',\n",
            "       'creatinine_apache', 'gcs_eyes_apache', 'glucose_apache',\n",
            "       'heart_rate_apache', 'intubated_apache', 'map_apache',\n",
            "       'resprate_apache', 'temp_apache', 'wbc_apache', 'd1_diasbp_min',\n",
            "       'd1_platelets_max'],\n",
            "      dtype='object')\n"
          ]
        }
      ],
      "source": [
        "# Create the RFECV object for regression\n",
        "cv = KFold(n_splits=5)\n",
        "rfr = RandomForestRegressor()\n",
        "rfecv = RFECV(estimator=rfr, cv=cv, step=1)\n",
        "rfecv.fit(X_train_scaled, y_train)\n",
        "\n",
        "# Get the selected features\n",
        "rfecv_features_regression = X_train.columns[rfecv.get_support()]\n",
        "\n",
        "print(rfecv_features_regression)"
      ]
    },
    {
      "cell_type": "code",
      "execution_count": null,
      "metadata": {
        "id": "4edqXF2EiBgT",
        "outputId": "c4a368ba-4d69-4ce4-c130-c0eb1b21c8f7"
      },
      "outputs": [
        {
          "name": "stdout",
          "output_type": "stream",
          "text": [
            "Index(['hospital_death', 'age', 'bmi', 'hospital_admit_source',\n",
            "       'icu_stay_type', 'pre_icu_los_days', 'apache_2_diagnosis', 'bun_apache',\n",
            "       'creatinine_apache', 'gcs_eyes_apache', 'glucose_apache',\n",
            "       'heart_rate_apache', 'hematocrit_apache', 'intubated_apache',\n",
            "       'map_apache', 'resprate_apache', 'temp_apache', 'wbc_apache',\n",
            "       'h1_diasbp_min', 'd1_glucose_min', 'd1_platelets_max'],\n",
            "      dtype='object')\n"
          ]
        }
      ],
      "source": [
        "# Create the RFECV object for regression\n",
        "cv = KFold(n_splits=10)\n",
        "rfr = RandomForestRegressor()\n",
        "rfecv = RFECV(estimator=rfr, cv=cv, step=1)\n",
        "rfecv.fit(X_train_scaled, y_train)\n",
        "\n",
        "# Get the selected features\n",
        "rfecv_features_regression = X_train.columns[rfecv.get_support()]\n",
        "\n",
        "print(rfecv_features_regression)"
      ]
    },
    {
      "cell_type": "code",
      "execution_count": null,
      "metadata": {
        "id": "bVF_4L7ZiBgT"
      },
      "outputs": [],
      "source": [
        "features = ['age', 'bmi', 'hospital_admit_source',\n",
        "       'icu_stay_type', 'pre_icu_los_days', 'apache_2_diagnosis', 'bun_apache',\n",
        "       'creatinine_apache', 'gcs_eyes_apache', 'glucose_apache',\n",
        "       'heart_rate_apache', 'intubated_apache', 'map_apache',\n",
        "       'resprate_apache', 'temp_apache', 'wbc_apache', 'd1_diasbp_min',\n",
        "       'd1_platelets_max']"
      ]
    },
    {
      "cell_type": "code",
      "execution_count": null,
      "metadata": {
        "id": "oVOquZNiiBgY"
      },
      "outputs": [],
      "source": [
        "X_test_binary = X_test['hospital_death']\n",
        "\n",
        "X_train = X_train[features]\n",
        "X_val = X_val[features]\n",
        "X_test = X_test[features]"
      ]
    },
    {
      "cell_type": "code",
      "execution_count": null,
      "metadata": {
        "id": "4ZnBF4NaiBgY",
        "outputId": "4f8a1f17-68ae-4d5d-e60a-ceed12806fc6"
      },
      "outputs": [
        {
          "name": "stderr",
          "output_type": "stream",
          "text": [
            "Epoch 1/100:   0%|          | 0/533 [00:00<?, ?it/s]"
          ]
        },
        {
          "name": "stderr",
          "output_type": "stream",
          "text": [
            "Epoch 1/100: 100%|██████████| 533/533 [00:02<00:00, 197.39it/s]\n"
          ]
        },
        {
          "name": "stdout",
          "output_type": "stream",
          "text": [
            "Epoch 1/100, training loss: 1.890106044164518, validation loss: 1.7458505443672636\n"
          ]
        },
        {
          "name": "stderr",
          "output_type": "stream",
          "text": [
            "Epoch 2/100: 100%|██████████| 533/533 [00:02<00:00, 233.89it/s]\n"
          ]
        },
        {
          "name": "stdout",
          "output_type": "stream",
          "text": [
            "Epoch 2/100, training loss: 1.7439684259511292, validation loss: 1.7432411962480687\n"
          ]
        },
        {
          "name": "stderr",
          "output_type": "stream",
          "text": [
            "Epoch 3/100: 100%|██████████| 533/533 [00:02<00:00, 238.50it/s]\n"
          ]
        },
        {
          "name": "stdout",
          "output_type": "stream",
          "text": [
            "Epoch 3/100, training loss: 1.740039548551835, validation loss: 1.7431298423169264\n"
          ]
        },
        {
          "name": "stderr",
          "output_type": "stream",
          "text": [
            "Epoch 4/100: 100%|██████████| 533/533 [00:02<00:00, 239.27it/s]\n"
          ]
        },
        {
          "name": "stdout",
          "output_type": "stream",
          "text": [
            "Epoch 4/100, training loss: 1.7387820509092893, validation loss: 1.7430195274637705\n"
          ]
        },
        {
          "name": "stderr",
          "output_type": "stream",
          "text": [
            "Epoch 5/100: 100%|██████████| 533/533 [00:02<00:00, 222.83it/s]\n"
          ]
        },
        {
          "name": "stdout",
          "output_type": "stream",
          "text": [
            "Epoch 5/100, training loss: 1.737059613553489, validation loss: 1.7405910723244966\n"
          ]
        },
        {
          "name": "stderr",
          "output_type": "stream",
          "text": [
            "Epoch 6/100: 100%|██████████| 533/533 [00:02<00:00, 240.04it/s]\n"
          ]
        },
        {
          "name": "stdout",
          "output_type": "stream",
          "text": [
            "Epoch 6/100, training loss: 1.7353026010305752, validation loss: 1.7398995000924637\n"
          ]
        },
        {
          "name": "stderr",
          "output_type": "stream",
          "text": [
            "Epoch 7/100: 100%|██████████| 533/533 [00:02<00:00, 239.37it/s]\n"
          ]
        },
        {
          "name": "stdout",
          "output_type": "stream",
          "text": [
            "Epoch 7/100, training loss: 1.734704089880437, validation loss: 1.7381804425324967\n"
          ]
        },
        {
          "name": "stderr",
          "output_type": "stream",
          "text": [
            "Epoch 8/100: 100%|██████████| 533/533 [00:02<00:00, 230.19it/s]\n"
          ]
        },
        {
          "name": "stdout",
          "output_type": "stream",
          "text": [
            "Epoch 8/100, training loss: 1.7327232047719758, validation loss: 1.7379399831615276\n"
          ]
        },
        {
          "name": "stderr",
          "output_type": "stream",
          "text": [
            "Epoch 9/100: 100%|██████████| 533/533 [00:02<00:00, 239.22it/s]\n"
          ]
        },
        {
          "name": "stdout",
          "output_type": "stream",
          "text": [
            "Epoch 9/100, training loss: 1.7332781383288958, validation loss: 1.7381472294010334\n"
          ]
        },
        {
          "name": "stderr",
          "output_type": "stream",
          "text": [
            "Epoch 10/100: 100%|██████████| 533/533 [00:02<00:00, 206.47it/s]\n"
          ]
        },
        {
          "name": "stdout",
          "output_type": "stream",
          "text": [
            "Epoch 10/100, training loss: 1.7323222039564465, validation loss: 1.7378925227407198\n"
          ]
        },
        {
          "name": "stderr",
          "output_type": "stream",
          "text": [
            "Epoch 11/100: 100%|██████████| 533/533 [00:02<00:00, 210.88it/s]\n"
          ]
        },
        {
          "name": "stdout",
          "output_type": "stream",
          "text": [
            "Epoch 11/100, training loss: 1.7311780454964842, validation loss: 1.736533873116792\n"
          ]
        },
        {
          "name": "stderr",
          "output_type": "stream",
          "text": [
            "Epoch 12/100: 100%|██████████| 533/533 [00:02<00:00, 239.71it/s]\n"
          ]
        },
        {
          "name": "stdout",
          "output_type": "stream",
          "text": [
            "Epoch 12/100, training loss: 1.7317311895721177, validation loss: 1.737019884942183\n"
          ]
        },
        {
          "name": "stderr",
          "output_type": "stream",
          "text": [
            "Epoch 13/100: 100%|██████████| 533/533 [00:02<00:00, 237.67it/s]\n"
          ]
        },
        {
          "name": "stdout",
          "output_type": "stream",
          "text": [
            "Epoch 13/100, training loss: 1.7308517759333855, validation loss: 1.7365609104953594\n"
          ]
        },
        {
          "name": "stderr",
          "output_type": "stream",
          "text": [
            "Epoch 14/100: 100%|██████████| 533/533 [00:02<00:00, 238.74it/s]\n"
          ]
        },
        {
          "name": "stdout",
          "output_type": "stream",
          "text": [
            "Epoch 14/100, training loss: 1.7300279916562908, validation loss: 1.7356955542493222\n"
          ]
        },
        {
          "name": "stderr",
          "output_type": "stream",
          "text": [
            "Epoch 15/100: 100%|██████████| 533/533 [00:02<00:00, 225.30it/s]\n"
          ]
        },
        {
          "name": "stdout",
          "output_type": "stream",
          "text": [
            "Epoch 15/100, training loss: 1.729728808769813, validation loss: 1.7355453167388688\n"
          ]
        },
        {
          "name": "stderr",
          "output_type": "stream",
          "text": [
            "Epoch 16/100: 100%|██████████| 533/533 [00:02<00:00, 240.08it/s]\n"
          ]
        },
        {
          "name": "stdout",
          "output_type": "stream",
          "text": [
            "Epoch 16/100, training loss: 1.728050864659823, validation loss: 1.7345952427209312\n"
          ]
        },
        {
          "name": "stderr",
          "output_type": "stream",
          "text": [
            "Epoch 17/100: 100%|██████████| 533/533 [00:02<00:00, 227.13it/s]\n"
          ]
        },
        {
          "name": "stdout",
          "output_type": "stream",
          "text": [
            "Epoch 17/100, training loss: 1.7275370486905381, validation loss: 1.7380223025136918\n"
          ]
        },
        {
          "name": "stderr",
          "output_type": "stream",
          "text": [
            "Epoch 18/100: 100%|██████████| 533/533 [00:02<00:00, 233.58it/s]\n"
          ]
        },
        {
          "name": "stdout",
          "output_type": "stream",
          "text": [
            "Epoch 18/100, training loss: 1.7265238840181876, validation loss: 1.735703213001365\n"
          ]
        },
        {
          "name": "stderr",
          "output_type": "stream",
          "text": [
            "Epoch 19/100: 100%|██████████| 533/533 [00:02<00:00, 237.12it/s]\n"
          ]
        },
        {
          "name": "stdout",
          "output_type": "stream",
          "text": [
            "Epoch 19/100, training loss: 1.7268186505695222, validation loss: 1.7342087252816158\n"
          ]
        },
        {
          "name": "stderr",
          "output_type": "stream",
          "text": [
            "Epoch 20/100: 100%|██████████| 533/533 [00:02<00:00, 233.67it/s]\n"
          ]
        },
        {
          "name": "stdout",
          "output_type": "stream",
          "text": [
            "Epoch 20/100, training loss: 1.7261661785404856, validation loss: 1.7343495683883554\n"
          ]
        },
        {
          "name": "stderr",
          "output_type": "stream",
          "text": [
            "Epoch 21/100: 100%|██████████| 533/533 [00:02<00:00, 228.54it/s]\n"
          ]
        },
        {
          "name": "stdout",
          "output_type": "stream",
          "text": [
            "Epoch 21/100, training loss: 1.7238688929666945, validation loss: 1.7368702328027184\n"
          ]
        },
        {
          "name": "stderr",
          "output_type": "stream",
          "text": [
            "Epoch 22/100: 100%|██████████| 533/533 [00:02<00:00, 211.01it/s]\n"
          ]
        },
        {
          "name": "stdout",
          "output_type": "stream",
          "text": [
            "Epoch 22/100, training loss: 1.7256646001987566, validation loss: 1.7346528919775095\n"
          ]
        },
        {
          "name": "stderr",
          "output_type": "stream",
          "text": [
            "Epoch 23/100: 100%|██████████| 533/533 [00:02<00:00, 236.10it/s]\n"
          ]
        },
        {
          "name": "stdout",
          "output_type": "stream",
          "text": [
            "Epoch 23/100, training loss: 1.724463791382022, validation loss: 1.7326687271915264\n"
          ]
        },
        {
          "name": "stderr",
          "output_type": "stream",
          "text": [
            "Epoch 24/100: 100%|██████████| 533/533 [00:02<00:00, 232.83it/s]\n"
          ]
        },
        {
          "name": "stdout",
          "output_type": "stream",
          "text": [
            "Epoch 24/100, training loss: 1.7232893029923286, validation loss: 1.733878254890442\n"
          ]
        },
        {
          "name": "stderr",
          "output_type": "stream",
          "text": [
            "Epoch 25/100: 100%|██████████| 533/533 [00:02<00:00, 216.65it/s]\n"
          ]
        },
        {
          "name": "stdout",
          "output_type": "stream",
          "text": [
            "Epoch 25/100, training loss: 1.7237238450077192, validation loss: 1.7331850991320255\n"
          ]
        },
        {
          "name": "stderr",
          "output_type": "stream",
          "text": [
            "Epoch 26/100: 100%|██████████| 533/533 [00:02<00:00, 193.21it/s]\n"
          ]
        },
        {
          "name": "stdout",
          "output_type": "stream",
          "text": [
            "Epoch 26/100, training loss: 1.7213739058313853, validation loss: 1.7331810646982335\n"
          ]
        },
        {
          "name": "stderr",
          "output_type": "stream",
          "text": [
            "Epoch 27/100: 100%|██████████| 533/533 [00:02<00:00, 180.33it/s]\n"
          ]
        },
        {
          "name": "stdout",
          "output_type": "stream",
          "text": [
            "Epoch 27/100, training loss: 1.722071479677483, validation loss: 1.732325388424432\n"
          ]
        },
        {
          "name": "stderr",
          "output_type": "stream",
          "text": [
            "Epoch 28/100: 100%|██████████| 533/533 [00:02<00:00, 211.32it/s]\n"
          ]
        },
        {
          "name": "stdout",
          "output_type": "stream",
          "text": [
            "Epoch 28/100, training loss: 1.7217153013311677, validation loss: 1.7330134172937763\n"
          ]
        },
        {
          "name": "stderr",
          "output_type": "stream",
          "text": [
            "Epoch 29/100: 100%|██████████| 533/533 [00:02<00:00, 219.24it/s]\n"
          ]
        },
        {
          "name": "stdout",
          "output_type": "stream",
          "text": [
            "Epoch 29/100, training loss: 1.7220273910275543, validation loss: 1.7314989157577059\n"
          ]
        },
        {
          "name": "stderr",
          "output_type": "stream",
          "text": [
            "Epoch 30/100: 100%|██████████| 533/533 [00:02<00:00, 237.91it/s]\n"
          ]
        },
        {
          "name": "stdout",
          "output_type": "stream",
          "text": [
            "Epoch 30/100, training loss: 1.722492073982339, validation loss: 1.73256794641267\n"
          ]
        },
        {
          "name": "stderr",
          "output_type": "stream",
          "text": [
            "Epoch 31/100: 100%|██████████| 533/533 [00:02<00:00, 215.04it/s]\n"
          ]
        },
        {
          "name": "stdout",
          "output_type": "stream",
          "text": [
            "Epoch 31/100, training loss: 1.7218907158996553, validation loss: 1.7321153149675967\n"
          ]
        },
        {
          "name": "stderr",
          "output_type": "stream",
          "text": [
            "Epoch 32/100: 100%|██████████| 533/533 [00:02<00:00, 223.14it/s]\n"
          ]
        },
        {
          "name": "stdout",
          "output_type": "stream",
          "text": [
            "Epoch 32/100, training loss: 1.7203578591123083, validation loss: 1.731546579901852\n"
          ]
        },
        {
          "name": "stderr",
          "output_type": "stream",
          "text": [
            "Epoch 33/100: 100%|██████████| 533/533 [00:02<00:00, 192.29it/s]\n"
          ]
        },
        {
          "name": "stdout",
          "output_type": "stream",
          "text": [
            "Epoch 33/100, training loss: 1.7192593484166416, validation loss: 1.7311807950930809\n"
          ]
        },
        {
          "name": "stderr",
          "output_type": "stream",
          "text": [
            "Epoch 34/100: 100%|██████████| 533/533 [00:02<00:00, 221.23it/s]\n"
          ]
        },
        {
          "name": "stdout",
          "output_type": "stream",
          "text": [
            "Epoch 34/100, training loss: 1.719646611088436, validation loss: 1.7293242883326403\n"
          ]
        },
        {
          "name": "stderr",
          "output_type": "stream",
          "text": [
            "Epoch 35/100: 100%|██████████| 533/533 [00:02<00:00, 205.59it/s]\n"
          ]
        },
        {
          "name": "stdout",
          "output_type": "stream",
          "text": [
            "Epoch 35/100, training loss: 1.718815511207867, validation loss: 1.7294225399173908\n"
          ]
        },
        {
          "name": "stderr",
          "output_type": "stream",
          "text": [
            "Epoch 36/100: 100%|██████████| 533/533 [00:03<00:00, 177.50it/s]\n"
          ]
        },
        {
          "name": "stdout",
          "output_type": "stream",
          "text": [
            "Epoch 36/100, training loss: 1.7171556390472469, validation loss: 1.7291448997027838\n"
          ]
        },
        {
          "name": "stderr",
          "output_type": "stream",
          "text": [
            "Epoch 37/100: 100%|██████████| 533/533 [00:02<00:00, 220.46it/s]\n"
          ]
        },
        {
          "name": "stdout",
          "output_type": "stream",
          "text": [
            "Epoch 37/100, training loss: 1.7189809444026696, validation loss: 1.7296600243938502\n"
          ]
        },
        {
          "name": "stderr",
          "output_type": "stream",
          "text": [
            "Epoch 38/100: 100%|██████████| 533/533 [00:02<00:00, 221.39it/s]\n"
          ]
        },
        {
          "name": "stdout",
          "output_type": "stream",
          "text": [
            "Epoch 38/100, training loss: 1.7153029450779784, validation loss: 1.7265734574688014\n"
          ]
        },
        {
          "name": "stderr",
          "output_type": "stream",
          "text": [
            "Epoch 39/100: 100%|██████████| 533/533 [00:02<00:00, 241.25it/s]\n"
          ]
        },
        {
          "name": "stdout",
          "output_type": "stream",
          "text": [
            "Epoch 39/100, training loss: 1.7182993280507386, validation loss: 1.725952432226779\n"
          ]
        },
        {
          "name": "stderr",
          "output_type": "stream",
          "text": [
            "Epoch 40/100: 100%|██████████| 533/533 [00:02<00:00, 243.49it/s]\n"
          ]
        },
        {
          "name": "stdout",
          "output_type": "stream",
          "text": [
            "Epoch 40/100, training loss: 1.7161585376589203, validation loss: 1.7301750334341135\n"
          ]
        },
        {
          "name": "stderr",
          "output_type": "stream",
          "text": [
            "Epoch 41/100: 100%|██████████| 533/533 [00:02<00:00, 239.60it/s]\n"
          ]
        },
        {
          "name": "stdout",
          "output_type": "stream",
          "text": [
            "Epoch 41/100, training loss: 1.7167795518549478, validation loss: 1.7248698152712922\n"
          ]
        },
        {
          "name": "stderr",
          "output_type": "stream",
          "text": [
            "Epoch 42/100: 100%|██████████| 533/533 [00:01<00:00, 277.75it/s]\n"
          ]
        },
        {
          "name": "stdout",
          "output_type": "stream",
          "text": [
            "Epoch 42/100, training loss: 1.7164476821391266, validation loss: 1.7266076447358771\n"
          ]
        },
        {
          "name": "stderr",
          "output_type": "stream",
          "text": [
            "Epoch 43/100: 100%|██████████| 533/533 [00:01<00:00, 277.17it/s]\n"
          ]
        },
        {
          "name": "stdout",
          "output_type": "stream",
          "text": [
            "Epoch 43/100, training loss: 1.7151351760073406, validation loss: 1.726197871699262\n"
          ]
        },
        {
          "name": "stderr",
          "output_type": "stream",
          "text": [
            "Epoch 44/100: 100%|██████████| 533/533 [00:01<00:00, 282.44it/s]\n"
          ]
        },
        {
          "name": "stdout",
          "output_type": "stream",
          "text": [
            "Epoch 44/100, training loss: 1.7156715142570338, validation loss: 1.7256154747151617\n"
          ]
        },
        {
          "name": "stderr",
          "output_type": "stream",
          "text": [
            "Epoch 45/100: 100%|██████████| 533/533 [00:01<00:00, 277.15it/s]\n"
          ]
        },
        {
          "name": "stdout",
          "output_type": "stream",
          "text": [
            "Epoch 45/100, training loss: 1.715456493576293, validation loss: 1.7251753255502502\n"
          ]
        },
        {
          "name": "stderr",
          "output_type": "stream",
          "text": [
            "Epoch 46/100: 100%|██████████| 533/533 [00:01<00:00, 280.97it/s]\n"
          ]
        },
        {
          "name": "stdout",
          "output_type": "stream",
          "text": [
            "Epoch 46/100, training loss: 1.7145955772829324, validation loss: 1.7270924502344274\n"
          ]
        },
        {
          "name": "stderr",
          "output_type": "stream",
          "text": [
            "Epoch 47/100: 100%|██████████| 533/533 [00:01<00:00, 275.64it/s]\n"
          ]
        },
        {
          "name": "stdout",
          "output_type": "stream",
          "text": [
            "Epoch 47/100, training loss: 1.71375856457687, validation loss: 1.7270020726901383\n"
          ]
        },
        {
          "name": "stderr",
          "output_type": "stream",
          "text": [
            "Epoch 48/100: 100%|██████████| 533/533 [00:01<00:00, 278.11it/s]\n"
          ]
        },
        {
          "name": "stdout",
          "output_type": "stream",
          "text": [
            "Epoch 48/100, training loss: 1.7142600187888513, validation loss: 1.7274703161040348\n"
          ]
        },
        {
          "name": "stderr",
          "output_type": "stream",
          "text": [
            "Epoch 49/100: 100%|██████████| 533/533 [00:01<00:00, 273.71it/s]\n"
          ]
        },
        {
          "name": "stdout",
          "output_type": "stream",
          "text": [
            "Epoch 49/100, training loss: 1.7140200008370863, validation loss: 1.7262556686330197\n"
          ]
        },
        {
          "name": "stderr",
          "output_type": "stream",
          "text": [
            "Epoch 50/100: 100%|██████████| 533/533 [00:01<00:00, 282.75it/s]\n"
          ]
        },
        {
          "name": "stdout",
          "output_type": "stream",
          "text": [
            "Epoch 50/100, training loss: 1.7159264004923838, validation loss: 1.7246175203750382\n"
          ]
        },
        {
          "name": "stderr",
          "output_type": "stream",
          "text": [
            "Epoch 51/100: 100%|██████████| 533/533 [00:01<00:00, 274.52it/s]\n"
          ]
        },
        {
          "name": "stdout",
          "output_type": "stream",
          "text": [
            "Epoch 51/100, training loss: 1.7146245312735466, validation loss: 1.7261067059502673\n"
          ]
        },
        {
          "name": "stderr",
          "output_type": "stream",
          "text": [
            "Epoch 52/100: 100%|██████████| 533/533 [00:01<00:00, 276.48it/s]\n"
          ]
        },
        {
          "name": "stdout",
          "output_type": "stream",
          "text": [
            "Epoch 52/100, training loss: 1.7139579028618046, validation loss: 1.7236402613013537\n"
          ]
        },
        {
          "name": "stderr",
          "output_type": "stream",
          "text": [
            "Epoch 53/100: 100%|██████████| 533/533 [00:01<00:00, 279.35it/s]\n"
          ]
        },
        {
          "name": "stdout",
          "output_type": "stream",
          "text": [
            "Epoch 53/100, training loss: 1.7140575743526723, validation loss: 1.7261406663638443\n"
          ]
        },
        {
          "name": "stderr",
          "output_type": "stream",
          "text": [
            "Epoch 54/100: 100%|██████████| 533/533 [00:01<00:00, 269.86it/s]\n"
          ]
        },
        {
          "name": "stdout",
          "output_type": "stream",
          "text": [
            "Epoch 54/100, training loss: 1.713901888138805, validation loss: 1.727537946914559\n"
          ]
        },
        {
          "name": "stderr",
          "output_type": "stream",
          "text": [
            "Epoch 55/100: 100%|██████████| 533/533 [00:02<00:00, 207.09it/s]\n"
          ]
        },
        {
          "name": "stdout",
          "output_type": "stream",
          "text": [
            "Epoch 55/100, training loss: 1.7138063390975151, validation loss: 1.7264007196497562\n"
          ]
        },
        {
          "name": "stderr",
          "output_type": "stream",
          "text": [
            "Epoch 56/100: 100%|██████████| 533/533 [00:02<00:00, 221.89it/s]\n"
          ]
        },
        {
          "name": "stdout",
          "output_type": "stream",
          "text": [
            "Epoch 56/100, training loss: 1.7132315107850151, validation loss: 1.7234941027057704\n"
          ]
        },
        {
          "name": "stderr",
          "output_type": "stream",
          "text": [
            "Epoch 57/100: 100%|██████████| 533/533 [00:02<00:00, 223.32it/s]\n"
          ]
        },
        {
          "name": "stdout",
          "output_type": "stream",
          "text": [
            "Epoch 57/100, training loss: 1.7128853115758127, validation loss: 1.7270755785614698\n"
          ]
        },
        {
          "name": "stderr",
          "output_type": "stream",
          "text": [
            "Epoch 58/100: 100%|██████████| 533/533 [00:02<00:00, 249.30it/s]\n"
          ]
        },
        {
          "name": "stdout",
          "output_type": "stream",
          "text": [
            "Epoch 58/100, training loss: 1.7118834178845834, validation loss: 1.7268866745393667\n"
          ]
        },
        {
          "name": "stderr",
          "output_type": "stream",
          "text": [
            "Epoch 59/100: 100%|██████████| 533/533 [00:02<00:00, 245.58it/s]\n"
          ]
        },
        {
          "name": "stdout",
          "output_type": "stream",
          "text": [
            "Epoch 59/100, training loss: 1.711129725762201, validation loss: 1.725482302815167\n"
          ]
        },
        {
          "name": "stderr",
          "output_type": "stream",
          "text": [
            "Epoch 60/100: 100%|██████████| 533/533 [00:02<00:00, 260.69it/s]\n"
          ]
        },
        {
          "name": "stdout",
          "output_type": "stream",
          "text": [
            "Epoch 60/100, training loss: 1.7103885577722517, validation loss: 1.7256963511011494\n"
          ]
        },
        {
          "name": "stderr",
          "output_type": "stream",
          "text": [
            "Epoch 61/100: 100%|██████████| 533/533 [00:02<00:00, 255.27it/s]\n"
          ]
        },
        {
          "name": "stdout",
          "output_type": "stream",
          "text": [
            "Epoch 61/100, training loss: 1.7124264660740436, validation loss: 1.725650066760049\n"
          ]
        },
        {
          "name": "stderr",
          "output_type": "stream",
          "text": [
            "Epoch 62/100: 100%|██████████| 533/533 [00:02<00:00, 245.07it/s]\n"
          ]
        },
        {
          "name": "stdout",
          "output_type": "stream",
          "text": [
            "Epoch 62/100, training loss: 1.7122379894775477, validation loss: 1.726830162219147\n"
          ]
        },
        {
          "name": "stderr",
          "output_type": "stream",
          "text": [
            "Epoch 63/100: 100%|██████████| 533/533 [00:02<00:00, 257.45it/s]\n"
          ]
        },
        {
          "name": "stdout",
          "output_type": "stream",
          "text": [
            "Epoch 63/100, training loss: 1.7107808903055388, validation loss: 1.723264105284392\n"
          ]
        },
        {
          "name": "stderr",
          "output_type": "stream",
          "text": [
            "Epoch 64/100: 100%|██████████| 533/533 [00:02<00:00, 245.15it/s]\n"
          ]
        },
        {
          "name": "stdout",
          "output_type": "stream",
          "text": [
            "Epoch 64/100, training loss: 1.7108084480042305, validation loss: 1.7248379392410391\n"
          ]
        },
        {
          "name": "stderr",
          "output_type": "stream",
          "text": [
            "Epoch 65/100: 100%|██████████| 533/533 [00:02<00:00, 240.65it/s]\n"
          ]
        },
        {
          "name": "stdout",
          "output_type": "stream",
          "text": [
            "Epoch 65/100, training loss: 1.7120546113706663, validation loss: 1.7235942607495323\n"
          ]
        },
        {
          "name": "stderr",
          "output_type": "stream",
          "text": [
            "Epoch 66/100: 100%|██████████| 533/533 [00:02<00:00, 236.87it/s]\n"
          ]
        },
        {
          "name": "stdout",
          "output_type": "stream",
          "text": [
            "Epoch 66/100, training loss: 1.710872593561212, validation loss: 1.724890117325\n"
          ]
        },
        {
          "name": "stderr",
          "output_type": "stream",
          "text": [
            "Epoch 67/100: 100%|██████████| 533/533 [00:02<00:00, 249.55it/s]\n"
          ]
        },
        {
          "name": "stdout",
          "output_type": "stream",
          "text": [
            "Epoch 67/100, training loss: 1.7108345154749742, validation loss: 1.7238959865783579\n"
          ]
        },
        {
          "name": "stderr",
          "output_type": "stream",
          "text": [
            "Epoch 68/100: 100%|██████████| 533/533 [00:02<00:00, 257.60it/s]\n"
          ]
        },
        {
          "name": "stdout",
          "output_type": "stream",
          "text": [
            "Epoch 68/100, training loss: 1.7115530144653892, validation loss: 1.7250311863956167\n"
          ]
        },
        {
          "name": "stderr",
          "output_type": "stream",
          "text": [
            "Epoch 69/100: 100%|██████████| 533/533 [00:02<00:00, 232.43it/s]\n"
          ]
        },
        {
          "name": "stdout",
          "output_type": "stream",
          "text": [
            "Epoch 69/100, training loss: 1.7101682026435465, validation loss: 1.7276836135494176\n"
          ]
        },
        {
          "name": "stderr",
          "output_type": "stream",
          "text": [
            "Epoch 70/100: 100%|██████████| 533/533 [00:02<00:00, 225.52it/s]\n"
          ]
        },
        {
          "name": "stdout",
          "output_type": "stream",
          "text": [
            "Epoch 70/100, training loss: 1.7110352878498987, validation loss: 1.722080466462605\n"
          ]
        },
        {
          "name": "stderr",
          "output_type": "stream",
          "text": [
            "Epoch 71/100: 100%|██████████| 533/533 [00:02<00:00, 232.10it/s]\n"
          ]
        },
        {
          "name": "stdout",
          "output_type": "stream",
          "text": [
            "Epoch 71/100, training loss: 1.710306752689784, validation loss: 1.7254581602651682\n"
          ]
        },
        {
          "name": "stderr",
          "output_type": "stream",
          "text": [
            "Epoch 72/100: 100%|██████████| 533/533 [00:02<00:00, 208.74it/s]\n"
          ]
        },
        {
          "name": "stdout",
          "output_type": "stream",
          "text": [
            "Epoch 72/100, training loss: 1.7100659051934506, validation loss: 1.7217153453115206\n"
          ]
        },
        {
          "name": "stderr",
          "output_type": "stream",
          "text": [
            "Epoch 73/100: 100%|██████████| 533/533 [00:02<00:00, 213.81it/s]\n"
          ]
        },
        {
          "name": "stdout",
          "output_type": "stream",
          "text": [
            "Epoch 73/100, training loss: 1.7103196389232298, validation loss: 1.7276097402643802\n"
          ]
        },
        {
          "name": "stderr",
          "output_type": "stream",
          "text": [
            "Epoch 74/100: 100%|██████████| 533/533 [00:02<00:00, 214.47it/s]\n"
          ]
        },
        {
          "name": "stdout",
          "output_type": "stream",
          "text": [
            "Epoch 74/100, training loss: 1.709071151534791, validation loss: 1.7210886567386228\n"
          ]
        },
        {
          "name": "stderr",
          "output_type": "stream",
          "text": [
            "Epoch 75/100: 100%|██████████| 533/533 [00:02<00:00, 229.51it/s]\n"
          ]
        },
        {
          "name": "stdout",
          "output_type": "stream",
          "text": [
            "Epoch 75/100, training loss: 1.7104120118085708, validation loss: 1.7237473076848842\n"
          ]
        },
        {
          "name": "stderr",
          "output_type": "stream",
          "text": [
            "Epoch 76/100: 100%|██████████| 533/533 [00:02<00:00, 250.38it/s]\n"
          ]
        },
        {
          "name": "stdout",
          "output_type": "stream",
          "text": [
            "Epoch 76/100, training loss: 1.7101912042213425, validation loss: 1.721814953569156\n"
          ]
        },
        {
          "name": "stderr",
          "output_type": "stream",
          "text": [
            "Epoch 77/100: 100%|██████████| 533/533 [00:02<00:00, 216.14it/s]\n"
          ]
        },
        {
          "name": "stdout",
          "output_type": "stream",
          "text": [
            "Epoch 77/100, training loss: 1.7105632526118582, validation loss: 1.7223259459680587\n"
          ]
        },
        {
          "name": "stderr",
          "output_type": "stream",
          "text": [
            "Epoch 78/100: 100%|██████████| 533/533 [00:02<00:00, 244.31it/s]\n"
          ]
        },
        {
          "name": "stdout",
          "output_type": "stream",
          "text": [
            "Epoch 78/100, training loss: 1.7084364338618954, validation loss: 1.7272891678027253\n"
          ]
        },
        {
          "name": "stderr",
          "output_type": "stream",
          "text": [
            "Epoch 79/100: 100%|██████████| 533/533 [00:02<00:00, 200.66it/s]\n"
          ]
        },
        {
          "name": "stdout",
          "output_type": "stream",
          "text": [
            "Epoch 79/100, training loss: 1.7062978455989044, validation loss: 1.7250141367983463\n"
          ]
        },
        {
          "name": "stderr",
          "output_type": "stream",
          "text": [
            "Epoch 80/100: 100%|██████████| 533/533 [00:02<00:00, 237.15it/s]\n"
          ]
        },
        {
          "name": "stdout",
          "output_type": "stream",
          "text": [
            "Epoch 80/100, training loss: 1.7081302885266674, validation loss: 1.719341516494751\n"
          ]
        },
        {
          "name": "stderr",
          "output_type": "stream",
          "text": [
            "Epoch 81/100: 100%|██████████| 533/533 [00:02<00:00, 249.29it/s]\n"
          ]
        },
        {
          "name": "stdout",
          "output_type": "stream",
          "text": [
            "Epoch 81/100, training loss: 1.708360741778118, validation loss: 1.721753626617033\n"
          ]
        },
        {
          "name": "stderr",
          "output_type": "stream",
          "text": [
            "Epoch 82/100: 100%|██████████| 533/533 [00:02<00:00, 209.60it/s]\n"
          ]
        },
        {
          "name": "stdout",
          "output_type": "stream",
          "text": [
            "Epoch 82/100, training loss: 1.7095628518324633, validation loss: 1.7213043063434201\n"
          ]
        },
        {
          "name": "stderr",
          "output_type": "stream",
          "text": [
            "Epoch 83/100: 100%|██████████| 533/533 [00:02<00:00, 240.27it/s]\n"
          ]
        },
        {
          "name": "stdout",
          "output_type": "stream",
          "text": [
            "Epoch 83/100, training loss: 1.7072336465735374, validation loss: 1.722445053840751\n"
          ]
        },
        {
          "name": "stderr",
          "output_type": "stream",
          "text": [
            "Epoch 84/100: 100%|██████████| 533/533 [00:02<00:00, 197.93it/s]\n"
          ]
        },
        {
          "name": "stdout",
          "output_type": "stream",
          "text": [
            "Epoch 84/100, training loss: 1.7095796927725844, validation loss: 1.7208037927969178\n"
          ]
        },
        {
          "name": "stderr",
          "output_type": "stream",
          "text": [
            "Epoch 85/100: 100%|██████████| 533/533 [00:02<00:00, 239.44it/s]\n"
          ]
        },
        {
          "name": "stdout",
          "output_type": "stream",
          "text": [
            "Epoch 85/100, training loss: 1.7086151149438424, validation loss: 1.7239978429096847\n"
          ]
        },
        {
          "name": "stderr",
          "output_type": "stream",
          "text": [
            "Epoch 86/100: 100%|██████████| 533/533 [00:02<00:00, 249.42it/s]\n"
          ]
        },
        {
          "name": "stdout",
          "output_type": "stream",
          "text": [
            "Epoch 86/100, training loss: 1.708450034680107, validation loss: 1.722934316343336\n"
          ]
        },
        {
          "name": "stderr",
          "output_type": "stream",
          "text": [
            "Epoch 87/100: 100%|██████████| 533/533 [00:02<00:00, 219.86it/s]\n"
          ]
        },
        {
          "name": "stdout",
          "output_type": "stream",
          "text": [
            "Epoch 87/100, training loss: 1.7066616799549583, validation loss: 1.7210629057528368\n"
          ]
        },
        {
          "name": "stderr",
          "output_type": "stream",
          "text": [
            "Epoch 88/100: 100%|██████████| 533/533 [00:02<00:00, 245.16it/s]\n"
          ]
        },
        {
          "name": "stdout",
          "output_type": "stream",
          "text": [
            "Epoch 88/100, training loss: 1.7078414517987737, validation loss: 1.7221787135992477\n"
          ]
        },
        {
          "name": "stderr",
          "output_type": "stream",
          "text": [
            "Epoch 89/100: 100%|██████████| 533/533 [00:02<00:00, 233.05it/s]\n"
          ]
        },
        {
          "name": "stdout",
          "output_type": "stream",
          "text": [
            "Epoch 89/100, training loss: 1.7087918564705196, validation loss: 1.726697911077471\n"
          ]
        },
        {
          "name": "stderr",
          "output_type": "stream",
          "text": [
            "Epoch 90/100: 100%|██████████| 533/533 [00:02<00:00, 242.23it/s]\n"
          ]
        },
        {
          "name": "stdout",
          "output_type": "stream",
          "text": [
            "Epoch 90/100, training loss: 1.7062686722005733, validation loss: 1.7203803738551353\n"
          ]
        },
        {
          "name": "stderr",
          "output_type": "stream",
          "text": [
            "Epoch 91/100: 100%|██████████| 533/533 [00:02<00:00, 233.50it/s]\n"
          ]
        },
        {
          "name": "stdout",
          "output_type": "stream",
          "text": [
            "Epoch 91/100, training loss: 1.7062871080402138, validation loss: 1.7267175939545703\n"
          ]
        },
        {
          "name": "stderr",
          "output_type": "stream",
          "text": [
            "Epoch 92/100: 100%|██████████| 533/533 [00:02<00:00, 229.44it/s]\n"
          ]
        },
        {
          "name": "stdout",
          "output_type": "stream",
          "text": [
            "Epoch 92/100, training loss: 1.7064582838573779, validation loss: 1.7202266783856635\n"
          ]
        },
        {
          "name": "stderr",
          "output_type": "stream",
          "text": [
            "Epoch 93/100: 100%|██████████| 533/533 [00:02<00:00, 243.00it/s]\n"
          ]
        },
        {
          "name": "stdout",
          "output_type": "stream",
          "text": [
            "Epoch 93/100, training loss: 1.707919622451682, validation loss: 1.7227827853231288\n"
          ]
        },
        {
          "name": "stderr",
          "output_type": "stream",
          "text": [
            "Epoch 94/100: 100%|██████████| 533/533 [00:02<00:00, 246.68it/s]\n"
          ]
        },
        {
          "name": "stdout",
          "output_type": "stream",
          "text": [
            "Epoch 94/100, training loss: 1.7064267233657122, validation loss: 1.7190937933637136\n"
          ]
        },
        {
          "name": "stderr",
          "output_type": "stream",
          "text": [
            "Epoch 95/100: 100%|██████████| 533/533 [00:02<00:00, 250.31it/s]\n"
          ]
        },
        {
          "name": "stdout",
          "output_type": "stream",
          "text": [
            "Epoch 95/100, training loss: 1.7076685312317639, validation loss: 1.7203128898321693\n"
          ]
        },
        {
          "name": "stderr",
          "output_type": "stream",
          "text": [
            "Epoch 96/100: 100%|██████████| 533/533 [00:02<00:00, 245.94it/s]\n"
          ]
        },
        {
          "name": "stdout",
          "output_type": "stream",
          "text": [
            "Epoch 96/100, training loss: 1.7059106251983214, validation loss: 1.724737751839766\n"
          ]
        },
        {
          "name": "stderr",
          "output_type": "stream",
          "text": [
            "Epoch 97/100: 100%|██████████| 533/533 [00:02<00:00, 246.10it/s]\n"
          ]
        },
        {
          "name": "stdout",
          "output_type": "stream",
          "text": [
            "Epoch 97/100, training loss: 1.7063895030048506, validation loss: 1.7211716077220973\n"
          ]
        },
        {
          "name": "stderr",
          "output_type": "stream",
          "text": [
            "Epoch 98/100: 100%|██████████| 533/533 [00:02<00:00, 235.19it/s]\n"
          ]
        },
        {
          "name": "stdout",
          "output_type": "stream",
          "text": [
            "Epoch 98/100, training loss: 1.7053154134392514, validation loss: 1.7231368226791495\n"
          ]
        },
        {
          "name": "stderr",
          "output_type": "stream",
          "text": [
            "Epoch 99/100: 100%|██████████| 533/533 [00:02<00:00, 249.79it/s]\n"
          ]
        },
        {
          "name": "stdout",
          "output_type": "stream",
          "text": [
            "Epoch 99/100, training loss: 1.7065396816600777, validation loss: 1.7226977143714677\n"
          ]
        },
        {
          "name": "stderr",
          "output_type": "stream",
          "text": [
            "Epoch 100/100: 100%|██████████| 533/533 [00:02<00:00, 191.53it/s]\n"
          ]
        },
        {
          "name": "stdout",
          "output_type": "stream",
          "text": [
            "Epoch 100/100, training loss: 1.7047869595533016, validation loss: 1.7206250971822596\n"
          ]
        },
        {
          "name": "stderr",
          "output_type": "stream",
          "text": [
            "Epoch 101/100: 100%|██████████| 533/533 [00:02<00:00, 207.78it/s]\n"
          ]
        },
        {
          "name": "stdout",
          "output_type": "stream",
          "text": [
            "Epoch 101/100, training loss: 1.7066953564674276, validation loss: 1.72188617400269\n"
          ]
        },
        {
          "name": "stderr",
          "output_type": "stream",
          "text": [
            "Epoch 102/100: 100%|██████████| 533/533 [00:02<00:00, 202.37it/s]\n"
          ]
        },
        {
          "name": "stdout",
          "output_type": "stream",
          "text": [
            "Epoch 102/100, training loss: 1.7056268603448348, validation loss: 1.718643956219972\n"
          ]
        },
        {
          "name": "stderr",
          "output_type": "stream",
          "text": [
            "Epoch 103/100: 100%|██████████| 533/533 [00:02<00:00, 195.32it/s]\n"
          ]
        },
        {
          "name": "stdout",
          "output_type": "stream",
          "text": [
            "Epoch 103/100, training loss: 1.704370895648763, validation loss: 1.719577963672467\n"
          ]
        },
        {
          "name": "stderr",
          "output_type": "stream",
          "text": [
            "Epoch 104/100: 100%|██████████| 533/533 [00:03<00:00, 176.96it/s]\n"
          ]
        },
        {
          "name": "stdout",
          "output_type": "stream",
          "text": [
            "Epoch 104/100, training loss: 1.7061860514402838, validation loss: 1.7233635676440908\n"
          ]
        },
        {
          "name": "stderr",
          "output_type": "stream",
          "text": [
            "Epoch 105/100: 100%|██████████| 533/533 [00:02<00:00, 211.32it/s]\n"
          ]
        },
        {
          "name": "stdout",
          "output_type": "stream",
          "text": [
            "Epoch 105/100, training loss: 1.7056290331745685, validation loss: 1.7206836689763993\n"
          ]
        },
        {
          "name": "stderr",
          "output_type": "stream",
          "text": [
            "Epoch 106/100: 100%|██████████| 533/533 [00:02<00:00, 232.98it/s]\n"
          ]
        },
        {
          "name": "stdout",
          "output_type": "stream",
          "text": [
            "Epoch 106/100, training loss: 1.7062521602601988, validation loss: 1.721989207303346\n"
          ]
        },
        {
          "name": "stderr",
          "output_type": "stream",
          "text": [
            "Epoch 107/100: 100%|██████████| 533/533 [00:02<00:00, 223.44it/s]\n"
          ]
        },
        {
          "name": "stdout",
          "output_type": "stream",
          "text": [
            "Epoch 107/100, training loss: 1.7042502048538952, validation loss: 1.7229960712034311\n"
          ]
        },
        {
          "name": "stderr",
          "output_type": "stream",
          "text": [
            "Epoch 108/100: 100%|██████████| 533/533 [00:02<00:00, 234.83it/s]\n"
          ]
        },
        {
          "name": "stdout",
          "output_type": "stream",
          "text": [
            "Epoch 108/100, training loss: 1.7052919157897777, validation loss: 1.720347252354693\n"
          ]
        },
        {
          "name": "stderr",
          "output_type": "stream",
          "text": [
            "Epoch 109/100: 100%|██████████| 533/533 [00:02<00:00, 228.26it/s]\n"
          ]
        },
        {
          "name": "stdout",
          "output_type": "stream",
          "text": [
            "Epoch 109/100, training loss: 1.7056140405375784, validation loss: 1.7249496988396147\n"
          ]
        },
        {
          "name": "stderr",
          "output_type": "stream",
          "text": [
            "Epoch 110/100: 100%|██████████| 533/533 [00:02<00:00, 237.92it/s]\n"
          ]
        },
        {
          "name": "stdout",
          "output_type": "stream",
          "text": [
            "Epoch 110/100, training loss: 1.7075722360700425, validation loss: 1.719806503893724\n"
          ]
        },
        {
          "name": "stderr",
          "output_type": "stream",
          "text": [
            "Epoch 111/100: 100%|██████████| 533/533 [00:02<00:00, 235.74it/s]\n"
          ]
        },
        {
          "name": "stdout",
          "output_type": "stream",
          "text": [
            "Epoch 111/100, training loss: 1.7057829596535574, validation loss: 1.7198424828586294\n"
          ]
        },
        {
          "name": "stderr",
          "output_type": "stream",
          "text": [
            "Epoch 112/100: 100%|██████████| 533/533 [00:02<00:00, 227.73it/s]\n"
          ]
        },
        {
          "name": "stdout",
          "output_type": "stream",
          "text": [
            "Epoch 112/100, training loss: 1.7027253212222015, validation loss: 1.7235218446646163\n"
          ]
        },
        {
          "name": "stderr",
          "output_type": "stream",
          "text": [
            "Epoch 113/100: 100%|██████████| 533/533 [00:02<00:00, 222.64it/s]\n"
          ]
        },
        {
          "name": "stdout",
          "output_type": "stream",
          "text": [
            "Epoch 113/100, training loss: 1.7030356138329568, validation loss: 1.71917368493863\n"
          ]
        },
        {
          "name": "stderr",
          "output_type": "stream",
          "text": [
            "Epoch 114/100: 100%|██████████| 533/533 [00:02<00:00, 232.76it/s]\n"
          ]
        },
        {
          "name": "stdout",
          "output_type": "stream",
          "text": [
            "Epoch 114/100, training loss: 1.7071575507885073, validation loss: 1.7228784810251265\n"
          ]
        },
        {
          "name": "stderr",
          "output_type": "stream",
          "text": [
            "Epoch 115/100: 100%|██████████| 533/533 [00:02<00:00, 231.12it/s]\n"
          ]
        },
        {
          "name": "stdout",
          "output_type": "stream",
          "text": [
            "Epoch 115/100, training loss: 1.7031469342856203, validation loss: 1.7254974183751577\n"
          ]
        },
        {
          "name": "stderr",
          "output_type": "stream",
          "text": [
            "Epoch 116/100: 100%|██████████| 533/533 [00:02<00:00, 219.67it/s]\n"
          ]
        },
        {
          "name": "stdout",
          "output_type": "stream",
          "text": [
            "Epoch 116/100, training loss: 1.7051885682691106, validation loss: 1.7199837369705313\n"
          ]
        },
        {
          "name": "stderr",
          "output_type": "stream",
          "text": [
            "Epoch 117/100: 100%|██████████| 533/533 [00:02<00:00, 206.48it/s]\n"
          ]
        },
        {
          "name": "stdout",
          "output_type": "stream",
          "text": [
            "Epoch 117/100, training loss: 1.7030869811829215, validation loss: 1.7224045271304116\n"
          ]
        },
        {
          "name": "stderr",
          "output_type": "stream",
          "text": [
            "Epoch 118/100: 100%|██████████| 533/533 [00:02<00:00, 205.96it/s]\n"
          ]
        },
        {
          "name": "stdout",
          "output_type": "stream",
          "text": [
            "Epoch 118/100, training loss: 1.7042626748612852, validation loss: 1.724322434681565\n"
          ]
        },
        {
          "name": "stderr",
          "output_type": "stream",
          "text": [
            "Epoch 119/100: 100%|██████████| 533/533 [00:02<00:00, 219.76it/s]\n"
          ]
        },
        {
          "name": "stdout",
          "output_type": "stream",
          "text": [
            "Epoch 119/100, training loss: 1.7025737867570057, validation loss: 1.7208606333874945\n"
          ]
        },
        {
          "name": "stderr",
          "output_type": "stream",
          "text": [
            "Epoch 120/100: 100%|██████████| 533/533 [00:02<00:00, 231.67it/s]\n"
          ]
        },
        {
          "name": "stdout",
          "output_type": "stream",
          "text": [
            "Epoch 120/100, training loss: 1.7043051462459744, validation loss: 1.7227597761510023\n"
          ]
        },
        {
          "name": "stderr",
          "output_type": "stream",
          "text": [
            "Epoch 121/100: 100%|██████████| 533/533 [00:02<00:00, 224.76it/s]\n"
          ]
        },
        {
          "name": "stdout",
          "output_type": "stream",
          "text": [
            "Epoch 121/100, training loss: 1.7029569037188732, validation loss: 1.7210476647562056\n"
          ]
        },
        {
          "name": "stderr",
          "output_type": "stream",
          "text": [
            "Epoch 122/100: 100%|██████████| 533/533 [00:02<00:00, 218.58it/s]\n"
          ]
        },
        {
          "name": "stdout",
          "output_type": "stream",
          "text": [
            "Epoch 122/100, training loss: 1.702341221286924, validation loss: 1.7214027411902129\n"
          ]
        },
        {
          "name": "stderr",
          "output_type": "stream",
          "text": [
            "Epoch 123/100: 100%|██████████| 533/533 [00:02<00:00, 203.65it/s]\n"
          ]
        },
        {
          "name": "stdout",
          "output_type": "stream",
          "text": [
            "Epoch 123/100, training loss: 1.7044568258646953, validation loss: 1.721341126890325\n"
          ]
        },
        {
          "name": "stderr",
          "output_type": "stream",
          "text": [
            "Epoch 124/100: 100%|██████████| 533/533 [00:02<00:00, 229.51it/s]\n"
          ]
        },
        {
          "name": "stdout",
          "output_type": "stream",
          "text": [
            "Epoch 124/100, training loss: 1.703159086476124, validation loss: 1.7187067483788105\n"
          ]
        },
        {
          "name": "stderr",
          "output_type": "stream",
          "text": [
            "Epoch 125/100: 100%|██████████| 533/533 [00:02<00:00, 217.77it/s]\n"
          ]
        },
        {
          "name": "stdout",
          "output_type": "stream",
          "text": [
            "Epoch 125/100, training loss: 1.703939813610313, validation loss: 1.719558890186139\n"
          ]
        },
        {
          "name": "stderr",
          "output_type": "stream",
          "text": [
            "Epoch 126/100: 100%|██████████| 533/533 [00:02<00:00, 230.99it/s]\n"
          ]
        },
        {
          "name": "stdout",
          "output_type": "stream",
          "text": [
            "Epoch 126/100, training loss: 1.7048683846421806, validation loss: 1.7201880403419039\n"
          ]
        },
        {
          "name": "stderr",
          "output_type": "stream",
          "text": [
            "Epoch 127/100: 100%|██████████| 533/533 [00:02<00:00, 225.41it/s]\n"
          ]
        },
        {
          "name": "stdout",
          "output_type": "stream",
          "text": [
            "Epoch 127/100, training loss: 1.7033347658547406, validation loss: 1.724358548868948\n"
          ]
        },
        {
          "name": "stderr",
          "output_type": "stream",
          "text": [
            "Epoch 128/100: 100%|██████████| 533/533 [00:02<00:00, 230.91it/s]\n"
          ]
        },
        {
          "name": "stdout",
          "output_type": "stream",
          "text": [
            "Epoch 128/100, training loss: 1.701737144874587, validation loss: 1.7214668953596657\n"
          ]
        },
        {
          "name": "stderr",
          "output_type": "stream",
          "text": [
            "Epoch 129/100: 100%|██████████| 533/533 [00:02<00:00, 217.64it/s]\n"
          ]
        },
        {
          "name": "stdout",
          "output_type": "stream",
          "text": [
            "Epoch 129/100, training loss: 1.702646519185007, validation loss: 1.7262495017763395\n"
          ]
        },
        {
          "name": "stderr",
          "output_type": "stream",
          "text": [
            "Epoch 130/100: 100%|██████████| 533/533 [00:02<00:00, 235.52it/s]\n"
          ]
        },
        {
          "name": "stdout",
          "output_type": "stream",
          "text": [
            "Epoch 130/100, training loss: 1.7034337804644013, validation loss: 1.7205921998664515\n"
          ]
        },
        {
          "name": "stderr",
          "output_type": "stream",
          "text": [
            "Epoch 131/100: 100%|██████████| 533/533 [00:02<00:00, 231.13it/s]\n"
          ]
        },
        {
          "name": "stdout",
          "output_type": "stream",
          "text": [
            "Epoch 131/100, training loss: 1.7020766041739572, validation loss: 1.7194035506960172\n"
          ]
        },
        {
          "name": "stderr",
          "output_type": "stream",
          "text": [
            "Epoch 132/100: 100%|██████████| 533/533 [00:02<00:00, 227.24it/s]\n"
          ]
        },
        {
          "name": "stdout",
          "output_type": "stream",
          "text": [
            "Epoch 132/100, training loss: 1.7023121825302296, validation loss: 1.7222763077536625\n"
          ]
        },
        {
          "name": "stderr",
          "output_type": "stream",
          "text": [
            "Epoch 133/100: 100%|██████████| 533/533 [00:02<00:00, 233.65it/s]\n"
          ]
        },
        {
          "name": "stdout",
          "output_type": "stream",
          "text": [
            "Epoch 133/100, training loss: 1.7016955739338, validation loss: 1.7192216506644862\n"
          ]
        },
        {
          "name": "stderr",
          "output_type": "stream",
          "text": [
            "Epoch 134/100: 100%|██████████| 533/533 [00:02<00:00, 230.61it/s]\n"
          ]
        },
        {
          "name": "stdout",
          "output_type": "stream",
          "text": [
            "Epoch 134/100, training loss: 1.7023857402533125, validation loss: 1.7219904056235926\n"
          ]
        },
        {
          "name": "stderr",
          "output_type": "stream",
          "text": [
            "Epoch 135/100: 100%|██████████| 533/533 [00:02<00:00, 232.35it/s]\n"
          ]
        },
        {
          "name": "stdout",
          "output_type": "stream",
          "text": [
            "Epoch 135/100, training loss: 1.702258851693674, validation loss: 1.722944493614026\n"
          ]
        },
        {
          "name": "stderr",
          "output_type": "stream",
          "text": [
            "Epoch 136/100: 100%|██████████| 533/533 [00:02<00:00, 218.56it/s]\n"
          ]
        },
        {
          "name": "stdout",
          "output_type": "stream",
          "text": [
            "Epoch 136/100, training loss: 1.702272628530105, validation loss: 1.7198227288118049\n"
          ]
        },
        {
          "name": "stderr",
          "output_type": "stream",
          "text": [
            "Epoch 137/100: 100%|██████████| 533/533 [00:02<00:00, 222.54it/s]\n"
          ]
        },
        {
          "name": "stdout",
          "output_type": "stream",
          "text": [
            "Epoch 137/100, training loss: 1.703542067007097, validation loss: 1.7216711026519091\n"
          ]
        },
        {
          "name": "stderr",
          "output_type": "stream",
          "text": [
            "Epoch 138/100: 100%|██████████| 533/533 [00:02<00:00, 233.27it/s]\n"
          ]
        },
        {
          "name": "stdout",
          "output_type": "stream",
          "text": [
            "Epoch 138/100, training loss: 1.7018228968357278, validation loss: 1.7213476353616857\n"
          ]
        },
        {
          "name": "stderr",
          "output_type": "stream",
          "text": [
            "Epoch 139/100: 100%|██████████| 533/533 [00:02<00:00, 235.73it/s]\n"
          ]
        },
        {
          "name": "stdout",
          "output_type": "stream",
          "text": [
            "Epoch 139/100, training loss: 1.701833671297857, validation loss: 1.722012690643766\n"
          ]
        },
        {
          "name": "stderr",
          "output_type": "stream",
          "text": [
            "Epoch 140/100: 100%|██████████| 533/533 [00:02<00:00, 229.85it/s]\n"
          ]
        },
        {
          "name": "stdout",
          "output_type": "stream",
          "text": [
            "Epoch 140/100, training loss: 1.7016935098014674, validation loss: 1.7221961688639513\n"
          ]
        },
        {
          "name": "stderr",
          "output_type": "stream",
          "text": [
            "Epoch 141/100: 100%|██████████| 533/533 [00:02<00:00, 232.11it/s]\n"
          ]
        },
        {
          "name": "stdout",
          "output_type": "stream",
          "text": [
            "Epoch 141/100, training loss: 1.7028577605063204, validation loss: 1.7218512243299342\n"
          ]
        },
        {
          "name": "stderr",
          "output_type": "stream",
          "text": [
            "Epoch 142/100: 100%|██████████| 533/533 [00:02<00:00, 225.37it/s]\n"
          ]
        },
        {
          "name": "stdout",
          "output_type": "stream",
          "text": [
            "Epoch 142/100, training loss: 1.7013926816925993, validation loss: 1.722107498503443\n"
          ]
        },
        {
          "name": "stderr",
          "output_type": "stream",
          "text": [
            "Epoch 143/100: 100%|██████████| 533/533 [00:02<00:00, 198.69it/s]\n"
          ]
        },
        {
          "name": "stdout",
          "output_type": "stream",
          "text": [
            "Epoch 143/100, training loss: 1.701554422754284, validation loss: 1.7202044467427837\n"
          ]
        },
        {
          "name": "stderr",
          "output_type": "stream",
          "text": [
            "Epoch 144/100: 100%|██████████| 533/533 [00:02<00:00, 213.52it/s]\n"
          ]
        },
        {
          "name": "stdout",
          "output_type": "stream",
          "text": [
            "Epoch 144/100, training loss: 1.70253979801908, validation loss: 1.718702342083205\n"
          ]
        },
        {
          "name": "stderr",
          "output_type": "stream",
          "text": [
            "Epoch 145/100: 100%|██████████| 533/533 [00:02<00:00, 226.36it/s]\n"
          ]
        },
        {
          "name": "stdout",
          "output_type": "stream",
          "text": [
            "Epoch 145/100, training loss: 1.7011738635361977, validation loss: 1.720222318350379\n"
          ]
        },
        {
          "name": "stderr",
          "output_type": "stream",
          "text": [
            "Epoch 146/100: 100%|██████████| 533/533 [00:02<00:00, 228.73it/s]\n"
          ]
        },
        {
          "name": "stdout",
          "output_type": "stream",
          "text": [
            "Epoch 146/100, training loss: 1.7021721525442757, validation loss: 1.7192476872187943\n"
          ]
        },
        {
          "name": "stderr",
          "output_type": "stream",
          "text": [
            "Epoch 147/100: 100%|██████████| 533/533 [00:02<00:00, 232.56it/s]\n"
          ]
        },
        {
          "name": "stdout",
          "output_type": "stream",
          "text": [
            "Epoch 147/100, training loss: 1.70100320951129, validation loss: 1.7222409693162832\n"
          ]
        },
        {
          "name": "stderr",
          "output_type": "stream",
          "text": [
            "Epoch 148/100: 100%|██████████| 533/533 [00:02<00:00, 235.38it/s]\n"
          ]
        },
        {
          "name": "stdout",
          "output_type": "stream",
          "text": [
            "Epoch 148/100, training loss: 1.7000743542111165, validation loss: 1.722468103045848\n"
          ]
        },
        {
          "name": "stderr",
          "output_type": "stream",
          "text": [
            "Epoch 149/100: 100%|██████████| 533/533 [00:02<00:00, 245.55it/s]\n"
          ]
        },
        {
          "name": "stdout",
          "output_type": "stream",
          "text": [
            "Epoch 149/100, training loss: 1.7018895489189907, validation loss: 1.7193362908576852\n"
          ]
        },
        {
          "name": "stderr",
          "output_type": "stream",
          "text": [
            "Epoch 150/100: 100%|██████████| 533/533 [00:02<00:00, 228.61it/s]\n"
          ]
        },
        {
          "name": "stdout",
          "output_type": "stream",
          "text": [
            "Epoch 150/100, training loss: 1.7014364460395828, validation loss: 1.7176008429100265\n"
          ]
        },
        {
          "name": "stderr",
          "output_type": "stream",
          "text": [
            "Epoch 151/100: 100%|██████████| 533/533 [00:02<00:00, 198.45it/s]\n"
          ]
        },
        {
          "name": "stdout",
          "output_type": "stream",
          "text": [
            "Epoch 151/100, training loss: 1.6982059545856927, validation loss: 1.7182255075938666\n"
          ]
        },
        {
          "name": "stderr",
          "output_type": "stream",
          "text": [
            "Epoch 152/100: 100%|██████████| 533/533 [00:02<00:00, 200.28it/s]\n"
          ]
        },
        {
          "name": "stdout",
          "output_type": "stream",
          "text": [
            "Epoch 152/100, training loss: 1.6998929713501492, validation loss: 1.7229461340761896\n"
          ]
        },
        {
          "name": "stderr",
          "output_type": "stream",
          "text": [
            "Epoch 153/100: 100%|██████████| 533/533 [00:02<00:00, 235.66it/s]\n"
          ]
        },
        {
          "name": "stdout",
          "output_type": "stream",
          "text": [
            "Epoch 153/100, training loss: 1.7011959787604956, validation loss: 1.7208276310963417\n"
          ]
        },
        {
          "name": "stderr",
          "output_type": "stream",
          "text": [
            "Epoch 154/100: 100%|██████████| 533/533 [00:02<00:00, 225.34it/s]\n"
          ]
        },
        {
          "name": "stdout",
          "output_type": "stream",
          "text": [
            "Epoch 154/100, training loss: 1.6996703964236977, validation loss: 1.7265790434026007\n"
          ]
        },
        {
          "name": "stderr",
          "output_type": "stream",
          "text": [
            "Epoch 155/100: 100%|██████████| 533/533 [00:02<00:00, 238.12it/s]\n"
          ]
        },
        {
          "name": "stdout",
          "output_type": "stream",
          "text": [
            "Epoch 155/100, training loss: 1.7013313226807185, validation loss: 1.720037287740565\n"
          ]
        },
        {
          "name": "stderr",
          "output_type": "stream",
          "text": [
            "Epoch 156/100: 100%|██████████| 533/533 [00:02<00:00, 220.33it/s]\n"
          ]
        },
        {
          "name": "stdout",
          "output_type": "stream",
          "text": [
            "Epoch 156/100, training loss: 1.700954607011677, validation loss: 1.7195737281842018\n"
          ]
        },
        {
          "name": "stderr",
          "output_type": "stream",
          "text": [
            "Epoch 157/100: 100%|██████████| 533/533 [00:02<00:00, 220.52it/s]\n"
          ]
        },
        {
          "name": "stdout",
          "output_type": "stream",
          "text": [
            "Epoch 157/100, training loss: 1.7014606052670649, validation loss: 1.7224006439322856\n"
          ]
        },
        {
          "name": "stderr",
          "output_type": "stream",
          "text": [
            "Epoch 158/100: 100%|██████████| 533/533 [00:02<00:00, 240.09it/s]\n"
          ]
        },
        {
          "name": "stdout",
          "output_type": "stream",
          "text": [
            "Epoch 158/100, training loss: 1.6996227326133686, validation loss: 1.7187736683817052\n"
          ]
        },
        {
          "name": "stderr",
          "output_type": "stream",
          "text": [
            "Epoch 159/100: 100%|██████████| 533/533 [00:02<00:00, 226.34it/s]\n"
          ]
        },
        {
          "name": "stdout",
          "output_type": "stream",
          "text": [
            "Epoch 159/100, training loss: 1.7000739706390122, validation loss: 1.71856940326406\n"
          ]
        },
        {
          "name": "stderr",
          "output_type": "stream",
          "text": [
            "Epoch 160/100: 100%|██████████| 533/533 [00:02<00:00, 194.63it/s]\n"
          ]
        },
        {
          "name": "stdout",
          "output_type": "stream",
          "text": [
            "Epoch 160/100, training loss: 1.698908342429442, validation loss: 1.7227999301099066\n"
          ]
        },
        {
          "name": "stderr",
          "output_type": "stream",
          "text": [
            "Epoch 161/100: 100%|██████████| 533/533 [00:02<00:00, 220.90it/s]\n"
          ]
        },
        {
          "name": "stdout",
          "output_type": "stream",
          "text": [
            "Epoch 161/100, training loss: 1.7011923997979226, validation loss: 1.720341360391076\n"
          ]
        },
        {
          "name": "stderr",
          "output_type": "stream",
          "text": [
            "Epoch 162/100: 100%|██████████| 533/533 [00:02<00:00, 226.04it/s]\n"
          ]
        },
        {
          "name": "stdout",
          "output_type": "stream",
          "text": [
            "Epoch 162/100, training loss: 1.6992802664665523, validation loss: 1.7225981292439931\n"
          ]
        },
        {
          "name": "stderr",
          "output_type": "stream",
          "text": [
            "Epoch 163/100: 100%|██████████| 533/533 [00:02<00:00, 217.36it/s]\n"
          ]
        },
        {
          "name": "stdout",
          "output_type": "stream",
          "text": [
            "Epoch 163/100, training loss: 1.7007849250009761, validation loss: 1.7195680265995994\n"
          ]
        },
        {
          "name": "stderr",
          "output_type": "stream",
          "text": [
            "Epoch 164/100: 100%|██████████| 533/533 [00:02<00:00, 223.02it/s]\n"
          ]
        },
        {
          "name": "stdout",
          "output_type": "stream",
          "text": [
            "Epoch 164/100, training loss: 1.6973005240227448, validation loss: 1.7245618478575748\n"
          ]
        },
        {
          "name": "stderr",
          "output_type": "stream",
          "text": [
            "Epoch 165/100: 100%|██████████| 533/533 [00:02<00:00, 205.96it/s]\n"
          ]
        },
        {
          "name": "stdout",
          "output_type": "stream",
          "text": [
            "Epoch 165/100, training loss: 1.6994820739270151, validation loss: 1.7217397520791238\n"
          ]
        },
        {
          "name": "stderr",
          "output_type": "stream",
          "text": [
            "Epoch 166/100: 100%|██████████| 533/533 [00:02<00:00, 229.15it/s]\n"
          ]
        },
        {
          "name": "stdout",
          "output_type": "stream",
          "text": [
            "Epoch 166/100, training loss: 1.6972039723262107, validation loss: 1.7214618850110182\n"
          ]
        },
        {
          "name": "stderr",
          "output_type": "stream",
          "text": [
            "Epoch 167/100: 100%|██████████| 533/533 [00:02<00:00, 213.70it/s]\n"
          ]
        },
        {
          "name": "stdout",
          "output_type": "stream",
          "text": [
            "Epoch 167/100, training loss: 1.6994534033100779, validation loss: 1.7194878850410233\n"
          ]
        },
        {
          "name": "stderr",
          "output_type": "stream",
          "text": [
            "Epoch 168/100: 100%|██████████| 533/533 [00:02<00:00, 195.23it/s]\n"
          ]
        },
        {
          "name": "stdout",
          "output_type": "stream",
          "text": [
            "Epoch 168/100, training loss: 1.698407918606198, validation loss: 1.7189832774560843\n"
          ]
        },
        {
          "name": "stderr",
          "output_type": "stream",
          "text": [
            "Epoch 169/100: 100%|██████████| 533/533 [00:02<00:00, 194.20it/s]\n"
          ]
        },
        {
          "name": "stdout",
          "output_type": "stream",
          "text": [
            "Epoch 169/100, training loss: 1.699053384796987, validation loss: 1.7205556301928278\n"
          ]
        },
        {
          "name": "stderr",
          "output_type": "stream",
          "text": [
            "Epoch 170/100: 100%|██████████| 533/533 [00:02<00:00, 221.07it/s]\n"
          ]
        },
        {
          "name": "stdout",
          "output_type": "stream",
          "text": [
            "Epoch 170/100, training loss: 1.698808039330631, validation loss: 1.719871724719432\n"
          ]
        },
        {
          "name": "stderr",
          "output_type": "stream",
          "text": [
            "Epoch 171/100: 100%|██████████| 533/533 [00:02<00:00, 222.23it/s]\n"
          ]
        },
        {
          "name": "stdout",
          "output_type": "stream",
          "text": [
            "Epoch 171/100, training loss: 1.6978041260148526, validation loss: 1.7174783562546345\n"
          ]
        },
        {
          "name": "stderr",
          "output_type": "stream",
          "text": [
            "Epoch 172/100: 100%|██████████| 533/533 [00:02<00:00, 229.95it/s]\n"
          ]
        },
        {
          "name": "stdout",
          "output_type": "stream",
          "text": [
            "Epoch 172/100, training loss: 1.7000028970764904, validation loss: 1.7206171288419125\n"
          ]
        },
        {
          "name": "stderr",
          "output_type": "stream",
          "text": [
            "Epoch 173/100: 100%|██████████| 533/533 [00:02<00:00, 228.90it/s]\n"
          ]
        },
        {
          "name": "stdout",
          "output_type": "stream",
          "text": [
            "Epoch 173/100, training loss: 1.6990833593354215, validation loss: 1.7211704690064957\n"
          ]
        },
        {
          "name": "stderr",
          "output_type": "stream",
          "text": [
            "Epoch 174/100: 100%|██████████| 533/533 [00:02<00:00, 213.27it/s]\n"
          ]
        },
        {
          "name": "stdout",
          "output_type": "stream",
          "text": [
            "Epoch 174/100, training loss: 1.700519155158782, validation loss: 1.718900676983506\n"
          ]
        },
        {
          "name": "stderr",
          "output_type": "stream",
          "text": [
            "Epoch 175/100: 100%|██████████| 533/533 [00:02<00:00, 223.16it/s]\n"
          ]
        },
        {
          "name": "stdout",
          "output_type": "stream",
          "text": [
            "Epoch 175/100, training loss: 1.699779637088024, validation loss: 1.7214717864990234\n"
          ]
        },
        {
          "name": "stderr",
          "output_type": "stream",
          "text": [
            "Epoch 176/100: 100%|██████████| 533/533 [00:02<00:00, 223.94it/s]\n"
          ]
        },
        {
          "name": "stdout",
          "output_type": "stream",
          "text": [
            "Epoch 176/100, training loss: 1.698166719744398, validation loss: 1.7202336717007765\n"
          ]
        },
        {
          "name": "stderr",
          "output_type": "stream",
          "text": [
            "Epoch 177/100: 100%|██████████| 533/533 [00:02<00:00, 219.62it/s]\n"
          ]
        },
        {
          "name": "stdout",
          "output_type": "stream",
          "text": [
            "Epoch 177/100, training loss: 1.6991579029394583, validation loss: 1.7197613004428238\n"
          ]
        },
        {
          "name": "stderr",
          "output_type": "stream",
          "text": [
            "Epoch 178/100: 100%|██████████| 533/533 [00:02<00:00, 233.35it/s]\n"
          ]
        },
        {
          "name": "stdout",
          "output_type": "stream",
          "text": [
            "Epoch 178/100, training loss: 1.6983851567889243, validation loss: 1.7211214570856805\n"
          ]
        },
        {
          "name": "stderr",
          "output_type": "stream",
          "text": [
            "Epoch 179/100: 100%|██████████| 533/533 [00:02<00:00, 216.51it/s]\n"
          ]
        },
        {
          "name": "stdout",
          "output_type": "stream",
          "text": [
            "Epoch 179/100, training loss: 1.6980712078302036, validation loss: 1.7215419278216006\n"
          ]
        },
        {
          "name": "stderr",
          "output_type": "stream",
          "text": [
            "Epoch 180/100: 100%|██████████| 533/533 [00:02<00:00, 217.76it/s]\n"
          ]
        },
        {
          "name": "stdout",
          "output_type": "stream",
          "text": [
            "Epoch 180/100, training loss: 1.698397440713521, validation loss: 1.72381421701232\n"
          ]
        },
        {
          "name": "stderr",
          "output_type": "stream",
          "text": [
            "Epoch 181/100: 100%|██████████| 533/533 [00:02<00:00, 230.03it/s]\n"
          ]
        },
        {
          "name": "stdout",
          "output_type": "stream",
          "text": [
            "Epoch 181/100, training loss: 1.6986688357580446, validation loss: 1.7181670790287986\n"
          ]
        },
        {
          "name": "stderr",
          "output_type": "stream",
          "text": [
            "Epoch 182/100: 100%|██████████| 533/533 [00:02<00:00, 224.50it/s]\n"
          ]
        },
        {
          "name": "stdout",
          "output_type": "stream",
          "text": [
            "Epoch 182/100, training loss: 1.6976177039334295, validation loss: 1.7189941708721332\n"
          ]
        },
        {
          "name": "stderr",
          "output_type": "stream",
          "text": [
            "Epoch 183/100: 100%|██████████| 533/533 [00:02<00:00, 225.18it/s]\n"
          ]
        },
        {
          "name": "stdout",
          "output_type": "stream",
          "text": [
            "Epoch 183/100, training loss: 1.6973885154634658, validation loss: 1.719195487783916\n"
          ]
        },
        {
          "name": "stderr",
          "output_type": "stream",
          "text": [
            "Epoch 184/100: 100%|██████████| 533/533 [00:02<00:00, 219.83it/s]\n"
          ]
        },
        {
          "name": "stdout",
          "output_type": "stream",
          "text": [
            "Epoch 184/100, training loss: 1.6994676784547587, validation loss: 1.7227804260467416\n"
          ]
        },
        {
          "name": "stderr",
          "output_type": "stream",
          "text": [
            "Epoch 185/100: 100%|██████████| 533/533 [00:02<00:00, 224.72it/s]\n"
          ]
        },
        {
          "name": "stdout",
          "output_type": "stream",
          "text": [
            "Epoch 185/100, training loss: 1.6966068845305164, validation loss: 1.7191267440568154\n"
          ]
        },
        {
          "name": "stderr",
          "output_type": "stream",
          "text": [
            "Epoch 186/100: 100%|██████████| 533/533 [00:02<00:00, 222.82it/s]\n"
          ]
        },
        {
          "name": "stdout",
          "output_type": "stream",
          "text": [
            "Epoch 186/100, training loss: 1.6965201498196227, validation loss: 1.7197785715558636\n"
          ]
        },
        {
          "name": "stderr",
          "output_type": "stream",
          "text": [
            "Epoch 187/100: 100%|██████████| 533/533 [00:02<00:00, 215.30it/s]\n"
          ]
        },
        {
          "name": "stdout",
          "output_type": "stream",
          "text": [
            "Epoch 187/100, training loss: 1.6971330982659145, validation loss: 1.7210376307145874\n"
          ]
        },
        {
          "name": "stderr",
          "output_type": "stream",
          "text": [
            "Epoch 188/100: 100%|██████████| 533/533 [00:02<00:00, 216.59it/s]\n"
          ]
        },
        {
          "name": "stdout",
          "output_type": "stream",
          "text": [
            "Epoch 188/100, training loss: 1.698388854066158, validation loss: 1.720563530921936\n"
          ]
        },
        {
          "name": "stderr",
          "output_type": "stream",
          "text": [
            "Epoch 189/100: 100%|██████████| 533/533 [00:02<00:00, 227.80it/s]\n"
          ]
        },
        {
          "name": "stdout",
          "output_type": "stream",
          "text": [
            "Epoch 189/100, training loss: 1.6962052979567708, validation loss: 1.7209058457346105\n"
          ]
        },
        {
          "name": "stderr",
          "output_type": "stream",
          "text": [
            "Epoch 190/100: 100%|██████████| 533/533 [00:02<00:00, 214.17it/s]\n"
          ]
        },
        {
          "name": "stdout",
          "output_type": "stream",
          "text": [
            "Epoch 190/100, training loss: 1.697420073271245, validation loss: 1.7196822397744478\n"
          ]
        },
        {
          "name": "stderr",
          "output_type": "stream",
          "text": [
            "Epoch 191/100: 100%|██████████| 533/533 [00:02<00:00, 206.74it/s]\n"
          ]
        },
        {
          "name": "stdout",
          "output_type": "stream",
          "text": [
            "Epoch 191/100, training loss: 1.695450270153568, validation loss: 1.7200818746837216\n"
          ]
        },
        {
          "name": "stderr",
          "output_type": "stream",
          "text": [
            "Epoch 192/100: 100%|██████████| 533/533 [00:02<00:00, 210.09it/s]\n"
          ]
        },
        {
          "name": "stdout",
          "output_type": "stream",
          "text": [
            "Epoch 192/100, training loss: 1.696252013907871, validation loss: 1.7218067886224433\n"
          ]
        },
        {
          "name": "stderr",
          "output_type": "stream",
          "text": [
            "Epoch 193/100: 100%|██████████| 533/533 [00:02<00:00, 221.85it/s]\n"
          ]
        },
        {
          "name": "stdout",
          "output_type": "stream",
          "text": [
            "Epoch 193/100, training loss: 1.696707434099566, validation loss: 1.7221493409640753\n"
          ]
        },
        {
          "name": "stderr",
          "output_type": "stream",
          "text": [
            "Epoch 194/100: 100%|██████████| 533/533 [00:02<00:00, 206.43it/s]\n"
          ]
        },
        {
          "name": "stdout",
          "output_type": "stream",
          "text": [
            "Epoch 194/100, training loss: 1.699461649774834, validation loss: 1.7226344275830396\n"
          ]
        },
        {
          "name": "stderr",
          "output_type": "stream",
          "text": [
            "Epoch 195/100: 100%|██████████| 533/533 [00:02<00:00, 196.79it/s]\n"
          ]
        },
        {
          "name": "stdout",
          "output_type": "stream",
          "text": [
            "Epoch 195/100, training loss: 1.697183550634259, validation loss: 1.7197890237196167\n"
          ]
        },
        {
          "name": "stderr",
          "output_type": "stream",
          "text": [
            "Epoch 196/100: 100%|██████████| 533/533 [00:02<00:00, 224.15it/s]\n"
          ]
        },
        {
          "name": "stdout",
          "output_type": "stream",
          "text": [
            "Epoch 196/100, training loss: 1.6974592551057825, validation loss: 1.7204633906706055\n"
          ]
        },
        {
          "name": "stderr",
          "output_type": "stream",
          "text": [
            "Epoch 197/100: 100%|██████████| 533/533 [00:02<00:00, 229.62it/s]\n"
          ]
        },
        {
          "name": "stdout",
          "output_type": "stream",
          "text": [
            "Epoch 197/100, training loss: 1.6970347960044474, validation loss: 1.718363063548928\n"
          ]
        },
        {
          "name": "stderr",
          "output_type": "stream",
          "text": [
            "Epoch 198/100: 100%|██████████| 533/533 [00:02<00:00, 216.91it/s]\n"
          ]
        },
        {
          "name": "stdout",
          "output_type": "stream",
          "text": [
            "Epoch 198/100, training loss: 1.6966125750407492, validation loss: 1.716111513216104\n"
          ]
        },
        {
          "name": "stderr",
          "output_type": "stream",
          "text": [
            "Epoch 199/100: 100%|██████████| 533/533 [00:02<00:00, 204.23it/s]\n"
          ]
        },
        {
          "name": "stdout",
          "output_type": "stream",
          "text": [
            "Epoch 199/100, training loss: 1.698878644107654, validation loss: 1.7200268631550804\n"
          ]
        },
        {
          "name": "stderr",
          "output_type": "stream",
          "text": [
            "Epoch 200/100: 100%|██████████| 533/533 [00:02<00:00, 209.95it/s]\n"
          ]
        },
        {
          "name": "stdout",
          "output_type": "stream",
          "text": [
            "Epoch 200/100, training loss: 1.6989337111950815, validation loss: 1.718452319280425\n"
          ]
        },
        {
          "name": "stderr",
          "output_type": "stream",
          "text": [
            "Epoch 201/100: 100%|██████████| 533/533 [00:02<00:00, 230.87it/s]\n"
          ]
        },
        {
          "name": "stdout",
          "output_type": "stream",
          "text": [
            "Epoch 201/100, training loss: 1.6973663362732077, validation loss: 1.721135642991137\n"
          ]
        },
        {
          "name": "stderr",
          "output_type": "stream",
          "text": [
            "Epoch 202/100: 100%|██████████| 533/533 [00:02<00:00, 224.14it/s]\n"
          ]
        },
        {
          "name": "stdout",
          "output_type": "stream",
          "text": [
            "Epoch 202/100, training loss: 1.6982776964359392, validation loss: 1.724450207468289\n"
          ]
        },
        {
          "name": "stderr",
          "output_type": "stream",
          "text": [
            "Epoch 203/100: 100%|██████████| 533/533 [00:02<00:00, 213.14it/s]\n"
          ]
        },
        {
          "name": "stdout",
          "output_type": "stream",
          "text": [
            "Epoch 203/100, training loss: 1.697575215550793, validation loss: 1.7203263462479434\n"
          ]
        },
        {
          "name": "stderr",
          "output_type": "stream",
          "text": [
            "Epoch 204/100: 100%|██████████| 533/533 [00:02<00:00, 220.14it/s]\n"
          ]
        },
        {
          "name": "stdout",
          "output_type": "stream",
          "text": [
            "Epoch 204/100, training loss: 1.6977151838073588, validation loss: 1.7205528910480328\n"
          ]
        },
        {
          "name": "stderr",
          "output_type": "stream",
          "text": [
            "Epoch 205/100: 100%|██████████| 533/533 [00:02<00:00, 223.74it/s]\n"
          ]
        },
        {
          "name": "stdout",
          "output_type": "stream",
          "text": [
            "Epoch 205/100, training loss: 1.6974069419095037, validation loss: 1.7187152807392292\n"
          ]
        },
        {
          "name": "stderr",
          "output_type": "stream",
          "text": [
            "Epoch 206/100: 100%|██████████| 533/533 [00:02<00:00, 230.53it/s]\n"
          ]
        },
        {
          "name": "stdout",
          "output_type": "stream",
          "text": [
            "Epoch 206/100, training loss: 1.6961934360733175, validation loss: 1.715353166879113\n"
          ]
        },
        {
          "name": "stderr",
          "output_type": "stream",
          "text": [
            "Epoch 207/100: 100%|██████████| 533/533 [00:02<00:00, 228.01it/s]\n"
          ]
        },
        {
          "name": "stdout",
          "output_type": "stream",
          "text": [
            "Epoch 207/100, training loss: 1.6963878031295863, validation loss: 1.7200524593467144\n"
          ]
        },
        {
          "name": "stderr",
          "output_type": "stream",
          "text": [
            "Epoch 208/100: 100%|██████████| 533/533 [00:02<00:00, 224.67it/s]\n"
          ]
        },
        {
          "name": "stdout",
          "output_type": "stream",
          "text": [
            "Epoch 208/100, training loss: 1.6970342437948116, validation loss: 1.718855576728707\n"
          ]
        },
        {
          "name": "stderr",
          "output_type": "stream",
          "text": [
            "Epoch 209/100: 100%|██████████| 533/533 [00:02<00:00, 229.97it/s]\n"
          ]
        },
        {
          "name": "stdout",
          "output_type": "stream",
          "text": [
            "Epoch 209/100, training loss: 1.6965085717571609, validation loss: 1.7176711639361595\n"
          ]
        },
        {
          "name": "stderr",
          "output_type": "stream",
          "text": [
            "Epoch 210/100: 100%|██████████| 533/533 [00:02<00:00, 213.48it/s]\n"
          ]
        },
        {
          "name": "stdout",
          "output_type": "stream",
          "text": [
            "Epoch 210/100, training loss: 1.6967584545572076, validation loss: 1.7181421838589568\n"
          ]
        },
        {
          "name": "stderr",
          "output_type": "stream",
          "text": [
            "Epoch 211/100: 100%|██████████| 533/533 [00:02<00:00, 226.29it/s]\n"
          ]
        },
        {
          "name": "stdout",
          "output_type": "stream",
          "text": [
            "Epoch 211/100, training loss: 1.6953683239434048, validation loss: 1.7183293593463613\n"
          ]
        },
        {
          "name": "stderr",
          "output_type": "stream",
          "text": [
            "Epoch 212/100: 100%|██████████| 533/533 [00:02<00:00, 229.74it/s]\n"
          ]
        },
        {
          "name": "stdout",
          "output_type": "stream",
          "text": [
            "Epoch 212/100, training loss: 1.696653127670288, validation loss: 1.7203653623808677\n"
          ]
        },
        {
          "name": "stderr",
          "output_type": "stream",
          "text": [
            "Epoch 213/100: 100%|██████████| 533/533 [00:02<00:00, 213.56it/s]\n"
          ]
        },
        {
          "name": "stdout",
          "output_type": "stream",
          "text": [
            "Epoch 213/100, training loss: 1.6986732878783406, validation loss: 1.7186989357222373\n"
          ]
        },
        {
          "name": "stderr",
          "output_type": "stream",
          "text": [
            "Epoch 214/100: 100%|██████████| 533/533 [00:02<00:00, 222.87it/s]\n"
          ]
        },
        {
          "name": "stdout",
          "output_type": "stream",
          "text": [
            "Epoch 214/100, training loss: 1.6968149964402361, validation loss: 1.7162509142462887\n"
          ]
        },
        {
          "name": "stderr",
          "output_type": "stream",
          "text": [
            "Epoch 215/100: 100%|██████████| 533/533 [00:02<00:00, 223.98it/s]\n"
          ]
        },
        {
          "name": "stdout",
          "output_type": "stream",
          "text": [
            "Epoch 215/100, training loss: 1.6953448012443242, validation loss: 1.7159736076397683\n"
          ]
        },
        {
          "name": "stderr",
          "output_type": "stream",
          "text": [
            "Epoch 216/100: 100%|██████████| 533/533 [00:02<00:00, 201.94it/s]\n"
          ]
        },
        {
          "name": "stdout",
          "output_type": "stream",
          "text": [
            "Epoch 216/100, training loss: 1.6943082634995623, validation loss: 1.716420961849725\n"
          ]
        },
        {
          "name": "stderr",
          "output_type": "stream",
          "text": [
            "Epoch 217/100: 100%|██████████| 533/533 [00:02<00:00, 228.27it/s]\n"
          ]
        },
        {
          "name": "stdout",
          "output_type": "stream",
          "text": [
            "Epoch 217/100, training loss: 1.6958068776980573, validation loss: 1.721617683545867\n"
          ]
        },
        {
          "name": "stderr",
          "output_type": "stream",
          "text": [
            "Epoch 218/100: 100%|██████████| 533/533 [00:02<00:00, 230.12it/s]\n"
          ]
        },
        {
          "name": "stdout",
          "output_type": "stream",
          "text": [
            "Epoch 218/100, training loss: 1.6961016330665317, validation loss: 1.7197639666386504\n"
          ]
        },
        {
          "name": "stderr",
          "output_type": "stream",
          "text": [
            "Epoch 219/100: 100%|██████████| 533/533 [00:02<00:00, 199.29it/s]\n"
          ]
        },
        {
          "name": "stdout",
          "output_type": "stream",
          "text": [
            "Epoch 219/100, training loss: 1.6933804676635629, validation loss: 1.7204199442222936\n"
          ]
        },
        {
          "name": "stderr",
          "output_type": "stream",
          "text": [
            "Epoch 220/100: 100%|██████████| 533/533 [00:02<00:00, 210.45it/s]\n"
          ]
        },
        {
          "name": "stdout",
          "output_type": "stream",
          "text": [
            "Epoch 220/100, training loss: 1.696569679378345, validation loss: 1.7203240163290678\n"
          ]
        },
        {
          "name": "stderr",
          "output_type": "stream",
          "text": [
            "Epoch 221/100: 100%|██████████| 533/533 [00:02<00:00, 220.74it/s]\n"
          ]
        },
        {
          "name": "stdout",
          "output_type": "stream",
          "text": [
            "Epoch 221/100, training loss: 1.6964785632228314, validation loss: 1.7171886429857852\n"
          ]
        },
        {
          "name": "stderr",
          "output_type": "stream",
          "text": [
            "Epoch 222/100: 100%|██████████| 533/533 [00:02<00:00, 227.84it/s]\n"
          ]
        },
        {
          "name": "stdout",
          "output_type": "stream",
          "text": [
            "Epoch 222/100, training loss: 1.696724658164477, validation loss: 1.7181286847413475\n"
          ]
        },
        {
          "name": "stderr",
          "output_type": "stream",
          "text": [
            "Epoch 223/100: 100%|██████████| 533/533 [00:02<00:00, 227.51it/s]\n"
          ]
        },
        {
          "name": "stdout",
          "output_type": "stream",
          "text": [
            "Epoch 223/100, training loss: 1.6947978169117368, validation loss: 1.7184534339762445\n"
          ]
        },
        {
          "name": "stderr",
          "output_type": "stream",
          "text": [
            "Epoch 224/100: 100%|██████████| 533/533 [00:02<00:00, 223.30it/s]\n"
          ]
        },
        {
          "name": "stdout",
          "output_type": "stream",
          "text": [
            "Epoch 224/100, training loss: 1.6944578304523374, validation loss: 1.7175216808247922\n"
          ]
        },
        {
          "name": "stderr",
          "output_type": "stream",
          "text": [
            "Epoch 225/100: 100%|██████████| 533/533 [00:02<00:00, 236.85it/s]\n"
          ]
        },
        {
          "name": "stdout",
          "output_type": "stream",
          "text": [
            "Epoch 225/100, training loss: 1.6967007216995698, validation loss: 1.719497938654316\n"
          ]
        },
        {
          "name": "stderr",
          "output_type": "stream",
          "text": [
            "Epoch 226/100: 100%|██████████| 533/533 [00:02<00:00, 231.26it/s]\n"
          ]
        },
        {
          "name": "stdout",
          "output_type": "stream",
          "text": [
            "Epoch 226/100, training loss: 1.6951583342078032, validation loss: 1.7198992638445612\n"
          ]
        },
        {
          "name": "stderr",
          "output_type": "stream",
          "text": [
            "Epoch 227/100: 100%|██████████| 533/533 [00:02<00:00, 223.03it/s]\n"
          ]
        },
        {
          "name": "stdout",
          "output_type": "stream",
          "text": [
            "Epoch 227/100, training loss: 1.6942969632193474, validation loss: 1.7171115706216042\n"
          ]
        },
        {
          "name": "stderr",
          "output_type": "stream",
          "text": [
            "Epoch 228/100: 100%|██████████| 533/533 [00:02<00:00, 219.26it/s]\n"
          ]
        },
        {
          "name": "stdout",
          "output_type": "stream",
          "text": [
            "Epoch 228/100, training loss: 1.6948832324924432, validation loss: 1.7198507349882552\n"
          ]
        },
        {
          "name": "stderr",
          "output_type": "stream",
          "text": [
            "Epoch 229/100: 100%|██████████| 533/533 [00:02<00:00, 231.60it/s]\n"
          ]
        },
        {
          "name": "stdout",
          "output_type": "stream",
          "text": [
            "Epoch 229/100, training loss: 1.6957726122961707, validation loss: 1.7197413195425004\n"
          ]
        },
        {
          "name": "stderr",
          "output_type": "stream",
          "text": [
            "Epoch 230/100: 100%|██████████| 533/533 [00:02<00:00, 230.34it/s]\n"
          ]
        },
        {
          "name": "stdout",
          "output_type": "stream",
          "text": [
            "Epoch 230/100, training loss: 1.694901900264604, validation loss: 1.7225935450240748\n"
          ]
        },
        {
          "name": "stderr",
          "output_type": "stream",
          "text": [
            "Epoch 231/100: 100%|██████████| 533/533 [00:02<00:00, 230.34it/s]\n"
          ]
        },
        {
          "name": "stdout",
          "output_type": "stream",
          "text": [
            "Epoch 231/100, training loss: 1.6973398299870304, validation loss: 1.7210310234952328\n"
          ]
        },
        {
          "name": "stderr",
          "output_type": "stream",
          "text": [
            "Epoch 232/100: 100%|██████████| 533/533 [00:02<00:00, 222.88it/s]\n"
          ]
        },
        {
          "name": "stdout",
          "output_type": "stream",
          "text": [
            "Epoch 232/100, training loss: 1.6950530267790602, validation loss: 1.7192337735375363\n"
          ]
        },
        {
          "name": "stderr",
          "output_type": "stream",
          "text": [
            "Epoch 233/100: 100%|██████████| 533/533 [00:02<00:00, 211.91it/s]\n"
          ]
        },
        {
          "name": "stdout",
          "output_type": "stream",
          "text": [
            "Epoch 233/100, training loss: 1.6967601943865949, validation loss: 1.7186512431102012\n"
          ]
        },
        {
          "name": "stderr",
          "output_type": "stream",
          "text": [
            "Epoch 234/100: 100%|██████████| 533/533 [00:02<00:00, 226.72it/s]\n"
          ]
        },
        {
          "name": "stdout",
          "output_type": "stream",
          "text": [
            "Epoch 234/100, training loss: 1.6955640378633539, validation loss: 1.718226294019329\n"
          ]
        },
        {
          "name": "stderr",
          "output_type": "stream",
          "text": [
            "Epoch 235/100: 100%|██████████| 533/533 [00:02<00:00, 227.91it/s]\n"
          ]
        },
        {
          "name": "stdout",
          "output_type": "stream",
          "text": [
            "Epoch 235/100, training loss: 1.6965988306346127, validation loss: 1.7186016413702894\n"
          ]
        },
        {
          "name": "stderr",
          "output_type": "stream",
          "text": [
            "Epoch 236/100: 100%|██████████| 533/533 [00:02<00:00, 208.83it/s]\n"
          ]
        },
        {
          "name": "stdout",
          "output_type": "stream",
          "text": [
            "Epoch 236/100, training loss: 1.694692879635666, validation loss: 1.7194772042445283\n"
          ]
        },
        {
          "name": "stderr",
          "output_type": "stream",
          "text": [
            "Epoch 237/100: 100%|██████████| 533/533 [00:02<00:00, 183.34it/s]\n"
          ]
        },
        {
          "name": "stdout",
          "output_type": "stream",
          "text": [
            "Epoch 237/100, training loss: 1.6928976570687644, validation loss: 1.7220841210279891\n"
          ]
        },
        {
          "name": "stderr",
          "output_type": "stream",
          "text": [
            "Epoch 238/100: 100%|██████████| 533/533 [00:02<00:00, 225.62it/s]\n"
          ]
        },
        {
          "name": "stdout",
          "output_type": "stream",
          "text": [
            "Epoch 238/100, training loss: 1.694178067273539, validation loss: 1.7178291527192984\n"
          ]
        },
        {
          "name": "stderr",
          "output_type": "stream",
          "text": [
            "Epoch 239/100: 100%|██████████| 533/533 [00:02<00:00, 205.37it/s]\n"
          ]
        },
        {
          "name": "stdout",
          "output_type": "stream",
          "text": [
            "Epoch 239/100, training loss: 1.6939012930496102, validation loss: 1.7211738638023832\n"
          ]
        },
        {
          "name": "stderr",
          "output_type": "stream",
          "text": [
            "Epoch 240/100: 100%|██████████| 533/533 [00:02<00:00, 236.06it/s]\n"
          ]
        },
        {
          "name": "stdout",
          "output_type": "stream",
          "text": [
            "Epoch 240/100, training loss: 1.6951857024688435, validation loss: 1.716456141934466\n"
          ]
        },
        {
          "name": "stderr",
          "output_type": "stream",
          "text": [
            "Epoch 241/100: 100%|██████████| 533/533 [00:02<00:00, 224.23it/s]\n"
          ]
        },
        {
          "name": "stdout",
          "output_type": "stream",
          "text": [
            "Epoch 241/100, training loss: 1.693745510439488, validation loss: 1.7212399075280373\n"
          ]
        },
        {
          "name": "stderr",
          "output_type": "stream",
          "text": [
            "Epoch 242/100: 100%|██████████| 533/533 [00:02<00:00, 214.80it/s]\n"
          ]
        },
        {
          "name": "stdout",
          "output_type": "stream",
          "text": [
            "Epoch 242/100, training loss: 1.695093228937761, validation loss: 1.7191119612152896\n"
          ]
        },
        {
          "name": "stderr",
          "output_type": "stream",
          "text": [
            "Epoch 243/100: 100%|██████████| 533/533 [00:02<00:00, 209.50it/s]\n"
          ]
        },
        {
          "name": "stdout",
          "output_type": "stream",
          "text": [
            "Epoch 243/100, training loss: 1.6932829403743064, validation loss: 1.7165744660505609\n"
          ]
        },
        {
          "name": "stderr",
          "output_type": "stream",
          "text": [
            "Epoch 244/100: 100%|██████████| 533/533 [00:02<00:00, 196.86it/s]\n"
          ]
        },
        {
          "name": "stdout",
          "output_type": "stream",
          "text": [
            "Epoch 244/100, training loss: 1.6946821194875978, validation loss: 1.7189137428554135\n"
          ]
        },
        {
          "name": "stderr",
          "output_type": "stream",
          "text": [
            "Epoch 245/100: 100%|██████████| 533/533 [00:02<00:00, 200.26it/s]\n"
          ]
        },
        {
          "name": "stdout",
          "output_type": "stream",
          "text": [
            "Epoch 245/100, training loss: 1.69563326670126, validation loss: 1.7187377481318231\n"
          ]
        },
        {
          "name": "stderr",
          "output_type": "stream",
          "text": [
            "Epoch 246/100: 100%|██████████| 533/533 [00:02<00:00, 231.08it/s]\n"
          ]
        },
        {
          "name": "stdout",
          "output_type": "stream",
          "text": [
            "Epoch 246/100, training loss: 1.6932880572038118, validation loss: 1.7176766021927792\n"
          ]
        },
        {
          "name": "stderr",
          "output_type": "stream",
          "text": [
            "Epoch 247/100: 100%|██████████| 533/533 [00:02<00:00, 234.22it/s]\n"
          ]
        },
        {
          "name": "stdout",
          "output_type": "stream",
          "text": [
            "Epoch 247/100, training loss: 1.693261567020953, validation loss: 1.7193446034815774\n"
          ]
        },
        {
          "name": "stderr",
          "output_type": "stream",
          "text": [
            "Epoch 248/100: 100%|██████████| 533/533 [00:02<00:00, 232.30it/s]\n"
          ]
        },
        {
          "name": "stdout",
          "output_type": "stream",
          "text": [
            "Epoch 248/100, training loss: 1.6935531290118735, validation loss: 1.7187656724630898\n"
          ]
        },
        {
          "name": "stderr",
          "output_type": "stream",
          "text": [
            "Epoch 249/100: 100%|██████████| 533/533 [00:02<00:00, 238.43it/s]\n"
          ]
        },
        {
          "name": "stdout",
          "output_type": "stream",
          "text": [
            "Epoch 249/100, training loss: 1.6951458896973344, validation loss: 1.7212425603795407\n"
          ]
        },
        {
          "name": "stderr",
          "output_type": "stream",
          "text": [
            "Epoch 250/100: 100%|██████████| 533/533 [00:02<00:00, 213.77it/s]\n"
          ]
        },
        {
          "name": "stdout",
          "output_type": "stream",
          "text": [
            "Epoch 250/100, training loss: 1.6929280954722392, validation loss: 1.7185719653741638\n"
          ]
        },
        {
          "name": "stderr",
          "output_type": "stream",
          "text": [
            "Epoch 251/100: 100%|██████████| 533/533 [00:02<00:00, 219.57it/s]\n"
          ]
        },
        {
          "name": "stdout",
          "output_type": "stream",
          "text": [
            "Epoch 251/100, training loss: 1.6923338539381187, validation loss: 1.7204900597458455\n"
          ]
        },
        {
          "name": "stderr",
          "output_type": "stream",
          "text": [
            "Epoch 252/100: 100%|██████████| 533/533 [00:02<00:00, 226.30it/s]\n"
          ]
        },
        {
          "name": "stdout",
          "output_type": "stream",
          "text": [
            "Epoch 252/100, training loss: 1.694384975012874, validation loss: 1.719164631259975\n"
          ]
        },
        {
          "name": "stderr",
          "output_type": "stream",
          "text": [
            "Epoch 253/100: 100%|██████████| 533/533 [00:02<00:00, 211.40it/s]\n"
          ]
        },
        {
          "name": "stdout",
          "output_type": "stream",
          "text": [
            "Epoch 253/100, training loss: 1.6926060724884664, validation loss: 1.7193172609628136\n"
          ]
        },
        {
          "name": "stderr",
          "output_type": "stream",
          "text": [
            "Epoch 254/100: 100%|██████████| 533/533 [00:02<00:00, 209.93it/s]\n"
          ]
        },
        {
          "name": "stdout",
          "output_type": "stream",
          "text": [
            "Epoch 254/100, training loss: 1.6932782690699508, validation loss: 1.7176588720350123\n"
          ]
        },
        {
          "name": "stderr",
          "output_type": "stream",
          "text": [
            "Epoch 255/100: 100%|██████████| 533/533 [00:02<00:00, 193.57it/s]\n"
          ]
        },
        {
          "name": "stdout",
          "output_type": "stream",
          "text": [
            "Epoch 255/100, training loss: 1.6922732866727388, validation loss: 1.7182498458606095\n"
          ]
        },
        {
          "name": "stderr",
          "output_type": "stream",
          "text": [
            "Epoch 256/100: 100%|██████████| 533/533 [00:02<00:00, 196.55it/s]\n"
          ]
        },
        {
          "name": "stdout",
          "output_type": "stream",
          "text": [
            "Epoch 256/100, training loss: 1.6932223359818306, validation loss: 1.7190196807704754\n"
          ]
        },
        {
          "name": "stderr",
          "output_type": "stream",
          "text": [
            "Epoch 257/100: 100%|██████████| 533/533 [00:02<00:00, 204.14it/s]\n"
          ]
        },
        {
          "name": "stdout",
          "output_type": "stream",
          "text": [
            "Epoch 257/100, training loss: 1.6938226791081241, validation loss: 1.717100064256298\n"
          ]
        },
        {
          "name": "stderr",
          "output_type": "stream",
          "text": [
            "Epoch 258/100: 100%|██████████| 533/533 [00:02<00:00, 186.96it/s]\n"
          ]
        },
        {
          "name": "stdout",
          "output_type": "stream",
          "text": [
            "Epoch 258/100, training loss: 1.6935472680748516, validation loss: 1.7207894067266094\n"
          ]
        },
        {
          "name": "stderr",
          "output_type": "stream",
          "text": [
            "Epoch 259/100: 100%|██████████| 533/533 [00:02<00:00, 203.66it/s]\n"
          ]
        },
        {
          "name": "stdout",
          "output_type": "stream",
          "text": [
            "Epoch 259/100, training loss: 1.692324802754744, validation loss: 1.7177244727291279\n"
          ]
        },
        {
          "name": "stderr",
          "output_type": "stream",
          "text": [
            "Epoch 260/100: 100%|██████████| 533/533 [00:02<00:00, 185.96it/s]\n"
          ]
        },
        {
          "name": "stdout",
          "output_type": "stream",
          "text": [
            "Epoch 260/100, training loss: 1.6948292599833705, validation loss: 1.7200470629023081\n"
          ]
        },
        {
          "name": "stderr",
          "output_type": "stream",
          "text": [
            "Epoch 261/100: 100%|██████████| 533/533 [00:02<00:00, 233.48it/s]\n"
          ]
        },
        {
          "name": "stdout",
          "output_type": "stream",
          "text": [
            "Epoch 261/100, training loss: 1.6922492028177343, validation loss: 1.7199461433424879\n"
          ]
        },
        {
          "name": "stderr",
          "output_type": "stream",
          "text": [
            "Epoch 262/100: 100%|██████████| 533/533 [00:02<00:00, 246.60it/s]\n"
          ]
        },
        {
          "name": "stdout",
          "output_type": "stream",
          "text": [
            "Epoch 262/100, training loss: 1.6924589033645716, validation loss: 1.7163094611310248\n"
          ]
        },
        {
          "name": "stderr",
          "output_type": "stream",
          "text": [
            "Epoch 263/100: 100%|██████████| 533/533 [00:02<00:00, 238.62it/s]\n"
          ]
        },
        {
          "name": "stdout",
          "output_type": "stream",
          "text": [
            "Epoch 263/100, training loss: 1.6921236139301064, validation loss: 1.720976771703407\n"
          ]
        },
        {
          "name": "stderr",
          "output_type": "stream",
          "text": [
            "Epoch 264/100: 100%|██████████| 533/533 [00:02<00:00, 241.10it/s]\n"
          ]
        },
        {
          "name": "stdout",
          "output_type": "stream",
          "text": [
            "Epoch 264/100, training loss: 1.6945585019145628, validation loss: 1.7182738229409973\n"
          ]
        },
        {
          "name": "stderr",
          "output_type": "stream",
          "text": [
            "Epoch 265/100: 100%|██████████| 533/533 [00:02<00:00, 239.32it/s]\n"
          ]
        },
        {
          "name": "stdout",
          "output_type": "stream",
          "text": [
            "Epoch 265/100, training loss: 1.690238398414168, validation loss: 1.7168765317148238\n"
          ]
        },
        {
          "name": "stderr",
          "output_type": "stream",
          "text": [
            "Epoch 266/100: 100%|██████████| 533/533 [00:02<00:00, 246.56it/s]\n"
          ]
        },
        {
          "name": "stdout",
          "output_type": "stream",
          "text": [
            "Epoch 266/100, training loss: 1.6918340102816611, validation loss: 1.7201186890032754\n"
          ]
        },
        {
          "name": "stderr",
          "output_type": "stream",
          "text": [
            "Epoch 267/100: 100%|██████████| 533/533 [00:02<00:00, 245.48it/s]\n"
          ]
        },
        {
          "name": "stdout",
          "output_type": "stream",
          "text": [
            "Epoch 267/100, training loss: 1.690867556416295, validation loss: 1.718481984601092\n"
          ]
        },
        {
          "name": "stderr",
          "output_type": "stream",
          "text": [
            "Epoch 268/100: 100%|██████████| 533/533 [00:02<00:00, 232.35it/s]\n"
          ]
        },
        {
          "name": "stdout",
          "output_type": "stream",
          "text": [
            "Epoch 268/100, training loss: 1.692750481906125, validation loss: 1.719854982041601\n"
          ]
        },
        {
          "name": "stderr",
          "output_type": "stream",
          "text": [
            "Epoch 269/100: 100%|██████████| 533/533 [00:02<00:00, 218.66it/s]\n"
          ]
        },
        {
          "name": "stdout",
          "output_type": "stream",
          "text": [
            "Epoch 269/100, training loss: 1.6924707509339638, validation loss: 1.7209448680948856\n"
          ]
        },
        {
          "name": "stderr",
          "output_type": "stream",
          "text": [
            "Epoch 270/100: 100%|██████████| 533/533 [00:02<00:00, 207.45it/s]\n"
          ]
        },
        {
          "name": "stdout",
          "output_type": "stream",
          "text": [
            "Epoch 270/100, training loss: 1.6922000635408327, validation loss: 1.7194457872590023\n"
          ]
        },
        {
          "name": "stderr",
          "output_type": "stream",
          "text": [
            "Epoch 271/100: 100%|██████████| 533/533 [00:02<00:00, 219.47it/s]\n"
          ]
        },
        {
          "name": "stdout",
          "output_type": "stream",
          "text": [
            "Epoch 271/100, training loss: 1.6940461582806499, validation loss: 1.7195959028913015\n"
          ]
        },
        {
          "name": "stderr",
          "output_type": "stream",
          "text": [
            "Epoch 272/100: 100%|██████████| 533/533 [00:02<00:00, 196.49it/s]\n"
          ]
        },
        {
          "name": "stdout",
          "output_type": "stream",
          "text": [
            "Epoch 272/100, training loss: 1.6917464207529351, validation loss: 1.716818728553715\n"
          ]
        },
        {
          "name": "stderr",
          "output_type": "stream",
          "text": [
            "Epoch 273/100: 100%|██████████| 533/533 [00:02<00:00, 220.60it/s]\n"
          ]
        },
        {
          "name": "stdout",
          "output_type": "stream",
          "text": [
            "Epoch 273/100, training loss: 1.6926505373298115, validation loss: 1.7201474166628141\n"
          ]
        },
        {
          "name": "stderr",
          "output_type": "stream",
          "text": [
            "Epoch 274/100: 100%|██████████| 533/533 [00:02<00:00, 218.42it/s]\n"
          ]
        },
        {
          "name": "stdout",
          "output_type": "stream",
          "text": [
            "Epoch 274/100, training loss: 1.6926569994573968, validation loss: 1.71982171909133\n"
          ]
        },
        {
          "name": "stderr",
          "output_type": "stream",
          "text": [
            "Epoch 275/100: 100%|██████████| 533/533 [00:02<00:00, 211.90it/s]\n"
          ]
        },
        {
          "name": "stdout",
          "output_type": "stream",
          "text": [
            "Epoch 275/100, training loss: 1.6924797712526447, validation loss: 1.7179093147391704\n"
          ]
        },
        {
          "name": "stderr",
          "output_type": "stream",
          "text": [
            "Epoch 276/100: 100%|██████████| 533/533 [00:02<00:00, 212.31it/s]\n"
          ]
        },
        {
          "name": "stdout",
          "output_type": "stream",
          "text": [
            "Epoch 276/100, training loss: 1.6913951617468141, validation loss: 1.7201100756872947\n"
          ]
        },
        {
          "name": "stderr",
          "output_type": "stream",
          "text": [
            "Epoch 277/100: 100%|██████████| 533/533 [00:02<00:00, 212.74it/s]\n"
          ]
        },
        {
          "name": "stdout",
          "output_type": "stream",
          "text": [
            "Epoch 277/100, training loss: 1.6950528259348914, validation loss: 1.719972098051612\n"
          ]
        },
        {
          "name": "stderr",
          "output_type": "stream",
          "text": [
            "Epoch 278/100: 100%|██████████| 533/533 [00:02<00:00, 221.56it/s]\n"
          ]
        },
        {
          "name": "stdout",
          "output_type": "stream",
          "text": [
            "Epoch 278/100, training loss: 1.6921470520867639, validation loss: 1.7169061089629558\n"
          ]
        },
        {
          "name": "stderr",
          "output_type": "stream",
          "text": [
            "Epoch 279/100: 100%|██████████| 533/533 [00:02<00:00, 231.04it/s]\n"
          ]
        },
        {
          "name": "stdout",
          "output_type": "stream",
          "text": [
            "Epoch 279/100, training loss: 1.6925654943620063, validation loss: 1.7202936526554733\n"
          ]
        },
        {
          "name": "stderr",
          "output_type": "stream",
          "text": [
            "Epoch 280/100: 100%|██████████| 533/533 [00:02<00:00, 194.54it/s]\n"
          ]
        },
        {
          "name": "stdout",
          "output_type": "stream",
          "text": [
            "Epoch 280/100, training loss: 1.6939090463502322, validation loss: 1.7186445407013395\n"
          ]
        },
        {
          "name": "stderr",
          "output_type": "stream",
          "text": [
            "Epoch 281/100: 100%|██████████| 533/533 [00:02<00:00, 196.64it/s]\n"
          ]
        },
        {
          "name": "stdout",
          "output_type": "stream",
          "text": [
            "Epoch 281/100, training loss: 1.6935496569574437, validation loss: 1.7188259167457693\n"
          ]
        },
        {
          "name": "stderr",
          "output_type": "stream",
          "text": [
            "Epoch 282/100: 100%|██████████| 533/533 [00:02<00:00, 189.02it/s]\n"
          ]
        },
        {
          "name": "stdout",
          "output_type": "stream",
          "text": [
            "Epoch 282/100, training loss: 1.6938270703936606, validation loss: 1.7197992116657657\n"
          ]
        },
        {
          "name": "stderr",
          "output_type": "stream",
          "text": [
            "Epoch 283/100: 100%|██████████| 533/533 [00:02<00:00, 219.48it/s]\n"
          ]
        },
        {
          "name": "stdout",
          "output_type": "stream",
          "text": [
            "Epoch 283/100, training loss: 1.6919377552411794, validation loss: 1.7205225389395187\n"
          ]
        },
        {
          "name": "stderr",
          "output_type": "stream",
          "text": [
            "Epoch 284/100: 100%|██████████| 533/533 [00:02<00:00, 221.82it/s]\n"
          ]
        },
        {
          "name": "stdout",
          "output_type": "stream",
          "text": [
            "Epoch 284/100, training loss: 1.6914417144281555, validation loss: 1.7208834334985534\n"
          ]
        },
        {
          "name": "stderr",
          "output_type": "stream",
          "text": [
            "Epoch 285/100: 100%|██████████| 533/533 [00:02<00:00, 191.95it/s]\n"
          ]
        },
        {
          "name": "stdout",
          "output_type": "stream",
          "text": [
            "Epoch 285/100, training loss: 1.691019709517316, validation loss: 1.7171568861648219\n"
          ]
        },
        {
          "name": "stderr",
          "output_type": "stream",
          "text": [
            "Epoch 286/100: 100%|██████████| 533/533 [00:02<00:00, 231.61it/s]\n"
          ]
        },
        {
          "name": "stdout",
          "output_type": "stream",
          "text": [
            "Epoch 286/100, training loss: 1.690990815914147, validation loss: 1.7180550721154284\n"
          ]
        },
        {
          "name": "stderr",
          "output_type": "stream",
          "text": [
            "Epoch 287/100: 100%|██████████| 533/533 [00:02<00:00, 231.58it/s]\n"
          ]
        },
        {
          "name": "stdout",
          "output_type": "stream",
          "text": [
            "Epoch 287/100, training loss: 1.6897626037221911, validation loss: 1.7202074741249653\n"
          ]
        },
        {
          "name": "stderr",
          "output_type": "stream",
          "text": [
            "Epoch 288/100: 100%|██████████| 533/533 [00:02<00:00, 199.21it/s]\n"
          ]
        },
        {
          "name": "stdout",
          "output_type": "stream",
          "text": [
            "Epoch 288/100, training loss: 1.6918277588391617, validation loss: 1.71969702617446\n"
          ]
        },
        {
          "name": "stderr",
          "output_type": "stream",
          "text": [
            "Epoch 289/100: 100%|██████████| 533/533 [00:02<00:00, 203.44it/s]\n"
          ]
        },
        {
          "name": "stdout",
          "output_type": "stream",
          "text": [
            "Epoch 289/100, training loss: 1.6908878000771128, validation loss: 1.7206571030972608\n"
          ]
        },
        {
          "name": "stderr",
          "output_type": "stream",
          "text": [
            "Epoch 290/100: 100%|██████████| 533/533 [00:02<00:00, 204.41it/s]\n"
          ]
        },
        {
          "name": "stdout",
          "output_type": "stream",
          "text": [
            "Epoch 290/100, training loss: 1.6930269910962676, validation loss: 1.7212112190118476\n"
          ]
        },
        {
          "name": "stderr",
          "output_type": "stream",
          "text": [
            "Epoch 291/100: 100%|██████████| 533/533 [00:02<00:00, 236.14it/s]\n"
          ]
        },
        {
          "name": "stdout",
          "output_type": "stream",
          "text": [
            "Epoch 291/100, training loss: 1.6907089809986708, validation loss: 1.719919747381068\n"
          ]
        },
        {
          "name": "stderr",
          "output_type": "stream",
          "text": [
            "Epoch 292/100: 100%|██████████| 533/533 [00:02<00:00, 204.31it/s]\n"
          ]
        },
        {
          "name": "stdout",
          "output_type": "stream",
          "text": [
            "Epoch 292/100, training loss: 1.693553355800278, validation loss: 1.7196468150437767\n"
          ]
        },
        {
          "name": "stderr",
          "output_type": "stream",
          "text": [
            "Epoch 293/100: 100%|██████████| 533/533 [00:02<00:00, 221.10it/s]\n"
          ]
        },
        {
          "name": "stdout",
          "output_type": "stream",
          "text": [
            "Epoch 293/100, training loss: 1.6927984718086573, validation loss: 1.717288892660568\n"
          ]
        },
        {
          "name": "stderr",
          "output_type": "stream",
          "text": [
            "Epoch 294/100: 100%|██████████| 533/533 [00:02<00:00, 204.65it/s]\n"
          ]
        },
        {
          "name": "stdout",
          "output_type": "stream",
          "text": [
            "Epoch 294/100, training loss: 1.6908324026479953, validation loss: 1.7196823794450333\n"
          ]
        },
        {
          "name": "stderr",
          "output_type": "stream",
          "text": [
            "Epoch 295/100: 100%|██████████| 533/533 [00:02<00:00, 216.27it/s]\n"
          ]
        },
        {
          "name": "stdout",
          "output_type": "stream",
          "text": [
            "Epoch 295/100, training loss: 1.6917059947133735, validation loss: 1.7184445172993106\n"
          ]
        },
        {
          "name": "stderr",
          "output_type": "stream",
          "text": [
            "Epoch 296/100: 100%|██████████| 533/533 [00:02<00:00, 235.98it/s]\n"
          ]
        },
        {
          "name": "stdout",
          "output_type": "stream",
          "text": [
            "Epoch 296/100, training loss: 1.6912389676074373, validation loss: 1.7200300399936848\n"
          ]
        },
        {
          "name": "stderr",
          "output_type": "stream",
          "text": [
            "Epoch 297/100: 100%|██████████| 533/533 [00:02<00:00, 240.84it/s]\n"
          ]
        },
        {
          "name": "stdout",
          "output_type": "stream",
          "text": [
            "Epoch 297/100, training loss: 1.6935976484255764, validation loss: 1.718861162662506\n"
          ]
        },
        {
          "name": "stderr",
          "output_type": "stream",
          "text": [
            "Epoch 298/100: 100%|██████████| 533/533 [00:02<00:00, 238.89it/s]\n"
          ]
        },
        {
          "name": "stdout",
          "output_type": "stream",
          "text": [
            "Epoch 298/100, training loss: 1.6932084316607936, validation loss: 1.720753452671108\n"
          ]
        },
        {
          "name": "stderr",
          "output_type": "stream",
          "text": [
            "Epoch 299/100: 100%|██████████| 533/533 [00:02<00:00, 226.08it/s]\n"
          ]
        },
        {
          "name": "stdout",
          "output_type": "stream",
          "text": [
            "Epoch 299/100, training loss: 1.6908463478983007, validation loss: 1.7193082571029663\n"
          ]
        },
        {
          "name": "stderr",
          "output_type": "stream",
          "text": [
            "Epoch 300/100: 100%|██████████| 533/533 [00:02<00:00, 230.85it/s]\n"
          ]
        },
        {
          "name": "stdout",
          "output_type": "stream",
          "text": [
            "Epoch 300/100, training loss: 1.6911050280307962, validation loss: 1.719940036980074\n"
          ]
        },
        {
          "name": "stderr",
          "output_type": "stream",
          "text": [
            "Epoch 301/100: 100%|██████████| 533/533 [00:02<00:00, 231.19it/s]\n"
          ]
        },
        {
          "name": "stdout",
          "output_type": "stream",
          "text": [
            "Epoch 301/100, training loss: 1.6926169319403328, validation loss: 1.7189922128150712\n"
          ]
        },
        {
          "name": "stderr",
          "output_type": "stream",
          "text": [
            "Epoch 302/100: 100%|██████████| 533/533 [00:02<00:00, 228.90it/s]\n"
          ]
        },
        {
          "name": "stdout",
          "output_type": "stream",
          "text": [
            "Epoch 302/100, training loss: 1.6901612145368423, validation loss: 1.7202983916695438\n"
          ]
        },
        {
          "name": "stderr",
          "output_type": "stream",
          "text": [
            "Epoch 303/100: 100%|██████████| 533/533 [00:02<00:00, 220.26it/s]\n"
          ]
        },
        {
          "name": "stdout",
          "output_type": "stream",
          "text": [
            "Epoch 303/100, training loss: 1.6924414111346733, validation loss: 1.7181547159579262\n"
          ]
        },
        {
          "name": "stderr",
          "output_type": "stream",
          "text": [
            "Epoch 304/100: 100%|██████████| 533/533 [00:02<00:00, 222.68it/s]\n"
          ]
        },
        {
          "name": "stdout",
          "output_type": "stream",
          "text": [
            "Epoch 304/100, training loss: 1.69092229338569, validation loss: 1.7189079033794687\n"
          ]
        },
        {
          "name": "stderr",
          "output_type": "stream",
          "text": [
            "Epoch 305/100: 100%|██████████| 533/533 [00:02<00:00, 207.89it/s]\n"
          ]
        },
        {
          "name": "stdout",
          "output_type": "stream",
          "text": [
            "Epoch 305/100, training loss: 1.6914298538866455, validation loss: 1.71742118116635\n"
          ]
        },
        {
          "name": "stderr",
          "output_type": "stream",
          "text": [
            "Epoch 306/100: 100%|██████████| 533/533 [00:02<00:00, 218.17it/s]\n"
          ]
        },
        {
          "name": "stdout",
          "output_type": "stream",
          "text": [
            "Epoch 306/100, training loss: 1.6906759032165355, validation loss: 1.721605554445466\n"
          ]
        },
        {
          "name": "stderr",
          "output_type": "stream",
          "text": [
            "Epoch 307/100: 100%|██████████| 533/533 [00:03<00:00, 136.57it/s]\n"
          ]
        },
        {
          "name": "stdout",
          "output_type": "stream",
          "text": [
            "Epoch 307/100, training loss: 1.6902749947714313, validation loss: 1.7227086629440536\n"
          ]
        },
        {
          "name": "stderr",
          "output_type": "stream",
          "text": [
            "Epoch 308/100: 100%|██████████| 533/533 [00:03<00:00, 156.89it/s]\n"
          ]
        },
        {
          "name": "stdout",
          "output_type": "stream",
          "text": [
            "Epoch 308/100, training loss: 1.6899913164732827, validation loss: 1.7180135170025612\n"
          ]
        },
        {
          "name": "stderr",
          "output_type": "stream",
          "text": [
            "Epoch 309/100: 100%|██████████| 533/533 [00:02<00:00, 185.94it/s]\n"
          ]
        },
        {
          "name": "stdout",
          "output_type": "stream",
          "text": [
            "Epoch 309/100, training loss: 1.6903203922633159, validation loss: 1.7181607911835854\n"
          ]
        },
        {
          "name": "stderr",
          "output_type": "stream",
          "text": [
            "Epoch 310/100: 100%|██████████| 533/533 [00:02<00:00, 215.94it/s]\n"
          ]
        },
        {
          "name": "stdout",
          "output_type": "stream",
          "text": [
            "Epoch 310/100, training loss: 1.6880243385934024, validation loss: 1.7219544382237677\n"
          ]
        },
        {
          "name": "stderr",
          "output_type": "stream",
          "text": [
            "Epoch 311/100: 100%|██████████| 533/533 [00:02<00:00, 224.32it/s]\n"
          ]
        },
        {
          "name": "stdout",
          "output_type": "stream",
          "text": [
            "Epoch 311/100, training loss: 1.690856499698775, validation loss: 1.71779178950324\n"
          ]
        },
        {
          "name": "stderr",
          "output_type": "stream",
          "text": [
            "Epoch 312/100: 100%|██████████| 533/533 [00:02<00:00, 206.70it/s]\n"
          ]
        },
        {
          "name": "stdout",
          "output_type": "stream",
          "text": [
            "Epoch 312/100, training loss: 1.691122032017019, validation loss: 1.7199164940350091\n"
          ]
        },
        {
          "name": "stderr",
          "output_type": "stream",
          "text": [
            "Epoch 313/100: 100%|██████████| 533/533 [00:02<00:00, 231.16it/s]\n"
          ]
        },
        {
          "name": "stdout",
          "output_type": "stream",
          "text": [
            "Epoch 313/100, training loss: 1.6895859263851316, validation loss: 1.717672849769023\n"
          ]
        },
        {
          "name": "stderr",
          "output_type": "stream",
          "text": [
            "Epoch 314/100: 100%|██████████| 533/533 [00:02<00:00, 224.49it/s]\n"
          ]
        },
        {
          "name": "stdout",
          "output_type": "stream",
          "text": [
            "Epoch 314/100, training loss: 1.6914023726787173, validation loss: 1.7225990802494449\n"
          ]
        },
        {
          "name": "stderr",
          "output_type": "stream",
          "text": [
            "Epoch 315/100: 100%|██████████| 533/533 [00:02<00:00, 191.15it/s]\n"
          ]
        },
        {
          "name": "stdout",
          "output_type": "stream",
          "text": [
            "Epoch 315/100, training loss: 1.6923787705670155, validation loss: 1.7231422520395536\n"
          ]
        },
        {
          "name": "stderr",
          "output_type": "stream",
          "text": [
            "Epoch 316/100: 100%|██████████| 533/533 [00:02<00:00, 219.80it/s]\n"
          ]
        },
        {
          "name": "stdout",
          "output_type": "stream",
          "text": [
            "Epoch 316/100, training loss: 1.6884742467533134, validation loss: 1.7265793067305835\n"
          ]
        },
        {
          "name": "stderr",
          "output_type": "stream",
          "text": [
            "Epoch 317/100: 100%|██████████| 533/533 [00:02<00:00, 251.58it/s]\n"
          ]
        },
        {
          "name": "stdout",
          "output_type": "stream",
          "text": [
            "Epoch 317/100, training loss: 1.690625806686802, validation loss: 1.7220313024165026\n"
          ]
        },
        {
          "name": "stderr",
          "output_type": "stream",
          "text": [
            "Epoch 318/100: 100%|██████████| 533/533 [00:02<00:00, 265.26it/s]\n"
          ]
        },
        {
          "name": "stdout",
          "output_type": "stream",
          "text": [
            "Epoch 318/100, training loss: 1.6914401175157214, validation loss: 1.7209416699053637\n"
          ]
        },
        {
          "name": "stderr",
          "output_type": "stream",
          "text": [
            "Epoch 319/100: 100%|██████████| 533/533 [00:02<00:00, 181.87it/s]\n"
          ]
        },
        {
          "name": "stdout",
          "output_type": "stream",
          "text": [
            "Epoch 319/100, training loss: 1.690145609079114, validation loss: 1.722977748557703\n"
          ]
        },
        {
          "name": "stderr",
          "output_type": "stream",
          "text": [
            "Epoch 320/100: 100%|██████████| 533/533 [00:02<00:00, 194.33it/s]\n"
          ]
        },
        {
          "name": "stdout",
          "output_type": "stream",
          "text": [
            "Epoch 320/100, training loss: 1.689313506766958, validation loss: 1.720889616368422\n"
          ]
        },
        {
          "name": "stderr",
          "output_type": "stream",
          "text": [
            "Epoch 321/100: 100%|██████████| 533/533 [00:02<00:00, 217.28it/s]\n"
          ]
        },
        {
          "name": "stdout",
          "output_type": "stream",
          "text": [
            "Epoch 321/100, training loss: 1.6893414811390202, validation loss: 1.7201762777655871\n"
          ]
        },
        {
          "name": "stderr",
          "output_type": "stream",
          "text": [
            "Epoch 322/100: 100%|██████████| 533/533 [00:02<00:00, 240.07it/s]\n"
          ]
        },
        {
          "name": "stdout",
          "output_type": "stream",
          "text": [
            "Epoch 322/100, training loss: 1.6907203499416472, validation loss: 1.7210115870433067\n"
          ]
        },
        {
          "name": "stderr",
          "output_type": "stream",
          "text": [
            "Epoch 323/100: 100%|██████████| 533/533 [00:02<00:00, 238.27it/s]\n"
          ]
        },
        {
          "name": "stdout",
          "output_type": "stream",
          "text": [
            "Epoch 323/100, training loss: 1.6908201171577983, validation loss: 1.7172528016033457\n"
          ]
        },
        {
          "name": "stderr",
          "output_type": "stream",
          "text": [
            "Epoch 324/100: 100%|██████████| 533/533 [00:02<00:00, 238.60it/s]\n"
          ]
        },
        {
          "name": "stdout",
          "output_type": "stream",
          "text": [
            "Epoch 324/100, training loss: 1.6920222969931913, validation loss: 1.7201584595352857\n"
          ]
        },
        {
          "name": "stderr",
          "output_type": "stream",
          "text": [
            "Epoch 325/100: 100%|██████████| 533/533 [00:02<00:00, 226.61it/s]\n"
          ]
        },
        {
          "name": "stdout",
          "output_type": "stream",
          "text": [
            "Epoch 325/100, training loss: 1.6913931868537058, validation loss: 1.7208947788423568\n"
          ]
        },
        {
          "name": "stderr",
          "output_type": "stream",
          "text": [
            "Epoch 326/100: 100%|██████████| 533/533 [00:02<00:00, 243.97it/s]\n"
          ]
        },
        {
          "name": "stdout",
          "output_type": "stream",
          "text": [
            "Epoch 326/100, training loss: 1.690965093322811, validation loss: 1.7169810969438126\n"
          ]
        },
        {
          "name": "stderr",
          "output_type": "stream",
          "text": [
            "Epoch 327/100: 100%|██████████| 533/533 [00:02<00:00, 244.19it/s]\n"
          ]
        },
        {
          "name": "stdout",
          "output_type": "stream",
          "text": [
            "Epoch 327/100, training loss: 1.6915836654058316, validation loss: 1.7165469803027253\n"
          ]
        },
        {
          "name": "stderr",
          "output_type": "stream",
          "text": [
            "Epoch 328/100: 100%|██████████| 533/533 [00:02<00:00, 238.85it/s]\n"
          ]
        },
        {
          "name": "stdout",
          "output_type": "stream",
          "text": [
            "Epoch 328/100, training loss: 1.694588171608229, validation loss: 1.7190631886026753\n"
          ]
        },
        {
          "name": "stderr",
          "output_type": "stream",
          "text": [
            "Epoch 329/100: 100%|██████████| 533/533 [00:02<00:00, 238.06it/s]\n"
          ]
        },
        {
          "name": "stdout",
          "output_type": "stream",
          "text": [
            "Epoch 329/100, training loss: 1.691535589171619, validation loss: 1.7198112526936318\n"
          ]
        },
        {
          "name": "stderr",
          "output_type": "stream",
          "text": [
            "Epoch 330/100: 100%|██████████| 533/533 [00:02<00:00, 216.67it/s]\n"
          ]
        },
        {
          "name": "stdout",
          "output_type": "stream",
          "text": [
            "Epoch 330/100, training loss: 1.6904071095289477, validation loss: 1.720231057992622\n"
          ]
        },
        {
          "name": "stderr",
          "output_type": "stream",
          "text": [
            "Epoch 331/100: 100%|██████████| 533/533 [00:02<00:00, 195.19it/s]\n"
          ]
        },
        {
          "name": "stdout",
          "output_type": "stream",
          "text": [
            "Epoch 331/100, training loss: 1.68946075528916, validation loss: 1.7213582156309442\n"
          ]
        },
        {
          "name": "stderr",
          "output_type": "stream",
          "text": [
            "Epoch 332/100: 100%|██████████| 533/533 [00:02<00:00, 194.84it/s]\n"
          ]
        },
        {
          "name": "stdout",
          "output_type": "stream",
          "text": [
            "Epoch 332/100, training loss: 1.689799659471351, validation loss: 1.720204709181145\n"
          ]
        },
        {
          "name": "stderr",
          "output_type": "stream",
          "text": [
            "Epoch 333/100: 100%|██████████| 533/533 [00:02<00:00, 191.01it/s]\n"
          ]
        },
        {
          "name": "stdout",
          "output_type": "stream",
          "text": [
            "Epoch 333/100, training loss: 1.6907946253806967, validation loss: 1.722480368258348\n"
          ]
        },
        {
          "name": "stderr",
          "output_type": "stream",
          "text": [
            "Epoch 334/100: 100%|██████████| 533/533 [00:02<00:00, 206.55it/s]\n"
          ]
        },
        {
          "name": "stdout",
          "output_type": "stream",
          "text": [
            "Epoch 334/100, training loss: 1.6925253414078905, validation loss: 1.721349374571843\n"
          ]
        },
        {
          "name": "stderr",
          "output_type": "stream",
          "text": [
            "Epoch 335/100: 100%|██████████| 533/533 [00:02<00:00, 237.45it/s]\n"
          ]
        },
        {
          "name": "stdout",
          "output_type": "stream",
          "text": [
            "Epoch 335/100, training loss: 1.6902919385938662, validation loss: 1.7185016167697622\n"
          ]
        },
        {
          "name": "stderr",
          "output_type": "stream",
          "text": [
            "Epoch 336/100: 100%|██████████| 533/533 [00:02<00:00, 232.95it/s]\n"
          ]
        },
        {
          "name": "stdout",
          "output_type": "stream",
          "text": [
            "Epoch 336/100, training loss: 1.6878607282048095, validation loss: 1.7169731935458397\n"
          ]
        },
        {
          "name": "stderr",
          "output_type": "stream",
          "text": [
            "Epoch 337/100: 100%|██████████| 533/533 [00:02<00:00, 215.40it/s]\n"
          ]
        },
        {
          "name": "stdout",
          "output_type": "stream",
          "text": [
            "Epoch 337/100, training loss: 1.6901969925323972, validation loss: 1.7199314734829005\n"
          ]
        },
        {
          "name": "stderr",
          "output_type": "stream",
          "text": [
            "Epoch 338/100: 100%|██████████| 533/533 [00:02<00:00, 224.07it/s]\n"
          ]
        },
        {
          "name": "stdout",
          "output_type": "stream",
          "text": [
            "Epoch 338/100, training loss: 1.6909380916359278, validation loss: 1.7186908028019008\n"
          ]
        },
        {
          "name": "stderr",
          "output_type": "stream",
          "text": [
            "Epoch 339/100: 100%|██████████| 533/533 [00:01<00:00, 280.79it/s]\n"
          ]
        },
        {
          "name": "stdout",
          "output_type": "stream",
          "text": [
            "Epoch 339/100, training loss: 1.6874210937385488, validation loss: 1.7215361372748417\n"
          ]
        },
        {
          "name": "stderr",
          "output_type": "stream",
          "text": [
            "Epoch 340/100: 100%|██████████| 533/533 [00:01<00:00, 293.18it/s]\n"
          ]
        },
        {
          "name": "stdout",
          "output_type": "stream",
          "text": [
            "Epoch 340/100, training loss: 1.6894258719224196, validation loss: 1.716984581591478\n"
          ]
        },
        {
          "name": "stderr",
          "output_type": "stream",
          "text": [
            "Epoch 341/100: 100%|██████████| 533/533 [00:01<00:00, 314.82it/s]\n"
          ]
        },
        {
          "name": "stdout",
          "output_type": "stream",
          "text": [
            "Epoch 341/100, training loss: 1.6920986533388636, validation loss: 1.7219684515426408\n"
          ]
        },
        {
          "name": "stderr",
          "output_type": "stream",
          "text": [
            "Epoch 342/100: 100%|██████████| 533/533 [00:01<00:00, 315.39it/s]\n"
          ]
        },
        {
          "name": "stdout",
          "output_type": "stream",
          "text": [
            "Epoch 342/100, training loss: 1.6880547289105785, validation loss: 1.7217527939312494\n"
          ]
        },
        {
          "name": "stderr",
          "output_type": "stream",
          "text": [
            "Epoch 343/100: 100%|██████████| 533/533 [00:01<00:00, 315.67it/s]\n"
          ]
        },
        {
          "name": "stdout",
          "output_type": "stream",
          "text": [
            "Epoch 343/100, training loss: 1.6892787477536229, validation loss: 1.7202013099371498\n"
          ]
        },
        {
          "name": "stderr",
          "output_type": "stream",
          "text": [
            "Epoch 344/100: 100%|██████████| 533/533 [00:01<00:00, 314.28it/s]\n"
          ]
        },
        {
          "name": "stdout",
          "output_type": "stream",
          "text": [
            "Epoch 344/100, training loss: 1.6888456167915302, validation loss: 1.7181380933790065\n"
          ]
        },
        {
          "name": "stderr",
          "output_type": "stream",
          "text": [
            "Epoch 345/100: 100%|██████████| 533/533 [00:01<00:00, 316.52it/s]\n"
          ]
        },
        {
          "name": "stdout",
          "output_type": "stream",
          "text": [
            "Epoch 345/100, training loss: 1.6889115191758461, validation loss: 1.7207565218655032\n"
          ]
        },
        {
          "name": "stderr",
          "output_type": "stream",
          "text": [
            "Epoch 346/100: 100%|██████████| 533/533 [00:01<00:00, 312.06it/s]\n"
          ]
        },
        {
          "name": "stdout",
          "output_type": "stream",
          "text": [
            "Epoch 346/100, training loss: 1.688222613835648, validation loss: 1.7180189748308552\n"
          ]
        },
        {
          "name": "stderr",
          "output_type": "stream",
          "text": [
            "Epoch 347/100: 100%|██████████| 533/533 [00:01<00:00, 293.26it/s]\n"
          ]
        },
        {
          "name": "stdout",
          "output_type": "stream",
          "text": [
            "Epoch 347/100, training loss: 1.690344856782881, validation loss: 1.721986076725063\n"
          ]
        },
        {
          "name": "stderr",
          "output_type": "stream",
          "text": [
            "Epoch 348/100: 100%|██████████| 533/533 [00:01<00:00, 291.90it/s]\n"
          ]
        },
        {
          "name": "stdout",
          "output_type": "stream",
          "text": [
            "Epoch 348/100, training loss: 1.68962960395312, validation loss: 1.718132581283797\n"
          ]
        },
        {
          "name": "stderr",
          "output_type": "stream",
          "text": [
            "Epoch 349/100: 100%|██████████| 533/533 [00:03<00:00, 153.51it/s]\n"
          ]
        },
        {
          "name": "stdout",
          "output_type": "stream",
          "text": [
            "Epoch 349/100, training loss: 1.6905096583697408, validation loss: 1.719457127265076\n"
          ]
        },
        {
          "name": "stderr",
          "output_type": "stream",
          "text": [
            "Epoch 350/100: 100%|██████████| 533/533 [00:02<00:00, 188.50it/s]\n"
          ]
        },
        {
          "name": "stdout",
          "output_type": "stream",
          "text": [
            "Epoch 350/100, training loss: 1.6878995776847425, validation loss: 1.7183788240845523\n"
          ]
        },
        {
          "name": "stderr",
          "output_type": "stream",
          "text": [
            "Epoch 351/100: 100%|██████████| 533/533 [00:02<00:00, 211.23it/s]\n"
          ]
        },
        {
          "name": "stdout",
          "output_type": "stream",
          "text": [
            "Epoch 351/100, training loss: 1.6907583191068267, validation loss: 1.71857018257255\n"
          ]
        },
        {
          "name": "stderr",
          "output_type": "stream",
          "text": [
            "Epoch 352/100: 100%|██████████| 533/533 [00:02<00:00, 199.60it/s]\n"
          ]
        },
        {
          "name": "stdout",
          "output_type": "stream",
          "text": [
            "Epoch 352/100, training loss: 1.6890013862058773, validation loss: 1.7212586002563364\n"
          ]
        },
        {
          "name": "stderr",
          "output_type": "stream",
          "text": [
            "Epoch 353/100: 100%|██████████| 533/533 [00:02<00:00, 181.45it/s]\n"
          ]
        },
        {
          "name": "stdout",
          "output_type": "stream",
          "text": [
            "Epoch 353/100, training loss: 1.688898797554102, validation loss: 1.7186022596572763\n"
          ]
        },
        {
          "name": "stderr",
          "output_type": "stream",
          "text": [
            "Epoch 354/100: 100%|██████████| 533/533 [00:02<00:00, 206.58it/s]\n"
          ]
        },
        {
          "name": "stdout",
          "output_type": "stream",
          "text": [
            "Epoch 354/100, training loss: 1.6879376278138294, validation loss: 1.7207197395723257\n"
          ]
        },
        {
          "name": "stderr",
          "output_type": "stream",
          "text": [
            "Epoch 355/100: 100%|██████████| 533/533 [00:02<00:00, 188.49it/s]\n"
          ]
        },
        {
          "name": "stdout",
          "output_type": "stream",
          "text": [
            "Epoch 355/100, training loss: 1.6864064620985995, validation loss: 1.7166355261162145\n"
          ]
        },
        {
          "name": "stderr",
          "output_type": "stream",
          "text": [
            "Epoch 356/100: 100%|██████████| 533/533 [00:02<00:00, 226.22it/s]\n"
          ]
        },
        {
          "name": "stdout",
          "output_type": "stream",
          "text": [
            "Epoch 356/100, training loss: 1.6871276396076853, validation loss: 1.7230827239022326\n"
          ]
        },
        {
          "name": "stderr",
          "output_type": "stream",
          "text": [
            "Epoch 357/100: 100%|██████████| 533/533 [00:02<00:00, 218.43it/s]\n"
          ]
        },
        {
          "name": "stdout",
          "output_type": "stream",
          "text": [
            "Epoch 357/100, training loss: 1.6911678591543917, validation loss: 1.72357356370385\n"
          ]
        },
        {
          "name": "stderr",
          "output_type": "stream",
          "text": [
            "Epoch 358/100: 100%|██████████| 533/533 [00:02<00:00, 239.54it/s]\n"
          ]
        },
        {
          "name": "stdout",
          "output_type": "stream",
          "text": [
            "Epoch 358/100, training loss: 1.6880611697907295, validation loss: 1.7206654593126098\n"
          ]
        },
        {
          "name": "stderr",
          "output_type": "stream",
          "text": [
            "Epoch 359/100: 100%|██████████| 533/533 [00:02<00:00, 239.88it/s]\n"
          ]
        },
        {
          "name": "stdout",
          "output_type": "stream",
          "text": [
            "Epoch 359/100, training loss: 1.687570028412409, validation loss: 1.7193007166705914\n"
          ]
        },
        {
          "name": "stderr",
          "output_type": "stream",
          "text": [
            "Epoch 360/100: 100%|██████████| 533/533 [00:02<00:00, 232.42it/s]\n"
          ]
        },
        {
          "name": "stdout",
          "output_type": "stream",
          "text": [
            "Epoch 360/100, training loss: 1.6885658932000567, validation loss: 1.7206769879184551\n"
          ]
        },
        {
          "name": "stderr",
          "output_type": "stream",
          "text": [
            "Epoch 361/100: 100%|██████████| 533/533 [00:02<00:00, 251.73it/s]\n"
          ]
        },
        {
          "name": "stdout",
          "output_type": "stream",
          "text": [
            "Epoch 361/100, training loss: 1.6880523717873093, validation loss: 1.7208472116669613\n"
          ]
        },
        {
          "name": "stderr",
          "output_type": "stream",
          "text": [
            "Epoch 362/100: 100%|██████████| 533/533 [00:02<00:00, 241.51it/s]\n"
          ]
        },
        {
          "name": "stdout",
          "output_type": "stream",
          "text": [
            "Epoch 362/100, training loss: 1.6883822865155131, validation loss: 1.7206656941727025\n"
          ]
        },
        {
          "name": "stderr",
          "output_type": "stream",
          "text": [
            "Epoch 363/100: 100%|██████████| 533/533 [00:02<00:00, 224.30it/s]\n"
          ]
        },
        {
          "name": "stdout",
          "output_type": "stream",
          "text": [
            "Epoch 363/100, training loss: 1.6908448111496543, validation loss: 1.7242631503005525\n"
          ]
        },
        {
          "name": "stderr",
          "output_type": "stream",
          "text": [
            "Epoch 364/100: 100%|██████████| 533/533 [00:02<00:00, 238.83it/s]\n"
          ]
        },
        {
          "name": "stdout",
          "output_type": "stream",
          "text": [
            "Epoch 364/100, training loss: 1.6887194081497907, validation loss: 1.7215184320264787\n"
          ]
        },
        {
          "name": "stderr",
          "output_type": "stream",
          "text": [
            "Epoch 365/100: 100%|██████████| 533/533 [00:02<00:00, 229.45it/s]\n"
          ]
        },
        {
          "name": "stdout",
          "output_type": "stream",
          "text": [
            "Epoch 365/100, training loss: 1.688593086784821, validation loss: 1.7195257758026692\n"
          ]
        },
        {
          "name": "stderr",
          "output_type": "stream",
          "text": [
            "Epoch 366/100: 100%|██████████| 533/533 [00:02<00:00, 220.43it/s]\n"
          ]
        },
        {
          "name": "stdout",
          "output_type": "stream",
          "text": [
            "Epoch 366/100, training loss: 1.6882499089607825, validation loss: 1.7160352699792207\n"
          ]
        },
        {
          "name": "stderr",
          "output_type": "stream",
          "text": [
            "Epoch 367/100: 100%|██████████| 533/533 [00:02<00:00, 220.32it/s]\n"
          ]
        },
        {
          "name": "stdout",
          "output_type": "stream",
          "text": [
            "Epoch 367/100, training loss: 1.6891753821167221, validation loss: 1.719790979107814\n"
          ]
        },
        {
          "name": "stderr",
          "output_type": "stream",
          "text": [
            "Epoch 368/100: 100%|██████████| 533/533 [00:02<00:00, 207.75it/s]\n"
          ]
        },
        {
          "name": "stdout",
          "output_type": "stream",
          "text": [
            "Epoch 368/100, training loss: 1.6901696542414224, validation loss: 1.7234115929745917\n"
          ]
        },
        {
          "name": "stderr",
          "output_type": "stream",
          "text": [
            "Epoch 369/100: 100%|██████████| 533/533 [00:02<00:00, 212.09it/s]\n"
          ]
        },
        {
          "name": "stdout",
          "output_type": "stream",
          "text": [
            "Epoch 369/100, training loss: 1.68835985817113, validation loss: 1.7188562261524485\n"
          ]
        },
        {
          "name": "stderr",
          "output_type": "stream",
          "text": [
            "Epoch 370/100: 100%|██████████| 533/533 [00:03<00:00, 176.63it/s]\n"
          ]
        },
        {
          "name": "stdout",
          "output_type": "stream",
          "text": [
            "Epoch 370/100, training loss: 1.691191310283167, validation loss: 1.7208093057817488\n"
          ]
        },
        {
          "name": "stderr",
          "output_type": "stream",
          "text": [
            "Epoch 371/100: 100%|██████████| 533/533 [00:02<00:00, 210.14it/s]\n"
          ]
        },
        {
          "name": "stdout",
          "output_type": "stream",
          "text": [
            "Epoch 371/100, training loss: 1.6893030944058416, validation loss: 1.7214138988238663\n"
          ]
        },
        {
          "name": "stderr",
          "output_type": "stream",
          "text": [
            "Epoch 372/100: 100%|██████████| 533/533 [00:03<00:00, 143.33it/s]\n"
          ]
        },
        {
          "name": "stdout",
          "output_type": "stream",
          "text": [
            "Epoch 372/100, training loss: 1.6888058608289507, validation loss: 1.7198708386563544\n"
          ]
        },
        {
          "name": "stderr",
          "output_type": "stream",
          "text": [
            "Epoch 373/100: 100%|██████████| 533/533 [00:02<00:00, 181.93it/s]\n"
          ]
        },
        {
          "name": "stdout",
          "output_type": "stream",
          "text": [
            "Epoch 373/100, training loss: 1.6901984496590792, validation loss: 1.7207754023039519\n"
          ]
        },
        {
          "name": "stderr",
          "output_type": "stream",
          "text": [
            "Epoch 374/100: 100%|██████████| 533/533 [00:02<00:00, 188.11it/s]\n"
          ]
        },
        {
          "name": "stdout",
          "output_type": "stream",
          "text": [
            "Epoch 374/100, training loss: 1.6879424945945811, validation loss: 1.7225404746496855\n"
          ]
        },
        {
          "name": "stderr",
          "output_type": "stream",
          "text": [
            "Epoch 375/100: 100%|██████████| 533/533 [00:02<00:00, 233.70it/s]\n"
          ]
        },
        {
          "name": "stdout",
          "output_type": "stream",
          "text": [
            "Epoch 375/100, training loss: 1.6892409877079289, validation loss: 1.7210853286643526\n"
          ]
        },
        {
          "name": "stderr",
          "output_type": "stream",
          "text": [
            "Epoch 376/100: 100%|██████████| 533/533 [00:02<00:00, 225.32it/s]\n"
          ]
        },
        {
          "name": "stdout",
          "output_type": "stream",
          "text": [
            "Epoch 376/100, training loss: 1.689261396427763, validation loss: 1.7206100092005374\n"
          ]
        },
        {
          "name": "stderr",
          "output_type": "stream",
          "text": [
            "Epoch 377/100: 100%|██████████| 533/533 [00:02<00:00, 183.32it/s]\n"
          ]
        },
        {
          "name": "stdout",
          "output_type": "stream",
          "text": [
            "Epoch 377/100, training loss: 1.686250603445028, validation loss: 1.7209352984357236\n"
          ]
        },
        {
          "name": "stderr",
          "output_type": "stream",
          "text": [
            "Epoch 378/100: 100%|██████████| 533/533 [00:02<00:00, 194.76it/s]\n"
          ]
        },
        {
          "name": "stdout",
          "output_type": "stream",
          "text": [
            "Epoch 378/100, training loss: 1.6889018925224863, validation loss: 1.7234406062026522\n"
          ]
        },
        {
          "name": "stderr",
          "output_type": "stream",
          "text": [
            "Epoch 379/100: 100%|██████████| 533/533 [00:02<00:00, 179.15it/s]\n"
          ]
        },
        {
          "name": "stdout",
          "output_type": "stream",
          "text": [
            "Epoch 379/100, training loss: 1.6865976028997052, validation loss: 1.722039566111209\n"
          ]
        },
        {
          "name": "stderr",
          "output_type": "stream",
          "text": [
            "Epoch 380/100: 100%|██████████| 533/533 [00:03<00:00, 163.65it/s]\n"
          ]
        },
        {
          "name": "stdout",
          "output_type": "stream",
          "text": [
            "Epoch 380/100, training loss: 1.6889426428649932, validation loss: 1.7237055346147339\n"
          ]
        },
        {
          "name": "stderr",
          "output_type": "stream",
          "text": [
            "Epoch 381/100: 100%|██████████| 533/533 [00:03<00:00, 156.67it/s]\n"
          ]
        },
        {
          "name": "stdout",
          "output_type": "stream",
          "text": [
            "Epoch 381/100, training loss: 1.687127714980163, validation loss: 1.7226151770620204\n"
          ]
        },
        {
          "name": "stderr",
          "output_type": "stream",
          "text": [
            "Epoch 382/100: 100%|██████████| 533/533 [00:02<00:00, 213.95it/s]\n"
          ]
        },
        {
          "name": "stdout",
          "output_type": "stream",
          "text": [
            "Epoch 382/100, training loss: 1.687542651428738, validation loss: 1.7198247891753466\n"
          ]
        },
        {
          "name": "stderr",
          "output_type": "stream",
          "text": [
            "Epoch 383/100: 100%|██████████| 533/533 [00:02<00:00, 205.81it/s]\n"
          ]
        },
        {
          "name": "stdout",
          "output_type": "stream",
          "text": [
            "Epoch 383/100, training loss: 1.6903974419463195, validation loss: 1.721183291122095\n"
          ]
        },
        {
          "name": "stderr",
          "output_type": "stream",
          "text": [
            "Epoch 384/100: 100%|██████████| 533/533 [00:02<00:00, 190.51it/s]\n"
          ]
        },
        {
          "name": "stdout",
          "output_type": "stream",
          "text": [
            "Epoch 384/100, training loss: 1.687235322275931, validation loss: 1.720295955885702\n"
          ]
        },
        {
          "name": "stderr",
          "output_type": "stream",
          "text": [
            "Epoch 385/100: 100%|██████████| 533/533 [00:02<00:00, 214.45it/s]\n"
          ]
        },
        {
          "name": "stdout",
          "output_type": "stream",
          "text": [
            "Epoch 385/100, training loss: 1.6898372108448738, validation loss: 1.7222500443458557\n"
          ]
        },
        {
          "name": "stderr",
          "output_type": "stream",
          "text": [
            "Epoch 386/100: 100%|██████████| 533/533 [00:02<00:00, 216.72it/s]\n"
          ]
        },
        {
          "name": "stdout",
          "output_type": "stream",
          "text": [
            "Epoch 386/100, training loss: 1.6898583455559908, validation loss: 1.7212976706561758\n"
          ]
        },
        {
          "name": "stderr",
          "output_type": "stream",
          "text": [
            "Epoch 387/100: 100%|██████████| 533/533 [00:02<00:00, 243.39it/s]\n"
          ]
        },
        {
          "name": "stdout",
          "output_type": "stream",
          "text": [
            "Epoch 387/100, training loss: 1.6887748632824666, validation loss: 1.71907377243042\n"
          ]
        },
        {
          "name": "stderr",
          "output_type": "stream",
          "text": [
            "Epoch 388/100: 100%|██████████| 533/533 [00:02<00:00, 221.18it/s]\n"
          ]
        },
        {
          "name": "stdout",
          "output_type": "stream",
          "text": [
            "Epoch 388/100, training loss: 1.6867060922994845, validation loss: 1.7207075490880368\n"
          ]
        },
        {
          "name": "stderr",
          "output_type": "stream",
          "text": [
            "Epoch 389/100: 100%|██████████| 533/533 [00:02<00:00, 204.77it/s]\n"
          ]
        },
        {
          "name": "stdout",
          "output_type": "stream",
          "text": [
            "Epoch 389/100, training loss: 1.6893073984650688, validation loss: 1.7219155831123465\n"
          ]
        },
        {
          "name": "stderr",
          "output_type": "stream",
          "text": [
            "Epoch 390/100: 100%|██████████| 533/533 [00:02<00:00, 233.27it/s]\n"
          ]
        },
        {
          "name": "stdout",
          "output_type": "stream",
          "text": [
            "Epoch 390/100, training loss: 1.6893802709024799, validation loss: 1.720181134209704\n"
          ]
        },
        {
          "name": "stderr",
          "output_type": "stream",
          "text": [
            "Epoch 391/100: 100%|██████████| 533/533 [00:02<00:00, 198.22it/s]\n"
          ]
        },
        {
          "name": "stdout",
          "output_type": "stream",
          "text": [
            "Epoch 391/100, training loss: 1.6874429667420952, validation loss: 1.7180899239298124\n"
          ]
        },
        {
          "name": "stderr",
          "output_type": "stream",
          "text": [
            "Epoch 392/100: 100%|██████████| 533/533 [00:02<00:00, 235.94it/s]\n"
          ]
        },
        {
          "name": "stdout",
          "output_type": "stream",
          "text": [
            "Epoch 392/100, training loss: 1.6857983567253958, validation loss: 1.7169654903127187\n"
          ]
        },
        {
          "name": "stderr",
          "output_type": "stream",
          "text": [
            "Epoch 393/100: 100%|██████████| 533/533 [00:02<00:00, 195.22it/s]\n"
          ]
        },
        {
          "name": "stdout",
          "output_type": "stream",
          "text": [
            "Epoch 393/100, training loss: 1.6880966760427822, validation loss: 1.7199103894518382\n"
          ]
        },
        {
          "name": "stderr",
          "output_type": "stream",
          "text": [
            "Epoch 394/100: 100%|██████████| 533/533 [00:02<00:00, 224.18it/s]\n"
          ]
        },
        {
          "name": "stdout",
          "output_type": "stream",
          "text": [
            "Epoch 394/100, training loss: 1.6869033384949361, validation loss: 1.7236259010300707\n"
          ]
        },
        {
          "name": "stderr",
          "output_type": "stream",
          "text": [
            "Epoch 395/100: 100%|██████████| 533/533 [00:02<00:00, 184.94it/s]\n"
          ]
        },
        {
          "name": "stdout",
          "output_type": "stream",
          "text": [
            "Epoch 395/100, training loss: 1.687159092296579, validation loss: 1.7188310258424104\n"
          ]
        },
        {
          "name": "stderr",
          "output_type": "stream",
          "text": [
            "Epoch 396/100: 100%|██████████| 533/533 [00:03<00:00, 153.24it/s]\n"
          ]
        },
        {
          "name": "stdout",
          "output_type": "stream",
          "text": [
            "Epoch 396/100, training loss: 1.688059876604778, validation loss: 1.7198203535222296\n"
          ]
        },
        {
          "name": "stderr",
          "output_type": "stream",
          "text": [
            "Epoch 397/100: 100%|██████████| 533/533 [00:03<00:00, 155.73it/s]\n"
          ]
        },
        {
          "name": "stdout",
          "output_type": "stream",
          "text": [
            "Epoch 397/100, training loss: 1.6882131878027997, validation loss: 1.7204061497503251\n"
          ]
        },
        {
          "name": "stderr",
          "output_type": "stream",
          "text": [
            "Epoch 398/100: 100%|██████████| 533/533 [00:03<00:00, 175.53it/s]\n"
          ]
        },
        {
          "name": "stdout",
          "output_type": "stream",
          "text": [
            "Epoch 398/100, training loss: 1.6868825023661858, validation loss: 1.7196516554747054\n"
          ]
        },
        {
          "name": "stderr",
          "output_type": "stream",
          "text": [
            "Epoch 399/100: 100%|██████████| 533/533 [00:02<00:00, 208.27it/s]\n"
          ]
        },
        {
          "name": "stdout",
          "output_type": "stream",
          "text": [
            "Epoch 399/100, training loss: 1.6870153607839045, validation loss: 1.7233068951919897\n"
          ]
        },
        {
          "name": "stderr",
          "output_type": "stream",
          "text": [
            "Epoch 400/100: 100%|██████████| 533/533 [00:02<00:00, 226.20it/s]\n"
          ]
        },
        {
          "name": "stdout",
          "output_type": "stream",
          "text": [
            "Epoch 400/100, training loss: 1.6874586384023555, validation loss: 1.7213625569841755\n"
          ]
        },
        {
          "name": "stderr",
          "output_type": "stream",
          "text": [
            "Epoch 401/100: 100%|██████████| 533/533 [00:02<00:00, 185.47it/s]\n"
          ]
        },
        {
          "name": "stdout",
          "output_type": "stream",
          "text": [
            "Epoch 401/100, training loss: 1.6866548208984604, validation loss: 1.7216952425330432\n"
          ]
        },
        {
          "name": "stderr",
          "output_type": "stream",
          "text": [
            "Epoch 402/100: 100%|██████████| 533/533 [00:03<00:00, 155.80it/s]\n"
          ]
        },
        {
          "name": "stdout",
          "output_type": "stream",
          "text": [
            "Epoch 402/100, training loss: 1.6882366711382124, validation loss: 1.7209469160037254\n"
          ]
        },
        {
          "name": "stderr",
          "output_type": "stream",
          "text": [
            "Epoch 403/100: 100%|██████████| 533/533 [00:02<00:00, 180.43it/s]\n"
          ]
        },
        {
          "name": "stdout",
          "output_type": "stream",
          "text": [
            "Epoch 403/100, training loss: 1.6881970829185358, validation loss: 1.7203116372450074\n"
          ]
        },
        {
          "name": "stderr",
          "output_type": "stream",
          "text": [
            "Epoch 404/100: 100%|██████████| 533/533 [00:02<00:00, 217.38it/s]\n"
          ]
        },
        {
          "name": "stdout",
          "output_type": "stream",
          "text": [
            "Epoch 404/100, training loss: 1.687054576837994, validation loss: 1.724537116378101\n"
          ]
        },
        {
          "name": "stderr",
          "output_type": "stream",
          "text": [
            "Epoch 405/100: 100%|██████████| 533/533 [00:02<00:00, 197.16it/s]\n"
          ]
        },
        {
          "name": "stdout",
          "output_type": "stream",
          "text": [
            "Epoch 405/100, training loss: 1.6869657647989929, validation loss: 1.723428453082469\n"
          ]
        },
        {
          "name": "stderr",
          "output_type": "stream",
          "text": [
            "Epoch 406/100: 100%|██████████| 533/533 [00:02<00:00, 190.89it/s]\n"
          ]
        },
        {
          "name": "stdout",
          "output_type": "stream",
          "text": [
            "Epoch 406/100, training loss: 1.6878380471277863, validation loss: 1.7212125810224619\n"
          ]
        },
        {
          "name": "stderr",
          "output_type": "stream",
          "text": [
            "Epoch 407/100: 100%|██████████| 533/533 [00:02<00:00, 215.04it/s]\n"
          ]
        },
        {
          "name": "stdout",
          "output_type": "stream",
          "text": [
            "Epoch 407/100, training loss: 1.6891526097875598, validation loss: 1.7202575286822532\n"
          ]
        },
        {
          "name": "stderr",
          "output_type": "stream",
          "text": [
            "Epoch 408/100: 100%|██████████| 533/533 [00:02<00:00, 215.93it/s]\n"
          ]
        },
        {
          "name": "stdout",
          "output_type": "stream",
          "text": [
            "Epoch 408/100, training loss: 1.6867981431184522, validation loss: 1.7256516244874072\n"
          ]
        },
        {
          "name": "stderr",
          "output_type": "stream",
          "text": [
            "Epoch 409/100: 100%|██████████| 533/533 [00:02<00:00, 237.55it/s]\n"
          ]
        },
        {
          "name": "stdout",
          "output_type": "stream",
          "text": [
            "Epoch 409/100, training loss: 1.687576834748431, validation loss: 1.7206905030492525\n"
          ]
        },
        {
          "name": "stderr",
          "output_type": "stream",
          "text": [
            "Epoch 410/100: 100%|██████████| 533/533 [00:02<00:00, 239.67it/s]\n"
          ]
        },
        {
          "name": "stdout",
          "output_type": "stream",
          "text": [
            "Epoch 410/100, training loss: 1.6873205906901976, validation loss: 1.718822099379639\n"
          ]
        },
        {
          "name": "stderr",
          "output_type": "stream",
          "text": [
            "Epoch 411/100: 100%|██████████| 533/533 [00:02<00:00, 234.53it/s]\n"
          ]
        },
        {
          "name": "stdout",
          "output_type": "stream",
          "text": [
            "Epoch 411/100, training loss: 1.684766551343406, validation loss: 1.7186867354521111\n"
          ]
        },
        {
          "name": "stderr",
          "output_type": "stream",
          "text": [
            "Epoch 412/100: 100%|██████████| 533/533 [00:02<00:00, 209.99it/s]\n"
          ]
        },
        {
          "name": "stdout",
          "output_type": "stream",
          "text": [
            "Epoch 412/100, training loss: 1.686243003796905, validation loss: 1.721613682028073\n"
          ]
        },
        {
          "name": "stderr",
          "output_type": "stream",
          "text": [
            "Epoch 413/100: 100%|██████████| 533/533 [00:02<00:00, 234.65it/s]\n"
          ]
        },
        {
          "name": "stdout",
          "output_type": "stream",
          "text": [
            "Epoch 413/100, training loss: 1.6867767735672712, validation loss: 1.7213731790656475\n"
          ]
        },
        {
          "name": "stderr",
          "output_type": "stream",
          "text": [
            "Epoch 414/100: 100%|██████████| 533/533 [00:02<00:00, 244.82it/s]\n"
          ]
        },
        {
          "name": "stdout",
          "output_type": "stream",
          "text": [
            "Epoch 414/100, training loss: 1.6856343057321115, validation loss: 1.7213063329013425\n"
          ]
        },
        {
          "name": "stderr",
          "output_type": "stream",
          "text": [
            "Epoch 415/100: 100%|██████████| 533/533 [00:02<00:00, 243.20it/s]\n"
          ]
        },
        {
          "name": "stdout",
          "output_type": "stream",
          "text": [
            "Epoch 415/100, training loss: 1.6860059331997699, validation loss: 1.718135910247689\n"
          ]
        },
        {
          "name": "stderr",
          "output_type": "stream",
          "text": [
            "Epoch 416/100: 100%|██████████| 533/533 [00:02<00:00, 240.14it/s]\n"
          ]
        },
        {
          "name": "stdout",
          "output_type": "stream",
          "text": [
            "Epoch 416/100, training loss: 1.686561849953757, validation loss: 1.7234535973463485\n"
          ]
        },
        {
          "name": "stderr",
          "output_type": "stream",
          "text": [
            "Epoch 417/100: 100%|██████████| 533/533 [00:02<00:00, 205.98it/s]\n"
          ]
        },
        {
          "name": "stdout",
          "output_type": "stream",
          "text": [
            "Epoch 417/100, training loss: 1.6881893314071712, validation loss: 1.721724036914199\n"
          ]
        },
        {
          "name": "stderr",
          "output_type": "stream",
          "text": [
            "Epoch 418/100: 100%|██████████| 533/533 [00:03<00:00, 171.53it/s]\n"
          ]
        },
        {
          "name": "stdout",
          "output_type": "stream",
          "text": [
            "Epoch 418/100, training loss: 1.688554387826186, validation loss: 1.7192655890735227\n"
          ]
        },
        {
          "name": "stderr",
          "output_type": "stream",
          "text": [
            "Epoch 419/100: 100%|██████████| 533/533 [00:02<00:00, 178.47it/s]\n"
          ]
        },
        {
          "name": "stdout",
          "output_type": "stream",
          "text": [
            "Epoch 419/100, training loss: 1.684296509785679, validation loss: 1.7234588639060062\n"
          ]
        },
        {
          "name": "stderr",
          "output_type": "stream",
          "text": [
            "Epoch 420/100: 100%|██████████| 533/533 [00:02<00:00, 182.22it/s]\n"
          ]
        },
        {
          "name": "stdout",
          "output_type": "stream",
          "text": [
            "Epoch 420/100, training loss: 1.6847299862981513, validation loss: 1.7208943838503823\n"
          ]
        },
        {
          "name": "stderr",
          "output_type": "stream",
          "text": [
            "Epoch 421/100: 100%|██████████| 533/533 [00:02<00:00, 244.54it/s]\n"
          ]
        },
        {
          "name": "stdout",
          "output_type": "stream",
          "text": [
            "Epoch 421/100, training loss: 1.6875522966456458, validation loss: 1.720138697481867\n"
          ]
        },
        {
          "name": "stderr",
          "output_type": "stream",
          "text": [
            "Epoch 422/100: 100%|██████████| 533/533 [00:02<00:00, 248.82it/s]\n"
          ]
        },
        {
          "name": "stdout",
          "output_type": "stream",
          "text": [
            "Epoch 422/100, training loss: 1.6862830330685872, validation loss: 1.7218765812133676\n"
          ]
        },
        {
          "name": "stderr",
          "output_type": "stream",
          "text": [
            "Epoch 423/100: 100%|██████████| 533/533 [00:02<00:00, 250.27it/s]\n"
          ]
        },
        {
          "name": "stdout",
          "output_type": "stream",
          "text": [
            "Epoch 423/100, training loss: 1.6846848511561667, validation loss: 1.7223376115756248\n"
          ]
        },
        {
          "name": "stderr",
          "output_type": "stream",
          "text": [
            "Epoch 424/100: 100%|██████████| 533/533 [00:02<00:00, 244.39it/s]\n"
          ]
        },
        {
          "name": "stdout",
          "output_type": "stream",
          "text": [
            "Epoch 424/100, training loss: 1.6874383106464292, validation loss: 1.7189883376235393\n"
          ]
        },
        {
          "name": "stderr",
          "output_type": "stream",
          "text": [
            "Epoch 425/100: 100%|██████████| 533/533 [00:02<00:00, 247.29it/s]\n"
          ]
        },
        {
          "name": "stdout",
          "output_type": "stream",
          "text": [
            "Epoch 425/100, training loss: 1.6867560673833564, validation loss: 1.7194786356456244\n"
          ]
        },
        {
          "name": "stderr",
          "output_type": "stream",
          "text": [
            "Epoch 426/100: 100%|██████████| 533/533 [00:02<00:00, 207.45it/s]\n"
          ]
        },
        {
          "name": "stdout",
          "output_type": "stream",
          "text": [
            "Epoch 426/100, training loss: 1.6857620862366782, validation loss: 1.718723108519369\n"
          ]
        },
        {
          "name": "stderr",
          "output_type": "stream",
          "text": [
            "Epoch 427/100: 100%|██████████| 533/533 [00:02<00:00, 211.95it/s]\n"
          ]
        },
        {
          "name": "stdout",
          "output_type": "stream",
          "text": [
            "Epoch 427/100, training loss: 1.6848568426511525, validation loss: 1.721264032285605\n"
          ]
        },
        {
          "name": "stderr",
          "output_type": "stream",
          "text": [
            "Epoch 428/100: 100%|██████████| 533/533 [00:02<00:00, 214.38it/s]\n"
          ]
        },
        {
          "name": "stdout",
          "output_type": "stream",
          "text": [
            "Epoch 428/100, training loss: 1.6862611531316676, validation loss: 1.7209501302064354\n"
          ]
        },
        {
          "name": "stderr",
          "output_type": "stream",
          "text": [
            "Epoch 429/100: 100%|██████████| 533/533 [00:02<00:00, 213.86it/s]\n"
          ]
        },
        {
          "name": "stdout",
          "output_type": "stream",
          "text": [
            "Epoch 429/100, training loss: 1.6871404039479554, validation loss: 1.7217396141877814\n"
          ]
        },
        {
          "name": "stderr",
          "output_type": "stream",
          "text": [
            "Epoch 430/100: 100%|██████████| 533/533 [00:02<00:00, 216.08it/s]\n"
          ]
        },
        {
          "name": "stdout",
          "output_type": "stream",
          "text": [
            "Epoch 430/100, training loss: 1.6852207277773916, validation loss: 1.7212710273799612\n"
          ]
        },
        {
          "name": "stderr",
          "output_type": "stream",
          "text": [
            "Epoch 431/100: 100%|██████████| 533/533 [00:02<00:00, 238.55it/s]\n"
          ]
        },
        {
          "name": "stdout",
          "output_type": "stream",
          "text": [
            "Epoch 431/100, training loss: 1.6850781000130173, validation loss: 1.719412451359763\n"
          ]
        },
        {
          "name": "stderr",
          "output_type": "stream",
          "text": [
            "Epoch 432/100: 100%|██████████| 533/533 [00:02<00:00, 231.83it/s]\n"
          ]
        },
        {
          "name": "stdout",
          "output_type": "stream",
          "text": [
            "Epoch 432/100, training loss: 1.6849721106534603, validation loss: 1.7190812657128518\n"
          ]
        },
        {
          "name": "stderr",
          "output_type": "stream",
          "text": [
            "Epoch 433/100: 100%|██████████| 533/533 [00:02<00:00, 243.45it/s]\n"
          ]
        },
        {
          "name": "stdout",
          "output_type": "stream",
          "text": [
            "Epoch 433/100, training loss: 1.68823317291589, validation loss: 1.7221214486591852\n"
          ]
        },
        {
          "name": "stderr",
          "output_type": "stream",
          "text": [
            "Epoch 434/100: 100%|██████████| 533/533 [00:02<00:00, 234.10it/s]\n"
          ]
        },
        {
          "name": "stdout",
          "output_type": "stream",
          "text": [
            "Epoch 434/100, training loss: 1.6857286512739886, validation loss: 1.725151658947788\n"
          ]
        },
        {
          "name": "stderr",
          "output_type": "stream",
          "text": [
            "Epoch 435/100: 100%|██████████| 533/533 [00:02<00:00, 221.27it/s]\n"
          ]
        },
        {
          "name": "stdout",
          "output_type": "stream",
          "text": [
            "Epoch 435/100, training loss: 1.6871270229847748, validation loss: 1.7215191917632944\n"
          ]
        },
        {
          "name": "stderr",
          "output_type": "stream",
          "text": [
            "Epoch 436/100: 100%|██████████| 533/533 [00:02<00:00, 183.58it/s]\n"
          ]
        },
        {
          "name": "stdout",
          "output_type": "stream",
          "text": [
            "Epoch 436/100, training loss: 1.6852286761070954, validation loss: 1.7195561038914011\n"
          ]
        },
        {
          "name": "stderr",
          "output_type": "stream",
          "text": [
            "Epoch 437/100: 100%|██████████| 533/533 [00:02<00:00, 199.18it/s]\n"
          ]
        },
        {
          "name": "stdout",
          "output_type": "stream",
          "text": [
            "Epoch 437/100, training loss: 1.6858411651614906, validation loss: 1.7211406026313554\n"
          ]
        },
        {
          "name": "stderr",
          "output_type": "stream",
          "text": [
            "Epoch 438/100: 100%|██████████| 533/533 [00:02<00:00, 199.49it/s]\n"
          ]
        },
        {
          "name": "stdout",
          "output_type": "stream",
          "text": [
            "Epoch 438/100, training loss: 1.68474118951114, validation loss: 1.7200350583489261\n"
          ]
        },
        {
          "name": "stderr",
          "output_type": "stream",
          "text": [
            "Epoch 439/100: 100%|██████████| 533/533 [00:02<00:00, 183.96it/s]\n"
          ]
        },
        {
          "name": "stdout",
          "output_type": "stream",
          "text": [
            "Epoch 439/100, training loss: 1.683801765513465, validation loss: 1.722436283951375\n"
          ]
        },
        {
          "name": "stderr",
          "output_type": "stream",
          "text": [
            "Epoch 440/100: 100%|██████████| 533/533 [00:02<00:00, 190.95it/s]\n"
          ]
        },
        {
          "name": "stdout",
          "output_type": "stream",
          "text": [
            "Epoch 440/100, training loss: 1.6852222285172282, validation loss: 1.7203361765662235\n"
          ]
        },
        {
          "name": "stderr",
          "output_type": "stream",
          "text": [
            "Epoch 441/100: 100%|██████████| 533/533 [00:02<00:00, 197.46it/s]\n"
          ]
        },
        {
          "name": "stdout",
          "output_type": "stream",
          "text": [
            "Epoch 441/100, training loss: 1.6858204375064842, validation loss: 1.7187385247714484\n"
          ]
        },
        {
          "name": "stderr",
          "output_type": "stream",
          "text": [
            "Epoch 442/100: 100%|██████████| 533/533 [00:03<00:00, 163.15it/s]\n"
          ]
        },
        {
          "name": "stdout",
          "output_type": "stream",
          "text": [
            "Epoch 442/100, training loss: 1.687757286077145, validation loss: 1.7184883035830598\n"
          ]
        },
        {
          "name": "stderr",
          "output_type": "stream",
          "text": [
            "Epoch 443/100: 100%|██████████| 533/533 [00:02<00:00, 212.37it/s]\n"
          ]
        },
        {
          "name": "stdout",
          "output_type": "stream",
          "text": [
            "Epoch 443/100, training loss: 1.688367669398968, validation loss: 1.7200332346247202\n"
          ]
        },
        {
          "name": "stderr",
          "output_type": "stream",
          "text": [
            "Epoch 444/100: 100%|██████████| 533/533 [00:02<00:00, 213.62it/s]\n"
          ]
        },
        {
          "name": "stdout",
          "output_type": "stream",
          "text": [
            "Epoch 444/100, training loss: 1.686772563891384, validation loss: 1.7193738684725406\n"
          ]
        },
        {
          "name": "stderr",
          "output_type": "stream",
          "text": [
            "Epoch 445/100: 100%|██████████| 533/533 [00:02<00:00, 211.57it/s]\n"
          ]
        },
        {
          "name": "stdout",
          "output_type": "stream",
          "text": [
            "Epoch 445/100, training loss: 1.6827025129468536, validation loss: 1.7200318370292436\n"
          ]
        },
        {
          "name": "stderr",
          "output_type": "stream",
          "text": [
            "Epoch 446/100: 100%|██████████| 533/533 [00:02<00:00, 216.42it/s]\n"
          ]
        },
        {
          "name": "stdout",
          "output_type": "stream",
          "text": [
            "Epoch 446/100, training loss: 1.6863969121596603, validation loss: 1.7198411564328777\n"
          ]
        },
        {
          "name": "stderr",
          "output_type": "stream",
          "text": [
            "Epoch 447/100: 100%|██████████| 533/533 [00:02<00:00, 206.11it/s]\n"
          ]
        },
        {
          "name": "stdout",
          "output_type": "stream",
          "text": [
            "Epoch 447/100, training loss: 1.686754911522928, validation loss: 1.7197395554229395\n"
          ]
        },
        {
          "name": "stderr",
          "output_type": "stream",
          "text": [
            "Epoch 448/100: 100%|██████████| 533/533 [00:02<00:00, 225.14it/s]\n"
          ]
        },
        {
          "name": "stdout",
          "output_type": "stream",
          "text": [
            "Epoch 448/100, training loss: 1.6867067357612595, validation loss: 1.7257003561774296\n"
          ]
        },
        {
          "name": "stderr",
          "output_type": "stream",
          "text": [
            "Epoch 449/100: 100%|██████████| 533/533 [00:02<00:00, 216.83it/s]\n"
          ]
        },
        {
          "name": "stdout",
          "output_type": "stream",
          "text": [
            "Epoch 449/100, training loss: 1.6847773810488644, validation loss: 1.718036223703356\n"
          ]
        },
        {
          "name": "stderr",
          "output_type": "stream",
          "text": [
            "Epoch 450/100: 100%|██████████| 533/533 [00:03<00:00, 173.31it/s]\n"
          ]
        },
        {
          "name": "stdout",
          "output_type": "stream",
          "text": [
            "Epoch 450/100, training loss: 1.6833376211252267, validation loss: 1.719308029359846\n"
          ]
        },
        {
          "name": "stderr",
          "output_type": "stream",
          "text": [
            "Epoch 451/100: 100%|██████████| 533/533 [00:02<00:00, 203.49it/s]\n"
          ]
        },
        {
          "name": "stdout",
          "output_type": "stream",
          "text": [
            "Epoch 451/100, training loss: 1.6841442864562959, validation loss: 1.719962828194917\n"
          ]
        },
        {
          "name": "stderr",
          "output_type": "stream",
          "text": [
            "Epoch 452/100: 100%|██████████| 533/533 [00:02<00:00, 215.19it/s]\n"
          ]
        },
        {
          "name": "stdout",
          "output_type": "stream",
          "text": [
            "Epoch 452/100, training loss: 1.685498523891084, validation loss: 1.7202590072332924\n"
          ]
        },
        {
          "name": "stderr",
          "output_type": "stream",
          "text": [
            "Epoch 453/100: 100%|██████████| 533/533 [00:02<00:00, 211.47it/s]\n"
          ]
        },
        {
          "name": "stdout",
          "output_type": "stream",
          "text": [
            "Epoch 453/100, training loss: 1.6868619187464187, validation loss: 1.7207149907724182\n"
          ]
        },
        {
          "name": "stderr",
          "output_type": "stream",
          "text": [
            "Epoch 454/100: 100%|██████████| 533/533 [00:02<00:00, 216.58it/s]\n"
          ]
        },
        {
          "name": "stdout",
          "output_type": "stream",
          "text": [
            "Epoch 454/100, training loss: 1.6850788034149227, validation loss: 1.7209245384629093\n"
          ]
        },
        {
          "name": "stderr",
          "output_type": "stream",
          "text": [
            "Epoch 455/100: 100%|██████████| 533/533 [00:02<00:00, 204.40it/s]\n"
          ]
        },
        {
          "name": "stdout",
          "output_type": "stream",
          "text": [
            "Epoch 455/100, training loss: 1.6849970602855002, validation loss: 1.7159209091271928\n"
          ]
        },
        {
          "name": "stderr",
          "output_type": "stream",
          "text": [
            "Epoch 456/100: 100%|██████████| 533/533 [00:02<00:00, 221.54it/s]\n"
          ]
        },
        {
          "name": "stdout",
          "output_type": "stream",
          "text": [
            "Epoch 456/100, training loss: 1.6842574994962167, validation loss: 1.7210583820271848\n"
          ]
        },
        {
          "name": "stderr",
          "output_type": "stream",
          "text": [
            "Epoch 457/100: 100%|██████████| 533/533 [00:02<00:00, 229.28it/s]\n"
          ]
        },
        {
          "name": "stdout",
          "output_type": "stream",
          "text": [
            "Epoch 457/100, training loss: 1.6871100040135196, validation loss: 1.7207206923570206\n"
          ]
        },
        {
          "name": "stderr",
          "output_type": "stream",
          "text": [
            "Epoch 458/100: 100%|██████████| 533/533 [00:02<00:00, 225.76it/s]\n"
          ]
        },
        {
          "name": "stdout",
          "output_type": "stream",
          "text": [
            "Epoch 458/100, training loss: 1.6830222772165266, validation loss: 1.7201864870626535\n"
          ]
        },
        {
          "name": "stderr",
          "output_type": "stream",
          "text": [
            "Epoch 459/100: 100%|██████████| 533/533 [00:02<00:00, 220.10it/s]\n"
          ]
        },
        {
          "name": "stdout",
          "output_type": "stream",
          "text": [
            "Epoch 459/100, training loss: 1.6841672037153261, validation loss: 1.720983569301776\n"
          ]
        },
        {
          "name": "stderr",
          "output_type": "stream",
          "text": [
            "Epoch 460/100: 100%|██████████| 533/533 [00:02<00:00, 234.45it/s]\n"
          ]
        },
        {
          "name": "stdout",
          "output_type": "stream",
          "text": [
            "Epoch 460/100, training loss: 1.684123453682404, validation loss: 1.721028200726011\n"
          ]
        },
        {
          "name": "stderr",
          "output_type": "stream",
          "text": [
            "Epoch 461/100: 100%|██████████| 533/533 [00:02<00:00, 223.37it/s]\n"
          ]
        },
        {
          "name": "stdout",
          "output_type": "stream",
          "text": [
            "Epoch 461/100, training loss: 1.6852712928689666, validation loss: 1.7175275505478702\n"
          ]
        },
        {
          "name": "stderr",
          "output_type": "stream",
          "text": [
            "Epoch 462/100: 100%|██████████| 533/533 [00:02<00:00, 214.94it/s]\n"
          ]
        },
        {
          "name": "stdout",
          "output_type": "stream",
          "text": [
            "Epoch 462/100, training loss: 1.684810678686031, validation loss: 1.7217220032393044\n"
          ]
        },
        {
          "name": "stderr",
          "output_type": "stream",
          "text": [
            "Epoch 463/100: 100%|██████████| 533/533 [00:02<00:00, 217.52it/s]\n"
          ]
        },
        {
          "name": "stdout",
          "output_type": "stream",
          "text": [
            "Epoch 463/100, training loss: 1.6853238538774271, validation loss: 1.7208840126421914\n"
          ]
        },
        {
          "name": "stderr",
          "output_type": "stream",
          "text": [
            "Epoch 464/100: 100%|██████████| 533/533 [00:02<00:00, 234.75it/s]\n"
          ]
        },
        {
          "name": "stdout",
          "output_type": "stream",
          "text": [
            "Epoch 464/100, training loss: 1.6868676284911708, validation loss: 1.723272187496299\n"
          ]
        },
        {
          "name": "stderr",
          "output_type": "stream",
          "text": [
            "Epoch 465/100: 100%|██████████| 533/533 [00:02<00:00, 208.06it/s]\n"
          ]
        },
        {
          "name": "stdout",
          "output_type": "stream",
          "text": [
            "Epoch 465/100, training loss: 1.683929145671637, validation loss: 1.7187600473859417\n"
          ]
        },
        {
          "name": "stderr",
          "output_type": "stream",
          "text": [
            "Epoch 466/100: 100%|██████████| 533/533 [00:02<00:00, 232.84it/s]\n"
          ]
        },
        {
          "name": "stdout",
          "output_type": "stream",
          "text": [
            "Epoch 466/100, training loss: 1.6838535893477822, validation loss: 1.7202179494188792\n"
          ]
        },
        {
          "name": "stderr",
          "output_type": "stream",
          "text": [
            "Epoch 467/100: 100%|██████████| 533/533 [00:02<00:00, 221.27it/s]\n"
          ]
        },
        {
          "name": "stdout",
          "output_type": "stream",
          "text": [
            "Epoch 467/100, training loss: 1.684701684491943, validation loss: 1.7202364989181063\n"
          ]
        },
        {
          "name": "stderr",
          "output_type": "stream",
          "text": [
            "Epoch 468/100: 100%|██████████| 533/533 [00:02<00:00, 205.21it/s]\n"
          ]
        },
        {
          "name": "stdout",
          "output_type": "stream",
          "text": [
            "Epoch 468/100, training loss: 1.6861343099744415, validation loss: 1.7205734119486453\n"
          ]
        },
        {
          "name": "stderr",
          "output_type": "stream",
          "text": [
            "Epoch 469/100: 100%|██████████| 533/533 [00:02<00:00, 217.75it/s]\n"
          ]
        },
        {
          "name": "stdout",
          "output_type": "stream",
          "text": [
            "Epoch 469/100, training loss: 1.6844450937650441, validation loss: 1.7192713805099031\n"
          ]
        },
        {
          "name": "stderr",
          "output_type": "stream",
          "text": [
            "Epoch 470/100: 100%|██████████| 533/533 [00:02<00:00, 229.04it/s]\n"
          ]
        },
        {
          "name": "stdout",
          "output_type": "stream",
          "text": [
            "Epoch 470/100, training loss: 1.6846530169080838, validation loss: 1.718145238819407\n"
          ]
        },
        {
          "name": "stderr",
          "output_type": "stream",
          "text": [
            "Epoch 471/100: 100%|██████████| 533/533 [00:02<00:00, 234.09it/s]\n"
          ]
        },
        {
          "name": "stdout",
          "output_type": "stream",
          "text": [
            "Epoch 471/100, training loss: 1.6837557153898601, validation loss: 1.720834603950159\n"
          ]
        },
        {
          "name": "stderr",
          "output_type": "stream",
          "text": [
            "Epoch 472/100: 100%|██████████| 533/533 [00:02<00:00, 221.71it/s]\n"
          ]
        },
        {
          "name": "stdout",
          "output_type": "stream",
          "text": [
            "Epoch 472/100, training loss: 1.687653772602833, validation loss: 1.7196143536425348\n"
          ]
        },
        {
          "name": "stderr",
          "output_type": "stream",
          "text": [
            "Epoch 473/100: 100%|██████████| 533/533 [00:02<00:00, 191.89it/s]\n"
          ]
        },
        {
          "name": "stdout",
          "output_type": "stream",
          "text": [
            "Epoch 473/100, training loss: 1.6846564415471863, validation loss: 1.7190352100044934\n"
          ]
        },
        {
          "name": "stderr",
          "output_type": "stream",
          "text": [
            "Epoch 474/100: 100%|██████████| 533/533 [00:02<00:00, 200.13it/s]\n"
          ]
        },
        {
          "name": "stdout",
          "output_type": "stream",
          "text": [
            "Epoch 474/100, training loss: 1.6862055324926608, validation loss: 1.7212947402427445\n"
          ]
        },
        {
          "name": "stderr",
          "output_type": "stream",
          "text": [
            "Epoch 475/100: 100%|██████████| 533/533 [00:03<00:00, 172.44it/s]\n"
          ]
        },
        {
          "name": "stdout",
          "output_type": "stream",
          "text": [
            "Epoch 475/100, training loss: 1.684170236730665, validation loss: 1.721004215639029\n"
          ]
        },
        {
          "name": "stderr",
          "output_type": "stream",
          "text": [
            "Epoch 476/100: 100%|██████████| 533/533 [00:02<00:00, 230.30it/s]\n"
          ]
        },
        {
          "name": "stdout",
          "output_type": "stream",
          "text": [
            "Epoch 476/100, training loss: 1.6822108162276963, validation loss: 1.7199862715023666\n"
          ]
        },
        {
          "name": "stderr",
          "output_type": "stream",
          "text": [
            "Epoch 477/100: 100%|██████████| 533/533 [00:02<00:00, 208.45it/s]\n"
          ]
        },
        {
          "name": "stdout",
          "output_type": "stream",
          "text": [
            "Epoch 477/100, training loss: 1.6887434338539224, validation loss: 1.719411788591698\n"
          ]
        },
        {
          "name": "stderr",
          "output_type": "stream",
          "text": [
            "Epoch 478/100: 100%|██████████| 533/533 [00:02<00:00, 185.05it/s]\n"
          ]
        },
        {
          "name": "stdout",
          "output_type": "stream",
          "text": [
            "Epoch 478/100, training loss: 1.6821129894614444, validation loss: 1.720385277449195\n"
          ]
        },
        {
          "name": "stderr",
          "output_type": "stream",
          "text": [
            "Epoch 479/100: 100%|██████████| 533/533 [00:02<00:00, 241.85it/s]\n"
          ]
        },
        {
          "name": "stdout",
          "output_type": "stream",
          "text": [
            "Epoch 479/100, training loss: 1.6836505915836815, validation loss: 1.72059614711733\n"
          ]
        },
        {
          "name": "stderr",
          "output_type": "stream",
          "text": [
            "Epoch 480/100: 100%|██████████| 533/533 [00:02<00:00, 236.69it/s]\n"
          ]
        },
        {
          "name": "stdout",
          "output_type": "stream",
          "text": [
            "Epoch 480/100, training loss: 1.684981863449483, validation loss: 1.720594132124488\n"
          ]
        },
        {
          "name": "stderr",
          "output_type": "stream",
          "text": [
            "Epoch 481/100: 100%|██████████| 533/533 [00:02<00:00, 218.32it/s]\n"
          ]
        },
        {
          "name": "stdout",
          "output_type": "stream",
          "text": [
            "Epoch 481/100, training loss: 1.6861781080936624, validation loss: 1.7236120932137788\n"
          ]
        },
        {
          "name": "stderr",
          "output_type": "stream",
          "text": [
            "Epoch 482/100: 100%|██████████| 533/533 [00:02<00:00, 220.83it/s]\n"
          ]
        },
        {
          "name": "stdout",
          "output_type": "stream",
          "text": [
            "Epoch 482/100, training loss: 1.6848096427058636, validation loss: 1.720647916864993\n"
          ]
        },
        {
          "name": "stderr",
          "output_type": "stream",
          "text": [
            "Epoch 483/100: 100%|██████████| 533/533 [00:02<00:00, 224.97it/s]\n"
          ]
        },
        {
          "name": "stdout",
          "output_type": "stream",
          "text": [
            "Epoch 483/100, training loss: 1.6855250896700775, validation loss: 1.7230038874184908\n"
          ]
        },
        {
          "name": "stderr",
          "output_type": "stream",
          "text": [
            "Epoch 484/100: 100%|██████████| 533/533 [00:02<00:00, 229.70it/s]\n"
          ]
        },
        {
          "name": "stdout",
          "output_type": "stream",
          "text": [
            "Epoch 484/100, training loss: 1.686522294164375, validation loss: 1.723444088181453\n"
          ]
        },
        {
          "name": "stderr",
          "output_type": "stream",
          "text": [
            "Epoch 485/100: 100%|██████████| 533/533 [00:02<00:00, 231.67it/s]\n"
          ]
        },
        {
          "name": "stdout",
          "output_type": "stream",
          "text": [
            "Epoch 485/100, training loss: 1.6846067147228105, validation loss: 1.7207432967513354\n"
          ]
        },
        {
          "name": "stderr",
          "output_type": "stream",
          "text": [
            "Epoch 486/100: 100%|██████████| 533/533 [00:02<00:00, 231.58it/s]\n"
          ]
        },
        {
          "name": "stdout",
          "output_type": "stream",
          "text": [
            "Epoch 486/100, training loss: 1.685962472579269, validation loss: 1.7200508348977388\n"
          ]
        },
        {
          "name": "stderr",
          "output_type": "stream",
          "text": [
            "Epoch 487/100: 100%|██████████| 533/533 [00:02<00:00, 234.98it/s]\n"
          ]
        },
        {
          "name": "stdout",
          "output_type": "stream",
          "text": [
            "Epoch 487/100, training loss: 1.684310218406663, validation loss: 1.7215873785872957\n"
          ]
        },
        {
          "name": "stderr",
          "output_type": "stream",
          "text": [
            "Epoch 488/100: 100%|██████████| 533/533 [00:02<00:00, 216.89it/s]\n"
          ]
        },
        {
          "name": "stdout",
          "output_type": "stream",
          "text": [
            "Epoch 488/100, training loss: 1.6846097164261409, validation loss: 1.7215256726563866\n"
          ]
        },
        {
          "name": "stderr",
          "output_type": "stream",
          "text": [
            "Epoch 489/100: 100%|██████████| 533/533 [00:02<00:00, 214.81it/s]\n"
          ]
        },
        {
          "name": "stdout",
          "output_type": "stream",
          "text": [
            "Epoch 489/100, training loss: 1.6859408102608084, validation loss: 1.7199388066334511\n"
          ]
        },
        {
          "name": "stderr",
          "output_type": "stream",
          "text": [
            "Epoch 490/100: 100%|██████████| 533/533 [00:03<00:00, 177.50it/s]\n"
          ]
        },
        {
          "name": "stdout",
          "output_type": "stream",
          "text": [
            "Epoch 490/100, training loss: 1.6843635655701943, validation loss: 1.722836538926879\n"
          ]
        },
        {
          "name": "stderr",
          "output_type": "stream",
          "text": [
            "Epoch 491/100: 100%|██████████| 533/533 [00:02<00:00, 211.33it/s]\n"
          ]
        },
        {
          "name": "stdout",
          "output_type": "stream",
          "text": [
            "Epoch 491/100, training loss: 1.6845799937257175, validation loss: 1.7240623093363066\n"
          ]
        },
        {
          "name": "stderr",
          "output_type": "stream",
          "text": [
            "Epoch 492/100: 100%|██████████| 533/533 [00:02<00:00, 178.68it/s]\n"
          ]
        },
        {
          "name": "stdout",
          "output_type": "stream",
          "text": [
            "Epoch 492/100, training loss: 1.684519733094364, validation loss: 1.7225463016709286\n"
          ]
        },
        {
          "name": "stderr",
          "output_type": "stream",
          "text": [
            "Epoch 493/100: 100%|██████████| 533/533 [00:02<00:00, 191.11it/s]\n"
          ]
        },
        {
          "name": "stdout",
          "output_type": "stream",
          "text": [
            "Epoch 493/100, training loss: 1.6848912082514664, validation loss: 1.7213456897593256\n"
          ]
        },
        {
          "name": "stderr",
          "output_type": "stream",
          "text": [
            "Epoch 494/100: 100%|██████████| 533/533 [00:02<00:00, 226.68it/s]\n"
          ]
        },
        {
          "name": "stdout",
          "output_type": "stream",
          "text": [
            "Epoch 494/100, training loss: 1.6843771637045197, validation loss: 1.7195859845004864\n"
          ]
        },
        {
          "name": "stderr",
          "output_type": "stream",
          "text": [
            "Epoch 495/100: 100%|██████████| 533/533 [00:02<00:00, 222.60it/s]\n"
          ]
        },
        {
          "name": "stdout",
          "output_type": "stream",
          "text": [
            "Epoch 495/100, training loss: 1.6877882084748088, validation loss: 1.723670894530282\n"
          ]
        },
        {
          "name": "stderr",
          "output_type": "stream",
          "text": [
            "Epoch 496/100: 100%|██████████| 533/533 [00:02<00:00, 219.25it/s]\n"
          ]
        },
        {
          "name": "stdout",
          "output_type": "stream",
          "text": [
            "Epoch 496/100, training loss: 1.6864967303696539, validation loss: 1.7202804382167645\n"
          ]
        },
        {
          "name": "stderr",
          "output_type": "stream",
          "text": [
            "Epoch 497/100: 100%|██████████| 533/533 [00:02<00:00, 203.80it/s]\n"
          ]
        },
        {
          "name": "stdout",
          "output_type": "stream",
          "text": [
            "Epoch 497/100, training loss: 1.6847546462941125, validation loss: 1.720147059924567\n"
          ]
        },
        {
          "name": "stderr",
          "output_type": "stream",
          "text": [
            "Epoch 498/100: 100%|██████████| 533/533 [00:02<00:00, 209.41it/s]\n"
          ]
        },
        {
          "name": "stdout",
          "output_type": "stream",
          "text": [
            "Epoch 498/100, training loss: 1.6845255604828053, validation loss: 1.721183076723298\n"
          ]
        },
        {
          "name": "stderr",
          "output_type": "stream",
          "text": [
            "Epoch 499/100: 100%|██████████| 533/533 [00:03<00:00, 165.65it/s]\n"
          ]
        },
        {
          "name": "stdout",
          "output_type": "stream",
          "text": [
            "Epoch 499/100, training loss: 1.6876135751409334, validation loss: 1.7198952970220083\n"
          ]
        },
        {
          "name": "stderr",
          "output_type": "stream",
          "text": [
            "Epoch 500/100: 100%|██████████| 533/533 [00:02<00:00, 210.44it/s]\n"
          ]
        },
        {
          "name": "stdout",
          "output_type": "stream",
          "text": [
            "Epoch 500/100, training loss: 1.6849799959118326, validation loss: 1.7209244361564295\n"
          ]
        }
      ],
      "source": [
        "import torch\n",
        "import torch.nn as nn\n",
        "import torch.optim as optim\n",
        "from torch.utils.data import TensorDataset, DataLoader\n",
        "from tqdm import tqdm\n",
        "import matplotlib.pyplot as plt\n",
        "\n",
        "# Define the neural network\n",
        "class Net(nn.Module):\n",
        "    def __init__(self, input_size, hidden_size):\n",
        "        super(Net, self).__init__()\n",
        "        self.fc1 = nn.Linear(X_train.shape[1], 100)\n",
        "        self.fc4 = nn.Linear(100, 50)\n",
        "        self.bn4 = nn.BatchNorm1d(50)\n",
        "        self.dropout4 = nn.Dropout(0.5)\n",
        "        self.fc9 = nn.Linear(50, 10)\n",
        "        self.softmax = nn.Softmax(dim=1)\n",
        "\n",
        "    def forward(self, x):\n",
        "        x = self.fc1(x)\n",
        "        x = self.bn4(self.fc4(torch.relu(x)))\n",
        "        x = self.dropout4(torch.relu(x))\n",
        "        x = self.fc9(torch.relu(x))\n",
        "        x = self.softmax(x)\n",
        "        return x\n",
        "\n",
        "\n",
        "# Create the neural network\n",
        "input_size = X_train.shape[1]\n",
        "hidden_size = 64\n",
        "model = Net(input_size, hidden_size)\n",
        "\n",
        "# Move the neural network to GPU\n",
        "device = torch.device('cuda' if torch.cuda.is_available() else 'cpu')\n",
        "model = model.to(device)\n",
        "\n",
        "# Convert the data to PyTorch tensors and move them to GPU\n",
        "X_train_tensor = torch.from_numpy(X_train.values).float().to(device)\n",
        "y_train_tensor = torch.from_numpy(y_train.values).to(device)\n",
        "X_val_tensor = torch.from_numpy(X_val.values).float().to(device)\n",
        "y_val_tensor = torch.from_numpy(y_val.values).to(device)\n",
        "X_test_tensor = torch.from_numpy(X_test.values).float().to(device)\n",
        "y_test_tensor = torch.from_numpy(y_test.values).to(device)\n",
        "\n",
        "# Create the DataLoaders\n",
        "train_dataset = TensorDataset(X_train_tensor, y_train_tensor)\n",
        "val_dataset = TensorDataset(X_val_tensor, y_val_tensor)\n",
        "test_dataset = TensorDataset(X_test_tensor, y_test_tensor)\n",
        "\n",
        "train_loader = DataLoader(train_dataset, batch_size=32, shuffle=True)\n",
        "val_loader = DataLoader(val_dataset, batch_size=32, shuffle=False)\n",
        "test_loader = DataLoader(test_dataset, batch_size=32, shuffle=False)\n",
        "\n",
        "# Define the loss function and the optimizer\n",
        "criterion = nn.CrossEntropyLoss()\n",
        "optimizer = optim.Adam(model.parameters(), lr=0.0005)\n",
        "\n",
        "# Lists to store the training and validation losses\n",
        "train_losses = []\n",
        "val_losses = []\n",
        "best_val_loss = float('inf')\n",
        "\n",
        "# Initialize the best model parameters to None\n",
        "best_model_params = None\n",
        "\n",
        "\n",
        "# Train the neural network\n",
        "for epoch in range(500):\n",
        "    model.train()\n",
        "    train_loss = 0\n",
        "    for inputs, targets in tqdm(train_loader, desc=f'Epoch {epoch+1}/100'):\n",
        "        optimizer.zero_grad()\n",
        "        outputs = model(inputs)\n",
        "        loss = criterion(outputs, targets)\n",
        "        loss.backward()\n",
        "        optimizer.step()\n",
        "        train_loss += loss.item()\n",
        "    train_losses.append(train_loss / len(train_loader))\n",
        "\n",
        "    # Validate the neural network\n",
        "    model.eval()\n",
        "    with torch.no_grad():\n",
        "        val_loss = 0\n",
        "        for inputs, targets in val_loader:\n",
        "            outputs = model(inputs)\n",
        "            loss = criterion(outputs, targets)\n",
        "            val_loss += loss.item()\n",
        "        val_losses.append(val_loss / len(val_loader))\n",
        "\n",
        "    print(f'Epoch {epoch+1}/100, training loss: {train_loss / len(train_loader)}, validation loss: {val_loss / len(val_loader)}')\n",
        "\n",
        "    if val_loss / len(val_loader) < best_val_loss:\n",
        "        best_val_loss = val_loss / len(val_loader)\n",
        "        best_model_params = model.state_dict()"
      ]
    },
    {
      "cell_type": "code",
      "execution_count": null,
      "metadata": {
        "id": "g8e8IpZtiBgZ",
        "outputId": "ebdf0f57-0d40-4651-dd53-0adf906189f5"
      },
      "outputs": [
        {
          "name": "stdout",
          "output_type": "stream",
          "text": [
            "Test loss: 1.7128\n"
          ]
        },
        {
          "data": {
            "image/png": "[encoded data removed]",
            "text/plain": [
              "<Figure size 1440x1080 with 1 Axes>"
            ]
          },
          "metadata": {
            "needs_background": "light"
          },
          "output_type": "display_data"
        }
      ],
      "source": [
        "model.load_state_dict(best_model_params)\n",
        "\n",
        "# Test the neural network\n",
        "model.eval()\n",
        "with torch.no_grad():\n",
        "    total_loss = 0\n",
        "    for inputs, targets in test_loader:\n",
        "        outputs = model(inputs)\n",
        "        loss = criterion(outputs, targets)\n",
        "        total_loss += loss.item()\n",
        "\n",
        "print('Test loss: %.4f' % (total_loss / len(test_loader)))\n",
        "\n",
        "# Plot the training and validation losses\n",
        "plt.figure(figsize=(20, 15))\n",
        "plt.plot(train_losses, label='Training loss')\n",
        "plt.plot(val_losses, label='Validation loss')\n",
        "plt.title('Training and validation loss')\n",
        "plt.xlabel('Epoch')\n",
        "plt.ylabel('Loss')\n",
        "plt.legend()\n",
        "plt.show()"
      ]
    },
    {
      "cell_type": "code",
      "execution_count": null,
      "metadata": {
        "id": "Mjky-g_NiBgZ",
        "outputId": "fdf458ad-f131-49f9-c3d7-27031f2b54d1"
      },
      "outputs": [
        {
          "name": "stdout",
          "output_type": "stream",
          "text": [
            "Test loss: 1.7128\n",
            "Accuracy: 0.7443\n"
          ]
        }
      ],
      "source": [
        "# Load the best model parameters\n",
        "model.load_state_dict(best_model_params)\n",
        "model.eval()\n",
        "with torch.no_grad():\n",
        "    total_loss = 0\n",
        "    all_predictions = []\n",
        "    all_targets = []\n",
        "    for inputs, targets in test_loader:\n",
        "        outputs = model(inputs)\n",
        "        loss = criterion(outputs, targets)\n",
        "        total_loss += loss.item()\n",
        "        all_predictions.append(outputs.argmax(dim=1))\n",
        "        all_targets.append(targets)\n",
        "\n",
        "# Calculate accuracy\n",
        "predictions = torch.cat(all_predictions).cpu().numpy()\n",
        "targets = torch.cat(all_targets).cpu().numpy()\n",
        "accuracy = np.mean(predictions == targets)\n",
        "\n",
        "print('Test loss: %.4f' % (total_loss / len(test_loader)))\n",
        "print('Accuracy: %.4f' % accuracy)"
      ]
    },
    {
      "cell_type": "markdown",
      "metadata": {
        "id": "H5jHjPeLiBgZ"
      },
      "source": [
        "# Evaluating probabilities with death events"
      ]
    },
    {
      "cell_type": "code",
      "execution_count": null,
      "metadata": {
        "id": "y74e4xoCiBga"
      },
      "outputs": [],
      "source": [
        "y_test_binary_tensor = torch.from_numpy(X_test_binary.values).to(device)\n",
        "\n",
        "test_dataset = TensorDataset(X_test_tensor, y_test_binary_tensor)\n",
        "\n",
        "test_loader = DataLoader(test_dataset, batch_size=32, shuffle=False)"
      ]
    },
    {
      "cell_type": "code",
      "execution_count": null,
      "metadata": {
        "id": "cDpQFArYiBga",
        "outputId": "d34ed0a4-2a52-484d-9d05-98ff975e20a4"
      },
      "outputs": [
        {
          "name": "stdout",
          "output_type": "stream",
          "text": [
            "Test loss: 1.6427\n",
            "Accuracy: 0.9086\n",
            "Recall (0): 0.9774\n",
            "Recall (1): 0.2544\n",
            "F1 score (0): 0.9508\n",
            "F1 score (1): 0.3463\n"
          ]
        }
      ],
      "source": [
        "from sklearn.metrics import recall_score, f1_score\n",
        "\n",
        "# Load the best model parameters\n",
        "model.load_state_dict(best_model_params)\n",
        "model.eval()\n",
        "\n",
        "thresholds = list(range(10))\n",
        "recall_values = []\n",
        "\n",
        "with torch.no_grad():\n",
        "    total_loss = 0\n",
        "    all_predictions = []\n",
        "    all_targets = []\n",
        "    for inputs, targets in test_loader:\n",
        "        outputs = model(inputs)\n",
        "        loss = criterion(outputs, targets)\n",
        "        total_loss += loss.item()\n",
        "        # Convert model predictions to binary targets\n",
        "        binary_predictions = (outputs.argmax(dim=1) > 2).float()\n",
        "\n",
        "        all_predictions.append(binary_predictions)\n",
        "        all_targets.append(targets)\n",
        "\n",
        "# Calculate accuracy\n",
        "predictions = torch.cat(all_predictions).cpu().numpy()\n",
        "targets = torch.cat(all_targets).cpu().numpy()\n",
        "accuracy = np.mean(predictions == targets)\n",
        "\n",
        "# Calculate recall and F1 score\n",
        "recall_0 = recall_score(targets, predictions, pos_label=0)\n",
        "recall_1 = recall_score(targets, predictions, pos_label=1)\n",
        "f1_0 = f1_score(targets, predictions, pos_label=0)\n",
        "f1_1 = f1_score(targets, predictions, pos_label=1)\n",
        "\n",
        "print('Test loss: %.4f' % (total_loss / len(test_loader)))\n",
        "print('Accuracy: %.4f' % accuracy)\n",
        "print('Recall (0): %.4f' % recall_0)\n",
        "print('Recall (1): %.4f' % recall_1)\n",
        "print('F1 score (0): %.4f' % f1_0)\n",
        "print('F1 score (1): %.4f' % f1_1)"
      ]
    },
    {
      "cell_type": "code",
      "execution_count": null,
      "metadata": {
        "id": "SNmrQBF5iBga",
        "outputId": "ab20cdc3-cc6c-469e-e471-512bdffed74e"
      },
      "outputs": [
        {
          "data": {
            "image/png": "[encoded data removed]",
            "text/plain": [
              "<Figure size 1080x864 with 1 Axes>"
            ]
          },
          "metadata": {
            "needs_background": "light"
          },
          "output_type": "display_data"
        }
      ],
      "source": [
        "from sklearn.metrics import recall_score, f1_score\n",
        "\n",
        "# Load the best model parameters\n",
        "model.load_state_dict(best_model_params)\n",
        "model.eval()\n",
        "\n",
        "thresholds = list(range(10))\n",
        "thresholds_binary_predictions = [list() for i in range(10)]\n",
        "recall_values = []\n",
        "\n",
        "with torch.no_grad():\n",
        "    total_loss = 0\n",
        "    all_predictions = []\n",
        "    all_targets = []\n",
        "    for inputs, targets in test_loader:\n",
        "        outputs = model(inputs)\n",
        "        loss = criterion(outputs, targets)\n",
        "        total_loss += loss.item()\n",
        "        # Convert model predictions to binary targets\n",
        "        for threshold in thresholds:\n",
        "            binary_predictions = (outputs.argmax(dim=1) > threshold).float()\n",
        "            thresholds_binary_predictions[threshold].append(binary_predictions)\n",
        "\n",
        "        all_targets.append(targets)\n",
        "\n",
        "# Calculate accuracy\n",
        "targets = torch.cat(all_targets).cpu().numpy()\n",
        "\n",
        "for threshold in thresholds:\n",
        "    predictions = torch.cat(thresholds_binary_predictions[threshold]).cpu().numpy()\n",
        "    recall_values.append(recall_score(targets, predictions, pos_label=1))\n",
        "\n",
        "# Plot recall values against thresholds\n",
        "plt.figure(figsize=(15, 12))\n",
        "plt.plot(thresholds, recall_values)\n",
        "plt.xlabel('Threshold')\n",
        "plt.ylabel('Recall')\n",
        "plt.title('Recall(1) for different thresholds')\n",
        "plt.show()"
      ]
    }
  ],
  "metadata": {
    "colab": {
      "provenance": [],
      "include_colab_link": true
    },
    "kernelspec": {
      "display_name": "base",
      "language": "python",
      "name": "python3"
    },
    "language_info": {
      "codemirror_mode": {
        "name": "ipython",
        "version": 3
      },
      "file_extension": ".py",
      "mimetype": "text/x-python",
      "name": "python",
      "nbconvert_exporter": "python",
      "pygments_lexer": "ipython3",
      "version": "3.9.7"
    }
  },
  "nbformat": 4,
  "nbformat_minor": 0
}